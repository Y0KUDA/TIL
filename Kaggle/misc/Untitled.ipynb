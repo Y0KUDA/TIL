{
 "cells": [
  {
   "cell_type": "markdown",
   "metadata": {
    "slideshow": {
     "slide_type": "slide"
    }
   },
   "source": [
    "xrandr --output HDMI-1 --auto"
   ]
  },
  {
   "cell_type": "code",
   "execution_count": null,
   "metadata": {},
   "outputs": [],
   "source": []
  },
  {
   "cell_type": "code",
   "execution_count": null,
   "metadata": {},
   "outputs": [],
   "source": []
  },
  {
   "cell_type": "markdown",
   "metadata": {
    "slideshow": {
     "slide_type": "slide"
    }
   },
   "source": [
    "\n",
    "# KaggleのTitanicをやり始めるまでの話"
   ]
  },
  {
   "cell_type": "markdown",
   "metadata": {
    "slideshow": {
     "slide_type": "fragment"
    }
   },
   "source": [
    "### Kaggle\n",
    "データ分析コンペのプラットフォーム\n",
    "### Titanic\n",
    "Kaggleのチュートリアル的なコンペ"
   ]
  },
  {
   "cell_type": "markdown",
   "metadata": {
    "slideshow": {
     "slide_type": "slide"
    }
   },
   "source": [
    "## 技術書典で本を買いました\n",
    "* PythonによるKaggleのチュートリアル"
   ]
  },
  {
   "cell_type": "markdown",
   "metadata": {
    "slideshow": {
     "slide_type": "-"
    }
   },
   "source": [
    "![](./py_kaggle.jpg)"
   ]
  },
  {
   "cell_type": "markdown",
   "metadata": {
    "slideshow": {
     "slide_type": "slide"
    }
   },
   "source": [
    " ## ところで・・・\n",
    " 最近Juliaという言語が気になってます。"
   ]
  },
  {
   "cell_type": "markdown",
   "metadata": {
    "slideshow": {
     "slide_type": "slide"
    }
   },
   "source": [
    "## ということで\n",
    "KaggleとJuliaに同時に入門しました。"
   ]
  },
  {
   "cell_type": "markdown",
   "metadata": {
    "slideshow": {
     "slide_type": "slide"
    }
   },
   "source": [
    "## 目次\n",
    "1. Juliaとは\n",
    "1. 環境\n",
    "1. Kaggleとは\n",
    "1. Titanicとは\n",
    "1. Titanicを解いてみる"
   ]
  },
  {
   "cell_type": "markdown",
   "metadata": {
    "slideshow": {
     "slide_type": "slide"
    }
   },
   "source": [
    "# Juliaとは"
   ]
  },
  {
   "cell_type": "markdown",
   "metadata": {
    "slideshow": {
     "slide_type": "slide"
    }
   },
   "source": [
    "## Julia言語の特徴\n",
    "* 速い\n",
    "* Python資産を利用可能\n",
    "* データの可視化が容易"
   ]
  },
  {
   "cell_type": "code",
   "execution_count": 22,
   "metadata": {},
   "outputs": [
    {
     "name": "stdout",
     "output_type": "stream",
     "text": [
      "Hello　World"
     ]
    }
   ],
   "source": [
    "print(\"Hello　World\")"
   ]
  },
  {
   "cell_type": "markdown",
   "metadata": {
    "slideshow": {
     "slide_type": "slide"
    }
   },
   "source": [
    "## どのぐらい速いか\n",
    "fib(n)をPython, R, Juliaで比較してみた  \n",
    "[Python](http://localhost:8888/notebooks/work/fib_py.ipynb)\n",
    "```Python\n",
    "def fib(n):\n",
    "    return 1 if n<=1 else fib(n-2) + fib(n-1)\n",
    "```\n",
    "\n",
    "[R](http://localhost:8888/notebooks/work/fib_r.ipynb)\n",
    "```R\n",
    "fib <- function(n)ifelse(n<=1,1,fib(n-2)+fib(n-1))\n",
    "```\n",
    "\n",
    "[Julia](http://localhost:8888/notebooks/work/fib_jl.ipynb)\n",
    "```Julia\n",
    "fib(n) = n<=1 ? 1 : fib(n-2)+fib(n-1)\n",
    "```\n"
   ]
  },
  {
   "cell_type": "markdown",
   "metadata": {
    "slideshow": {
     "slide_type": "slide"
    }
   },
   "source": [
    "## 結果"
   ]
  },
  {
   "cell_type": "code",
   "execution_count": 1,
   "metadata": {
    "slideshow": {
     "slide_type": "skip"
    }
   },
   "outputs": [
    {
     "data": {
      "text/plain": [
       "Plots.GRBackend()"
      ]
     },
     "execution_count": 1,
     "metadata": {},
     "output_type": "execute_result"
    }
   ],
   "source": [
    "using CSV\n",
    "using Plots\n",
    "using GR\n",
    "gr()"
   ]
  },
  {
   "cell_type": "code",
   "execution_count": 2,
   "metadata": {
    "scrolled": false,
    "slideshow": {
     "slide_type": "-"
    }
   },
   "outputs": [
    {
     "data": {
      "image/svg+xml": [
       "<?xml version=\"1.0\" encoding=\"utf-8\"?>\n",
       "<svg xmlns=\"http://www.w3.org/2000/svg\" xmlns:xlink=\"http://www.w3.org/1999/xlink\" width=\"600\" height=\"400\" viewBox=\"0 0 2400 1600\">\n",
       "<defs>\n",
       "  <clipPath id=\"clip9500\">\n",
       "    <rect x=\"0\" y=\"0\" width=\"2000\" height=\"2000\"/>\n",
       "  </clipPath>\n",
       "</defs>\n",
       "<defs>\n",
       "  <clipPath id=\"clip9501\">\n",
       "    <rect x=\"0\" y=\"0\" width=\"2400\" height=\"1600\"/>\n",
       "  </clipPath>\n",
       "</defs>\n",
       "<polygon clip-path=\"url(#clip9501)\" points=\"\n",
       "0,1600 2400,1600 2400,0 0,0 \n",
       "  \" fill=\"#ffffff\" fill-rule=\"evenodd\" fill-opacity=\"1\"/>\n",
       "<defs>\n",
       "  <clipPath id=\"clip9502\">\n",
       "    <rect x=\"480\" y=\"0\" width=\"1681\" height=\"1600\"/>\n",
       "  </clipPath>\n",
       "</defs>\n",
       "<polygon clip-path=\"url(#clip9501)\" points=\"\n",
       "148.013,1503.47 2321.26,1503.47 2321.26,47.2441 148.013,47.2441 \n",
       "  \" fill=\"#ffffff\" fill-rule=\"evenodd\" fill-opacity=\"1\"/>\n",
       "<defs>\n",
       "  <clipPath id=\"clip9503\">\n",
       "    <rect x=\"148\" y=\"47\" width=\"2174\" height=\"1457\"/>\n",
       "  </clipPath>\n",
       "</defs>\n",
       "<polyline clip-path=\"url(#clip9503)\" style=\"stroke:#000000; stroke-width:2; stroke-opacity:0.1; fill:none\" points=\"\n",
       "  156.95,1503.47 156.95,47.2441 \n",
       "  \"/>\n",
       "<polyline clip-path=\"url(#clip9503)\" style=\"stroke:#000000; stroke-width:2; stroke-opacity:0.1; fill:none\" points=\"\n",
       "  682.651,1503.47 682.651,47.2441 \n",
       "  \"/>\n",
       "<polyline clip-path=\"url(#clip9503)\" style=\"stroke:#000000; stroke-width:2; stroke-opacity:0.1; fill:none\" points=\"\n",
       "  1208.35,1503.47 1208.35,47.2441 \n",
       "  \"/>\n",
       "<polyline clip-path=\"url(#clip9503)\" style=\"stroke:#000000; stroke-width:2; stroke-opacity:0.1; fill:none\" points=\"\n",
       "  1734.05,1503.47 1734.05,47.2441 \n",
       "  \"/>\n",
       "<polyline clip-path=\"url(#clip9503)\" style=\"stroke:#000000; stroke-width:2; stroke-opacity:0.1; fill:none\" points=\"\n",
       "  2259.75,1503.47 2259.75,47.2441 \n",
       "  \"/>\n",
       "<polyline clip-path=\"url(#clip9503)\" style=\"stroke:#000000; stroke-width:2; stroke-opacity:0.1; fill:none\" points=\"\n",
       "  148.013,1462.26 2321.26,1462.26 \n",
       "  \"/>\n",
       "<polyline clip-path=\"url(#clip9503)\" style=\"stroke:#000000; stroke-width:2; stroke-opacity:0.1; fill:none\" points=\"\n",
       "  148.013,1155.7 2321.26,1155.7 \n",
       "  \"/>\n",
       "<polyline clip-path=\"url(#clip9503)\" style=\"stroke:#000000; stroke-width:2; stroke-opacity:0.1; fill:none\" points=\"\n",
       "  148.013,849.148 2321.26,849.148 \n",
       "  \"/>\n",
       "<polyline clip-path=\"url(#clip9503)\" style=\"stroke:#000000; stroke-width:2; stroke-opacity:0.1; fill:none\" points=\"\n",
       "  148.013,542.591 2321.26,542.591 \n",
       "  \"/>\n",
       "<polyline clip-path=\"url(#clip9503)\" style=\"stroke:#000000; stroke-width:2; stroke-opacity:0.1; fill:none\" points=\"\n",
       "  148.013,236.034 2321.26,236.034 \n",
       "  \"/>\n",
       "<polyline clip-path=\"url(#clip9501)\" style=\"stroke:#000000; stroke-width:4; stroke-opacity:1; fill:none\" points=\"\n",
       "  148.013,1503.47 2321.26,1503.47 \n",
       "  \"/>\n",
       "<polyline clip-path=\"url(#clip9501)\" style=\"stroke:#000000; stroke-width:4; stroke-opacity:1; fill:none\" points=\"\n",
       "  148.013,1503.47 148.013,47.2441 \n",
       "  \"/>\n",
       "<polyline clip-path=\"url(#clip9501)\" style=\"stroke:#000000; stroke-width:4; stroke-opacity:1; fill:none\" points=\"\n",
       "  156.95,1503.47 156.95,1481.63 \n",
       "  \"/>\n",
       "<polyline clip-path=\"url(#clip9501)\" style=\"stroke:#000000; stroke-width:4; stroke-opacity:1; fill:none\" points=\"\n",
       "  682.651,1503.47 682.651,1481.63 \n",
       "  \"/>\n",
       "<polyline clip-path=\"url(#clip9501)\" style=\"stroke:#000000; stroke-width:4; stroke-opacity:1; fill:none\" points=\"\n",
       "  1208.35,1503.47 1208.35,1481.63 \n",
       "  \"/>\n",
       "<polyline clip-path=\"url(#clip9501)\" style=\"stroke:#000000; stroke-width:4; stroke-opacity:1; fill:none\" points=\"\n",
       "  1734.05,1503.47 1734.05,1481.63 \n",
       "  \"/>\n",
       "<polyline clip-path=\"url(#clip9501)\" style=\"stroke:#000000; stroke-width:4; stroke-opacity:1; fill:none\" points=\"\n",
       "  2259.75,1503.47 2259.75,1481.63 \n",
       "  \"/>\n",
       "<polyline clip-path=\"url(#clip9501)\" style=\"stroke:#000000; stroke-width:4; stroke-opacity:1; fill:none\" points=\"\n",
       "  148.013,1462.26 180.612,1462.26 \n",
       "  \"/>\n",
       "<polyline clip-path=\"url(#clip9501)\" style=\"stroke:#000000; stroke-width:4; stroke-opacity:1; fill:none\" points=\"\n",
       "  148.013,1155.7 180.612,1155.7 \n",
       "  \"/>\n",
       "<polyline clip-path=\"url(#clip9501)\" style=\"stroke:#000000; stroke-width:4; stroke-opacity:1; fill:none\" points=\"\n",
       "  148.013,849.148 180.612,849.148 \n",
       "  \"/>\n",
       "<polyline clip-path=\"url(#clip9501)\" style=\"stroke:#000000; stroke-width:4; stroke-opacity:1; fill:none\" points=\"\n",
       "  148.013,542.591 180.612,542.591 \n",
       "  \"/>\n",
       "<polyline clip-path=\"url(#clip9501)\" style=\"stroke:#000000; stroke-width:4; stroke-opacity:1; fill:none\" points=\"\n",
       "  148.013,236.034 180.612,236.034 \n",
       "  \"/>\n",
       "<g clip-path=\"url(#clip9501)\">\n",
       "<text style=\"fill:#000000; fill-opacity:1; font-family:Arial,Helvetica Neue,Helvetica,sans-serif; font-size:48px; text-anchor:middle;\" transform=\"rotate(0, 156.95, 1557.47)\" x=\"156.95\" y=\"1557.47\">0</text>\n",
       "</g>\n",
       "<g clip-path=\"url(#clip9501)\">\n",
       "<text style=\"fill:#000000; fill-opacity:1; font-family:Arial,Helvetica Neue,Helvetica,sans-serif; font-size:48px; text-anchor:middle;\" transform=\"rotate(0, 682.651, 1557.47)\" x=\"682.651\" y=\"1557.47\">10</text>\n",
       "</g>\n",
       "<g clip-path=\"url(#clip9501)\">\n",
       "<text style=\"fill:#000000; fill-opacity:1; font-family:Arial,Helvetica Neue,Helvetica,sans-serif; font-size:48px; text-anchor:middle;\" transform=\"rotate(0, 1208.35, 1557.47)\" x=\"1208.35\" y=\"1557.47\">20</text>\n",
       "</g>\n",
       "<g clip-path=\"url(#clip9501)\">\n",
       "<text style=\"fill:#000000; fill-opacity:1; font-family:Arial,Helvetica Neue,Helvetica,sans-serif; font-size:48px; text-anchor:middle;\" transform=\"rotate(0, 1734.05, 1557.47)\" x=\"1734.05\" y=\"1557.47\">30</text>\n",
       "</g>\n",
       "<g clip-path=\"url(#clip9501)\">\n",
       "<text style=\"fill:#000000; fill-opacity:1; font-family:Arial,Helvetica Neue,Helvetica,sans-serif; font-size:48px; text-anchor:middle;\" transform=\"rotate(0, 2259.75, 1557.47)\" x=\"2259.75\" y=\"1557.47\">40</text>\n",
       "</g>\n",
       "<g clip-path=\"url(#clip9501)\">\n",
       "<text style=\"fill:#000000; fill-opacity:1; font-family:Arial,Helvetica Neue,Helvetica,sans-serif; font-size:48px; text-anchor:end;\" transform=\"rotate(0, 124.013, 1479.76)\" x=\"124.013\" y=\"1479.76\">0</text>\n",
       "</g>\n",
       "<g clip-path=\"url(#clip9501)\">\n",
       "<text style=\"fill:#000000; fill-opacity:1; font-family:Arial,Helvetica Neue,Helvetica,sans-serif; font-size:48px; text-anchor:end;\" transform=\"rotate(0, 124.013, 1173.2)\" x=\"124.013\" y=\"1173.2\">5</text>\n",
       "</g>\n",
       "<g clip-path=\"url(#clip9501)\">\n",
       "<text style=\"fill:#000000; fill-opacity:1; font-family:Arial,Helvetica Neue,Helvetica,sans-serif; font-size:48px; text-anchor:end;\" transform=\"rotate(0, 124.013, 866.648)\" x=\"124.013\" y=\"866.648\">10</text>\n",
       "</g>\n",
       "<g clip-path=\"url(#clip9501)\">\n",
       "<text style=\"fill:#000000; fill-opacity:1; font-family:Arial,Helvetica Neue,Helvetica,sans-serif; font-size:48px; text-anchor:end;\" transform=\"rotate(0, 124.013, 560.091)\" x=\"124.013\" y=\"560.091\">15</text>\n",
       "</g>\n",
       "<g clip-path=\"url(#clip9501)\">\n",
       "<text style=\"fill:#000000; fill-opacity:1; font-family:Arial,Helvetica Neue,Helvetica,sans-serif; font-size:48px; text-anchor:end;\" transform=\"rotate(0, 124.013, 253.534)\" x=\"124.013\" y=\"253.534\">20</text>\n",
       "</g>\n",
       "<polyline clip-path=\"url(#clip9503)\" style=\"stroke:#009af9; stroke-width:20; stroke-opacity:1; fill:none\" points=\"\n",
       "  209.52,1462.26 262.09,1462.26 314.66,1462.26 367.23,1462.26 419.8,1462.26 472.37,1462.2 524.94,1462.2 577.51,1462.2 630.08,1462.14 682.651,1462.14 \n",
       "  735.221,1461.95 787.791,1461.77 840.361,1461.65 892.931,1461.46 945.501,1461.34 998.071,1460.67 1050.64,1459.44 1103.21,1457.72 1155.78,1455.58 1208.35,1451.72 \n",
       "  1260.92,1444.73 1313.49,1433.14 1366.06,1414.93 1418.63,1379.86 1471.2,1340.8 1523.77,1262.75 1576.34,1137.37 1628.91,943.444 1681.48,614.387 1734.05,88.4582 \n",
       "  \n",
       "  \"/>\n",
       "<polyline clip-path=\"url(#clip9503)\" style=\"stroke:#e26f46; stroke-width:20; stroke-opacity:1; fill:none\" points=\"\n",
       "  209.52,1462.26 262.09,1462.26 314.66,1462.26 367.23,1462.26 419.8,1462.26 472.37,1462.26 524.94,1462.26 577.51,1462.26 630.08,1462.26 682.651,1462.26 \n",
       "  735.221,1462.26 787.791,1462.25 840.361,1462.25 892.931,1462.24 945.501,1462.23 998.071,1462.21 1050.64,1462.17 1103.21,1462.05 1155.78,1462 1208.35,1461.6 \n",
       "  1260.92,1461.51 1313.49,1461.26 1366.06,1460.79 1418.63,1459.78 1471.2,1458.45 1523.77,1455.96 1576.34,1452.06 1628.91,1445.72 1681.48,1435.55 1734.05,1418.87 \n",
       "  1786.62,1392.65 1839.19,1349.75 1891.76,1275.85 1944.33,1165.82 1996.9,987.062 \n",
       "  \"/>\n",
       "<polyline clip-path=\"url(#clip9503)\" style=\"stroke:#3da44d; stroke-width:20; stroke-opacity:1; fill:none\" points=\"\n",
       "  209.52,1462.26 262.09,1462.26 314.66,1462.26 367.23,1462.26 419.8,1462.26 472.37,1462.26 524.94,1462.26 577.51,1462.26 630.08,1462.26 682.651,1462.26 \n",
       "  735.221,1462.26 787.791,1462.26 840.361,1462.26 892.931,1462.26 945.501,1462.26 998.071,1462.26 1050.64,1462.26 1103.21,1462.26 1155.78,1462.26 1208.35,1462.26 \n",
       "  1260.92,1462.26 1313.49,1462.26 1366.06,1462.2 1418.63,1462.26 1471.2,1462.2 1523.77,1462.2 1576.34,1462.14 1628.91,1462.08 1681.48,1461.95 1734.05,1461.71 \n",
       "  1786.62,1461.4 1839.19,1460.91 1891.76,1460.11 1944.33,1458.7 1996.9,1456.56 2049.47,1452.88 2102.04,1446.99 2154.61,1436.82 2207.18,1422.59 2259.75,1398.19 \n",
       "  \n",
       "  \"/>\n",
       "<polygon clip-path=\"url(#clip9501)\" points=\"\n",
       "1859.42,372.684 2249.26,372.684 2249.26,130.764 1859.42,130.764 \n",
       "  \" fill=\"#ffffff\" fill-rule=\"evenodd\" fill-opacity=\"1\"/>\n",
       "<polyline clip-path=\"url(#clip9501)\" style=\"stroke:#000000; stroke-width:4; stroke-opacity:1; fill:none\" points=\"\n",
       "  1859.42,372.684 2249.26,372.684 2249.26,130.764 1859.42,130.764 1859.42,372.684 \n",
       "  \"/>\n",
       "<polyline clip-path=\"url(#clip9501)\" style=\"stroke:#009af9; stroke-width:20; stroke-opacity:1; fill:none\" points=\"\n",
       "  1883.42,191.244 2027.42,191.244 \n",
       "  \"/>\n",
       "<g clip-path=\"url(#clip9501)\">\n",
       "<text style=\"fill:#000000; fill-opacity:1; font-family:Arial,Helvetica Neue,Helvetica,sans-serif; font-size:48px; text-anchor:start;\" transform=\"rotate(0, 2051.42, 208.744)\" x=\"2051.42\" y=\"208.744\">R</text>\n",
       "</g>\n",
       "<polyline clip-path=\"url(#clip9501)\" style=\"stroke:#e26f46; stroke-width:20; stroke-opacity:1; fill:none\" points=\"\n",
       "  1883.42,251.724 2027.42,251.724 \n",
       "  \"/>\n",
       "<g clip-path=\"url(#clip9501)\">\n",
       "<text style=\"fill:#000000; fill-opacity:1; font-family:Arial,Helvetica Neue,Helvetica,sans-serif; font-size:48px; text-anchor:start;\" transform=\"rotate(0, 2051.42, 269.224)\" x=\"2051.42\" y=\"269.224\">Python</text>\n",
       "</g>\n",
       "<polyline clip-path=\"url(#clip9501)\" style=\"stroke:#3da44d; stroke-width:20; stroke-opacity:1; fill:none\" points=\"\n",
       "  1883.42,312.204 2027.42,312.204 \n",
       "  \"/>\n",
       "<g clip-path=\"url(#clip9501)\">\n",
       "<text style=\"fill:#000000; fill-opacity:1; font-family:Arial,Helvetica Neue,Helvetica,sans-serif; font-size:48px; text-anchor:start;\" transform=\"rotate(0, 2051.42, 329.704)\" x=\"2051.42\" y=\"329.704\">Julia</text>\n",
       "</g>\n",
       "</svg>\n"
      ]
     },
     "execution_count": 2,
     "metadata": {},
     "output_type": "execute_result"
    }
   ],
   "source": [
    "score = CSV.read(\"./fib_score.csv\")\n",
    "Plots.plot([score.R[1:30],score.Python[1:35],score.Julia[1:40]],label=[\"R\" \"Python\" \"Julia\"],lw=5)"
   ]
  },
  {
   "cell_type": "markdown",
   "metadata": {
    "slideshow": {
     "slide_type": "slide"
    }
   },
   "source": [
    "## Pythonライブラリの利用方法\n",
    "* PyCallを利用"
   ]
  },
  {
   "cell_type": "code",
   "execution_count": 4,
   "metadata": {
    "slideshow": {
     "slide_type": "skip"
    }
   },
   "outputs": [
    {
     "data": {
      "text/plain": [
       "Plots.GRBackend()"
      ]
     },
     "execution_count": 4,
     "metadata": {},
     "output_type": "execute_result"
    }
   ],
   "source": [
    "using Plots\n",
    "using GR\n",
    "gr()"
   ]
  },
  {
   "cell_type": "code",
   "execution_count": 3,
   "metadata": {
    "scrolled": false
   },
   "outputs": [
    {
     "data": {
      "image/svg+xml": [
       "<?xml version=\"1.0\" encoding=\"utf-8\"?>\n",
       "<svg xmlns=\"http://www.w3.org/2000/svg\" xmlns:xlink=\"http://www.w3.org/1999/xlink\" width=\"600\" height=\"400\" viewBox=\"0 0 2400 1600\">\n",
       "<defs>\n",
       "  <clipPath id=\"clip9700\">\n",
       "    <rect x=\"0\" y=\"0\" width=\"2000\" height=\"2000\"/>\n",
       "  </clipPath>\n",
       "</defs>\n",
       "<defs>\n",
       "  <clipPath id=\"clip9701\">\n",
       "    <rect x=\"0\" y=\"0\" width=\"2400\" height=\"1600\"/>\n",
       "  </clipPath>\n",
       "</defs>\n",
       "<polygon clip-path=\"url(#clip9701)\" points=\"\n",
       "0,1600 2400,1600 2400,0 0,0 \n",
       "  \" fill=\"#ffffff\" fill-rule=\"evenodd\" fill-opacity=\"1\"/>\n",
       "<defs>\n",
       "  <clipPath id=\"clip9702\">\n",
       "    <rect x=\"480\" y=\"0\" width=\"1681\" height=\"1600\"/>\n",
       "  </clipPath>\n",
       "</defs>\n",
       "<polygon clip-path=\"url(#clip9701)\" points=\"\n",
       "189.504,1503.47 2321.26,1503.47 2321.26,47.2441 189.504,47.2441 \n",
       "  \" fill=\"#ffffff\" fill-rule=\"evenodd\" fill-opacity=\"1\"/>\n",
       "<defs>\n",
       "  <clipPath id=\"clip9703\">\n",
       "    <rect x=\"189\" y=\"47\" width=\"2133\" height=\"1457\"/>\n",
       "  </clipPath>\n",
       "</defs>\n",
       "<polyline clip-path=\"url(#clip9703)\" style=\"stroke:#000000; stroke-width:2; stroke-opacity:0.1; fill:none\" points=\"\n",
       "  229.523,1503.47 229.523,47.2441 \n",
       "  \"/>\n",
       "<polyline clip-path=\"url(#clip9703)\" style=\"stroke:#000000; stroke-width:2; stroke-opacity:0.1; fill:none\" points=\"\n",
       "  737.374,1503.47 737.374,47.2441 \n",
       "  \"/>\n",
       "<polyline clip-path=\"url(#clip9703)\" style=\"stroke:#000000; stroke-width:2; stroke-opacity:0.1; fill:none\" points=\"\n",
       "  1245.22,1503.47 1245.22,47.2441 \n",
       "  \"/>\n",
       "<polyline clip-path=\"url(#clip9703)\" style=\"stroke:#000000; stroke-width:2; stroke-opacity:0.1; fill:none\" points=\"\n",
       "  1753.08,1503.47 1753.08,47.2441 \n",
       "  \"/>\n",
       "<polyline clip-path=\"url(#clip9703)\" style=\"stroke:#000000; stroke-width:2; stroke-opacity:0.1; fill:none\" points=\"\n",
       "  2260.93,1503.47 2260.93,47.2441 \n",
       "  \"/>\n",
       "<polyline clip-path=\"url(#clip9703)\" style=\"stroke:#000000; stroke-width:2; stroke-opacity:0.1; fill:none\" points=\"\n",
       "  189.504,1462.47 2321.26,1462.47 \n",
       "  \"/>\n",
       "<polyline clip-path=\"url(#clip9703)\" style=\"stroke:#000000; stroke-width:2; stroke-opacity:0.1; fill:none\" points=\"\n",
       "  189.504,1118.94 2321.26,1118.94 \n",
       "  \"/>\n",
       "<polyline clip-path=\"url(#clip9703)\" style=\"stroke:#000000; stroke-width:2; stroke-opacity:0.1; fill:none\" points=\"\n",
       "  189.504,775.416 2321.26,775.416 \n",
       "  \"/>\n",
       "<polyline clip-path=\"url(#clip9703)\" style=\"stroke:#000000; stroke-width:2; stroke-opacity:0.1; fill:none\" points=\"\n",
       "  189.504,431.889 2321.26,431.889 \n",
       "  \"/>\n",
       "<polyline clip-path=\"url(#clip9703)\" style=\"stroke:#000000; stroke-width:2; stroke-opacity:0.1; fill:none\" points=\"\n",
       "  189.504,88.361 2321.26,88.361 \n",
       "  \"/>\n",
       "<polyline clip-path=\"url(#clip9701)\" style=\"stroke:#000000; stroke-width:4; stroke-opacity:1; fill:none\" points=\"\n",
       "  189.504,1503.47 2321.26,1503.47 \n",
       "  \"/>\n",
       "<polyline clip-path=\"url(#clip9701)\" style=\"stroke:#000000; stroke-width:4; stroke-opacity:1; fill:none\" points=\"\n",
       "  189.504,1503.47 189.504,47.2441 \n",
       "  \"/>\n",
       "<polyline clip-path=\"url(#clip9701)\" style=\"stroke:#000000; stroke-width:4; stroke-opacity:1; fill:none\" points=\"\n",
       "  229.523,1503.47 229.523,1481.63 \n",
       "  \"/>\n",
       "<polyline clip-path=\"url(#clip9701)\" style=\"stroke:#000000; stroke-width:4; stroke-opacity:1; fill:none\" points=\"\n",
       "  737.374,1503.47 737.374,1481.63 \n",
       "  \"/>\n",
       "<polyline clip-path=\"url(#clip9701)\" style=\"stroke:#000000; stroke-width:4; stroke-opacity:1; fill:none\" points=\"\n",
       "  1245.22,1503.47 1245.22,1481.63 \n",
       "  \"/>\n",
       "<polyline clip-path=\"url(#clip9701)\" style=\"stroke:#000000; stroke-width:4; stroke-opacity:1; fill:none\" points=\"\n",
       "  1753.08,1503.47 1753.08,1481.63 \n",
       "  \"/>\n",
       "<polyline clip-path=\"url(#clip9701)\" style=\"stroke:#000000; stroke-width:4; stroke-opacity:1; fill:none\" points=\"\n",
       "  2260.93,1503.47 2260.93,1481.63 \n",
       "  \"/>\n",
       "<polyline clip-path=\"url(#clip9701)\" style=\"stroke:#000000; stroke-width:4; stroke-opacity:1; fill:none\" points=\"\n",
       "  189.504,1462.47 221.48,1462.47 \n",
       "  \"/>\n",
       "<polyline clip-path=\"url(#clip9701)\" style=\"stroke:#000000; stroke-width:4; stroke-opacity:1; fill:none\" points=\"\n",
       "  189.504,1118.94 221.48,1118.94 \n",
       "  \"/>\n",
       "<polyline clip-path=\"url(#clip9701)\" style=\"stroke:#000000; stroke-width:4; stroke-opacity:1; fill:none\" points=\"\n",
       "  189.504,775.416 221.48,775.416 \n",
       "  \"/>\n",
       "<polyline clip-path=\"url(#clip9701)\" style=\"stroke:#000000; stroke-width:4; stroke-opacity:1; fill:none\" points=\"\n",
       "  189.504,431.889 221.48,431.889 \n",
       "  \"/>\n",
       "<polyline clip-path=\"url(#clip9701)\" style=\"stroke:#000000; stroke-width:4; stroke-opacity:1; fill:none\" points=\"\n",
       "  189.504,88.361 221.48,88.361 \n",
       "  \"/>\n",
       "<g clip-path=\"url(#clip9701)\">\n",
       "<text style=\"fill:#000000; fill-opacity:1; font-family:Arial,Helvetica Neue,Helvetica,sans-serif; font-size:48px; text-anchor:middle;\" transform=\"rotate(0, 229.523, 1557.47)\" x=\"229.523\" y=\"1557.47\">0</text>\n",
       "</g>\n",
       "<g clip-path=\"url(#clip9701)\">\n",
       "<text style=\"fill:#000000; fill-opacity:1; font-family:Arial,Helvetica Neue,Helvetica,sans-serif; font-size:48px; text-anchor:middle;\" transform=\"rotate(0, 737.374, 1557.47)\" x=\"737.374\" y=\"1557.47\">25</text>\n",
       "</g>\n",
       "<g clip-path=\"url(#clip9701)\">\n",
       "<text style=\"fill:#000000; fill-opacity:1; font-family:Arial,Helvetica Neue,Helvetica,sans-serif; font-size:48px; text-anchor:middle;\" transform=\"rotate(0, 1245.22, 1557.47)\" x=\"1245.22\" y=\"1557.47\">50</text>\n",
       "</g>\n",
       "<g clip-path=\"url(#clip9701)\">\n",
       "<text style=\"fill:#000000; fill-opacity:1; font-family:Arial,Helvetica Neue,Helvetica,sans-serif; font-size:48px; text-anchor:middle;\" transform=\"rotate(0, 1753.08, 1557.47)\" x=\"1753.08\" y=\"1557.47\">75</text>\n",
       "</g>\n",
       "<g clip-path=\"url(#clip9701)\">\n",
       "<text style=\"fill:#000000; fill-opacity:1; font-family:Arial,Helvetica Neue,Helvetica,sans-serif; font-size:48px; text-anchor:middle;\" transform=\"rotate(0, 2260.93, 1557.47)\" x=\"2260.93\" y=\"1557.47\">100</text>\n",
       "</g>\n",
       "<g clip-path=\"url(#clip9701)\">\n",
       "<text style=\"fill:#000000; fill-opacity:1; font-family:Arial,Helvetica Neue,Helvetica,sans-serif; font-size:48px; text-anchor:end;\" transform=\"rotate(0, 165.504, 1479.97)\" x=\"165.504\" y=\"1479.97\">-1.0</text>\n",
       "</g>\n",
       "<g clip-path=\"url(#clip9701)\">\n",
       "<text style=\"fill:#000000; fill-opacity:1; font-family:Arial,Helvetica Neue,Helvetica,sans-serif; font-size:48px; text-anchor:end;\" transform=\"rotate(0, 165.504, 1136.44)\" x=\"165.504\" y=\"1136.44\">-0.5</text>\n",
       "</g>\n",
       "<g clip-path=\"url(#clip9701)\">\n",
       "<text style=\"fill:#000000; fill-opacity:1; font-family:Arial,Helvetica Neue,Helvetica,sans-serif; font-size:48px; text-anchor:end;\" transform=\"rotate(0, 165.504, 792.916)\" x=\"165.504\" y=\"792.916\">0.0</text>\n",
       "</g>\n",
       "<g clip-path=\"url(#clip9701)\">\n",
       "<text style=\"fill:#000000; fill-opacity:1; font-family:Arial,Helvetica Neue,Helvetica,sans-serif; font-size:48px; text-anchor:end;\" transform=\"rotate(0, 165.504, 449.389)\" x=\"165.504\" y=\"449.389\">0.5</text>\n",
       "</g>\n",
       "<g clip-path=\"url(#clip9701)\">\n",
       "<text style=\"fill:#000000; fill-opacity:1; font-family:Arial,Helvetica Neue,Helvetica,sans-serif; font-size:48px; text-anchor:end;\" transform=\"rotate(0, 165.504, 105.861)\" x=\"165.504\" y=\"105.861\">1.0</text>\n",
       "</g>\n",
       "<polyline clip-path=\"url(#clip9703)\" style=\"stroke:#009af9; stroke-width:4; stroke-opacity:1; fill:none\" points=\"\n",
       "  249.837,91.7935 270.151,102.056 290.465,119.047 310.779,142.597 331.093,172.469 351.407,208.365 371.721,249.927 392.035,296.74 412.349,348.336 432.663,404.199 \n",
       "  452.977,463.771 473.291,526.456 493.605,591.63 513.919,658.639 534.233,726.816 554.547,795.478 574.862,863.94 595.176,931.517 615.49,997.534 635.804,1061.33 \n",
       "  656.118,1122.27 676.432,1179.75 696.746,1233.18 717.06,1282.05 737.374,1325.85 757.688,1364.15 778.002,1396.56 798.316,1422.78 818.63,1442.52 838.944,1455.6 \n",
       "  859.258,1461.88 879.572,1461.3 899.886,1453.87 920.2,1439.66 940.514,1418.81 960.828,1391.54 981.142,1358.11 1001.46,1318.85 1021.77,1274.17 1042.08,1224.51 \n",
       "  1062.4,1170.35 1082.71,1112.25 1103.03,1050.79 1123.34,986.571 1143.65,920.245 1163.97,852.471 1184.28,783.928 1204.6,715.3 1224.91,647.272 1245.22,580.525 \n",
       "  1265.54,515.725 1285.85,453.519 1306.17,394.53 1326.48,339.347 1346.8,288.521 1367.11,242.56 1387.42,201.922 1407.74,167.015 1428.05,138.187 1448.37,115.726 \n",
       "  1468.68,99.8566 1488.99,90.7368 1509.31,88.4582 1529.62,93.0434 1549.94,104.447 1570.25,122.554 1590.56,147.185 1610.88,178.092 1631.19,214.968 1651.51,257.444 \n",
       "  1671.82,305.095 1692.13,357.445 1712.45,413.972 1732.76,474.11 1753.08,537.259 1773.39,602.787 1793.7,670.04 1814.02,738.346 1834.33,807.022 1854.65,875.383 \n",
       "  1874.96,942.745 1895.27,1008.43 1915.59,1071.8 1935.9,1132.2 1956.22,1189.03 1976.53,1241.73 1996.84,1289.78 2017.16,1332.68 2037.47,1370.02 2057.79,1401.41 \n",
       "  2078.1,1426.55 2098.41,1445.19 2118.73,1457.13 2139.04,1462.26 2159.36,1460.53 2179.67,1451.95 2199.99,1436.61 2220.3,1414.67 2240.61,1386.34 2260.93,1351.9 \n",
       "  \n",
       "  \"/>\n",
       "<polygon clip-path=\"url(#clip9701)\" points=\"\n",
       "1958.43,251.724 2249.26,251.724 2249.26,130.764 1958.43,130.764 \n",
       "  \" fill=\"#ffffff\" fill-rule=\"evenodd\" fill-opacity=\"1\"/>\n",
       "<polyline clip-path=\"url(#clip9701)\" style=\"stroke:#000000; stroke-width:4; stroke-opacity:1; fill:none\" points=\"\n",
       "  1958.43,251.724 2249.26,251.724 2249.26,130.764 1958.43,130.764 1958.43,251.724 \n",
       "  \"/>\n",
       "<polyline clip-path=\"url(#clip9701)\" style=\"stroke:#009af9; stroke-width:4; stroke-opacity:1; fill:none\" points=\"\n",
       "  1982.43,191.244 2126.43,191.244 \n",
       "  \"/>\n",
       "<g clip-path=\"url(#clip9701)\">\n",
       "<text style=\"fill:#000000; fill-opacity:1; font-family:Arial,Helvetica Neue,Helvetica,sans-serif; font-size:48px; text-anchor:start;\" transform=\"rotate(0, 2150.43, 208.744)\" x=\"2150.43\" y=\"208.744\">y1</text>\n",
       "</g>\n",
       "</svg>\n"
      ]
     },
     "execution_count": 3,
     "metadata": {},
     "output_type": "execute_result"
    }
   ],
   "source": [
    "using PyCall\n",
    "@pyimport math\n",
    "Plots.plot(math.cos.((1:100)/10))"
   ]
  },
  {
   "cell_type": "markdown",
   "metadata": {
    "slideshow": {
     "slide_type": "slide"
    }
   },
   "source": [
    "## 簡単にデータを可視化できる"
   ]
  },
  {
   "cell_type": "code",
   "execution_count": 6,
   "metadata": {
    "slideshow": {
     "slide_type": "skip"
    }
   },
   "outputs": [
    {
     "data": {
      "text/plain": [
       "Plots.GRBackend()"
      ]
     },
     "execution_count": 6,
     "metadata": {},
     "output_type": "execute_result"
    }
   ],
   "source": [
    "using Plots\n",
    "using GR\n",
    "gr()"
   ]
  },
  {
   "cell_type": "code",
   "execution_count": 4,
   "metadata": {
    "scrolled": false
   },
   "outputs": [
    {
     "data": {
      "image/svg+xml": [
       "<?xml version=\"1.0\" encoding=\"utf-8\"?>\n",
       "<svg xmlns=\"http://www.w3.org/2000/svg\" xmlns:xlink=\"http://www.w3.org/1999/xlink\" width=\"600\" height=\"400\" viewBox=\"0 0 2400 1600\">\n",
       "<defs>\n",
       "  <clipPath id=\"clip9900\">\n",
       "    <rect x=\"0\" y=\"0\" width=\"2000\" height=\"2000\"/>\n",
       "  </clipPath>\n",
       "</defs>\n",
       "<defs>\n",
       "  <clipPath id=\"clip9901\">\n",
       "    <rect x=\"0\" y=\"0\" width=\"2400\" height=\"1600\"/>\n",
       "  </clipPath>\n",
       "</defs>\n",
       "<polygon clip-path=\"url(#clip9901)\" points=\"\n",
       "0,1600 2400,1600 2400,0 0,0 \n",
       "  \" fill=\"#ffffff\" fill-rule=\"evenodd\" fill-opacity=\"1\"/>\n",
       "<defs>\n",
       "  <clipPath id=\"clip9902\">\n",
       "    <rect x=\"480\" y=\"0\" width=\"1681\" height=\"1600\"/>\n",
       "  </clipPath>\n",
       "</defs>\n",
       "<polygon clip-path=\"url(#clip9901)\" points=\"\n",
       "520.576,1503.47 1976.81,1503.47 1976.81,47.2441 520.576,47.2441 \n",
       "  \" fill=\"#ffffff\" fill-rule=\"evenodd\" fill-opacity=\"1\"/>\n",
       "<defs>\n",
       "  <clipPath id=\"clip9903\">\n",
       "    <rect x=\"520\" y=\"47\" width=\"1457\" height=\"1457\"/>\n",
       "  </clipPath>\n",
       "</defs>\n",
       "<polyline clip-path=\"url(#clip9901)\" style=\"stroke:#cccccc; stroke-width:2; stroke-opacity:0.1; fill:none\" points=\"\n",
       "  583.506,1423.31 1116.52,1165.24 \n",
       "  \"/>\n",
       "<polyline clip-path=\"url(#clip9901)\" style=\"stroke:#cccccc; stroke-width:2; stroke-opacity:0.1; fill:none\" points=\"\n",
       "  1116.52,1165.24 1116.52,53.1078 \n",
       "  \"/>\n",
       "<polyline clip-path=\"url(#clip9901)\" style=\"stroke:#ededed; stroke-width:2; stroke-opacity:0.1; fill:none\" points=\"\n",
       "  675.917,1431.93 1208.93,1173.85 \n",
       "  \"/>\n",
       "<polyline clip-path=\"url(#clip9901)\" style=\"stroke:#ededed; stroke-width:2; stroke-opacity:0.1; fill:none\" points=\"\n",
       "  1208.93,1173.85 1208.93,61.7186 \n",
       "  \"/>\n",
       "<polyline clip-path=\"url(#clip9901)\" style=\"stroke:#cccccc; stroke-width:2; stroke-opacity:0.1; fill:none\" points=\"\n",
       "  768.328,1440.54 1301.35,1182.46 \n",
       "  \"/>\n",
       "<polyline clip-path=\"url(#clip9901)\" style=\"stroke:#cccccc; stroke-width:2; stroke-opacity:0.1; fill:none\" points=\"\n",
       "  1301.35,1182.46 1301.35,70.3294 \n",
       "  \"/>\n",
       "<polyline clip-path=\"url(#clip9901)\" style=\"stroke:#ededed; stroke-width:2; stroke-opacity:0.1; fill:none\" points=\"\n",
       "  860.74,1449.15 1393.76,1191.08 \n",
       "  \"/>\n",
       "<polyline clip-path=\"url(#clip9901)\" style=\"stroke:#ededed; stroke-width:2; stroke-opacity:0.1; fill:none\" points=\"\n",
       "  1393.76,1191.08 1393.76,78.9401 \n",
       "  \"/>\n",
       "<polyline clip-path=\"url(#clip9901)\" style=\"stroke:#cccccc; stroke-width:2; stroke-opacity:0.1; fill:none\" points=\"\n",
       "  953.151,1457.76 1486.17,1199.69 \n",
       "  \"/>\n",
       "<polyline clip-path=\"url(#clip9901)\" style=\"stroke:#cccccc; stroke-width:2; stroke-opacity:0.1; fill:none\" points=\"\n",
       "  1486.17,1199.69 1486.17,87.5509 \n",
       "  \"/>\n",
       "<polyline clip-path=\"url(#clip9901)\" style=\"stroke:#ededed; stroke-width:2; stroke-opacity:0.1; fill:none\" points=\"\n",
       "  1045.56,1466.37 1578.58,1208.3 \n",
       "  \"/>\n",
       "<polyline clip-path=\"url(#clip9901)\" style=\"stroke:#ededed; stroke-width:2; stroke-opacity:0.1; fill:none\" points=\"\n",
       "  1578.58,1208.3 1578.58,96.1617 \n",
       "  \"/>\n",
       "<polyline clip-path=\"url(#clip9901)\" style=\"stroke:#cccccc; stroke-width:2; stroke-opacity:0.1; fill:none\" points=\"\n",
       "  1137.97,1474.98 1670.99,1216.91 \n",
       "  \"/>\n",
       "<polyline clip-path=\"url(#clip9901)\" style=\"stroke:#cccccc; stroke-width:2; stroke-opacity:0.1; fill:none\" points=\"\n",
       "  1670.99,1216.91 1670.99,104.772 \n",
       "  \"/>\n",
       "<polyline clip-path=\"url(#clip9901)\" style=\"stroke:#ededed; stroke-width:2; stroke-opacity:0.1; fill:none\" points=\"\n",
       "  1230.38,1483.59 1763.4,1225.52 \n",
       "  \"/>\n",
       "<polyline clip-path=\"url(#clip9901)\" style=\"stroke:#ededed; stroke-width:2; stroke-opacity:0.1; fill:none\" points=\"\n",
       "  1763.4,1225.52 1763.4,113.383 \n",
       "  \"/>\n",
       "<polyline clip-path=\"url(#clip9901)\" style=\"stroke:#cccccc; stroke-width:2; stroke-opacity:0.1; fill:none\" points=\"\n",
       "  1322.8,1492.2 1855.81,1234.13 \n",
       "  \"/>\n",
       "<polyline clip-path=\"url(#clip9901)\" style=\"stroke:#cccccc; stroke-width:2; stroke-opacity:0.1; fill:none\" points=\"\n",
       "  1855.81,1234.13 1855.81,121.994 \n",
       "  \"/>\n",
       "<polyline clip-path=\"url(#clip9901)\" style=\"stroke:#ededed; stroke-width:2; stroke-opacity:0.1; fill:none\" points=\"\n",
       "  1415.21,1500.81 1948.22,1242.74 \n",
       "  \"/>\n",
       "<polyline clip-path=\"url(#clip9901)\" style=\"stroke:#ededed; stroke-width:2; stroke-opacity:0.1; fill:none\" points=\"\n",
       "  1948.22,1242.74 1948.22,130.605 \n",
       "  \"/>\n",
       "<polyline clip-path=\"url(#clip9901)\" style=\"stroke:#cccccc; stroke-width:2; stroke-opacity:0.1; fill:none\" points=\"\n",
       "  576.534,1390.36 1499.75,1476.38 \n",
       "  \"/>\n",
       "<polyline clip-path=\"url(#clip9901)\" style=\"stroke:#cccccc; stroke-width:2; stroke-opacity:0.1; fill:none\" points=\"\n",
       "  576.534,1390.36 576.534,278.222 \n",
       "  \"/>\n",
       "<polyline clip-path=\"url(#clip9901)\" style=\"stroke:#ededed; stroke-width:2; stroke-opacity:0.1; fill:none\" points=\"\n",
       "  633.649,1362.7 1556.86,1448.73 \n",
       "  \"/>\n",
       "<polyline clip-path=\"url(#clip9901)\" style=\"stroke:#ededed; stroke-width:2; stroke-opacity:0.1; fill:none\" points=\"\n",
       "  633.649,1362.7 633.649,250.569 \n",
       "  \"/>\n",
       "<polyline clip-path=\"url(#clip9901)\" style=\"stroke:#cccccc; stroke-width:2; stroke-opacity:0.1; fill:none\" points=\"\n",
       "  690.763,1335.05 1613.98,1421.07 \n",
       "  \"/>\n",
       "<polyline clip-path=\"url(#clip9901)\" style=\"stroke:#cccccc; stroke-width:2; stroke-opacity:0.1; fill:none\" points=\"\n",
       "  690.763,1335.05 690.763,222.916 \n",
       "  \"/>\n",
       "<polyline clip-path=\"url(#clip9901)\" style=\"stroke:#ededed; stroke-width:2; stroke-opacity:0.1; fill:none\" points=\"\n",
       "  747.878,1307.4 1671.09,1393.42 \n",
       "  \"/>\n",
       "<polyline clip-path=\"url(#clip9901)\" style=\"stroke:#ededed; stroke-width:2; stroke-opacity:0.1; fill:none\" points=\"\n",
       "  747.878,1307.4 747.878,195.263 \n",
       "  \"/>\n",
       "<polyline clip-path=\"url(#clip9901)\" style=\"stroke:#cccccc; stroke-width:2; stroke-opacity:0.1; fill:none\" points=\"\n",
       "  804.992,1279.74 1728.21,1365.77 \n",
       "  \"/>\n",
       "<polyline clip-path=\"url(#clip9901)\" style=\"stroke:#cccccc; stroke-width:2; stroke-opacity:0.1; fill:none\" points=\"\n",
       "  804.992,1279.74 804.992,167.61 \n",
       "  \"/>\n",
       "<polyline clip-path=\"url(#clip9901)\" style=\"stroke:#ededed; stroke-width:2; stroke-opacity:0.1; fill:none\" points=\"\n",
       "  862.107,1252.09 1785.32,1338.12 \n",
       "  \"/>\n",
       "<polyline clip-path=\"url(#clip9901)\" style=\"stroke:#ededed; stroke-width:2; stroke-opacity:0.1; fill:none\" points=\"\n",
       "  862.107,1252.09 862.107,139.956 \n",
       "  \"/>\n",
       "<polyline clip-path=\"url(#clip9901)\" style=\"stroke:#cccccc; stroke-width:2; stroke-opacity:0.1; fill:none\" points=\"\n",
       "  919.221,1224.44 1842.43,1310.46 \n",
       "  \"/>\n",
       "<polyline clip-path=\"url(#clip9901)\" style=\"stroke:#cccccc; stroke-width:2; stroke-opacity:0.1; fill:none\" points=\"\n",
       "  919.221,1224.44 919.221,112.303 \n",
       "  \"/>\n",
       "<polyline clip-path=\"url(#clip9901)\" style=\"stroke:#ededed; stroke-width:2; stroke-opacity:0.1; fill:none\" points=\"\n",
       "  976.336,1196.78 1899.55,1282.81 \n",
       "  \"/>\n",
       "<polyline clip-path=\"url(#clip9901)\" style=\"stroke:#ededed; stroke-width:2; stroke-opacity:0.1; fill:none\" points=\"\n",
       "  976.336,1196.78 976.336,84.65 \n",
       "  \"/>\n",
       "<polyline clip-path=\"url(#clip9901)\" style=\"stroke:#cccccc; stroke-width:2; stroke-opacity:0.1; fill:none\" points=\"\n",
       "  1033.45,1169.13 1956.66,1255.16 \n",
       "  \"/>\n",
       "<polyline clip-path=\"url(#clip9901)\" style=\"stroke:#cccccc; stroke-width:2; stroke-opacity:0.1; fill:none\" points=\"\n",
       "  1033.45,1169.13 1033.45,56.9968 \n",
       "  \"/>\n",
       "<polyline clip-path=\"url(#clip9901)\" style=\"stroke:#cccccc; stroke-width:2; stroke-opacity:0.1; fill:none\" points=\"\n",
       "  520.576,1417.45 1053.59,1159.38 \n",
       "  \"/>\n",
       "<polyline clip-path=\"url(#clip9901)\" style=\"stroke:#cccccc; stroke-width:2; stroke-opacity:0.1; fill:none\" points=\"\n",
       "  1053.59,1159.38 1976.81,1245.4 \n",
       "  \"/>\n",
       "<polyline clip-path=\"url(#clip9901)\" style=\"stroke:#ededed; stroke-width:2; stroke-opacity:0.1; fill:none\" points=\"\n",
       "  520.576,1232.09 1053.59,974.023 \n",
       "  \"/>\n",
       "<polyline clip-path=\"url(#clip9901)\" style=\"stroke:#ededed; stroke-width:2; stroke-opacity:0.1; fill:none\" points=\"\n",
       "  1053.59,974.023 1976.81,1060.05 \n",
       "  \"/>\n",
       "<polyline clip-path=\"url(#clip9901)\" style=\"stroke:#cccccc; stroke-width:2; stroke-opacity:0.1; fill:none\" points=\"\n",
       "  520.576,1046.74 1053.59,788.667 \n",
       "  \"/>\n",
       "<polyline clip-path=\"url(#clip9901)\" style=\"stroke:#cccccc; stroke-width:2; stroke-opacity:0.1; fill:none\" points=\"\n",
       "  1053.59,788.667 1976.81,874.691 \n",
       "  \"/>\n",
       "<polyline clip-path=\"url(#clip9901)\" style=\"stroke:#ededed; stroke-width:2; stroke-opacity:0.1; fill:none\" points=\"\n",
       "  520.576,861.383 1053.59,603.312 \n",
       "  \"/>\n",
       "<polyline clip-path=\"url(#clip9901)\" style=\"stroke:#ededed; stroke-width:2; stroke-opacity:0.1; fill:none\" points=\"\n",
       "  1053.59,603.312 1976.81,689.335 \n",
       "  \"/>\n",
       "<polyline clip-path=\"url(#clip9901)\" style=\"stroke:#cccccc; stroke-width:2; stroke-opacity:0.1; fill:none\" points=\"\n",
       "  520.576,676.028 1053.59,417.956 \n",
       "  \"/>\n",
       "<polyline clip-path=\"url(#clip9901)\" style=\"stroke:#cccccc; stroke-width:2; stroke-opacity:0.1; fill:none\" points=\"\n",
       "  1053.59,417.956 1976.81,503.98 \n",
       "  \"/>\n",
       "<polyline clip-path=\"url(#clip9901)\" style=\"stroke:#ededed; stroke-width:2; stroke-opacity:0.1; fill:none\" points=\"\n",
       "  520.576,490.672 1053.59,232.6 \n",
       "  \"/>\n",
       "<polyline clip-path=\"url(#clip9901)\" style=\"stroke:#ededed; stroke-width:2; stroke-opacity:0.1; fill:none\" points=\"\n",
       "  1053.59,232.6 1976.81,318.624 \n",
       "  \"/>\n",
       "<polyline clip-path=\"url(#clip9901)\" style=\"stroke:#cccccc; stroke-width:2; stroke-opacity:0.1; fill:none\" points=\"\n",
       "  520.576,305.316 1053.59,47.2441 \n",
       "  \"/>\n",
       "<polyline clip-path=\"url(#clip9901)\" style=\"stroke:#cccccc; stroke-width:2; stroke-opacity:0.1; fill:none\" points=\"\n",
       "  1053.59,47.2441 1976.81,133.268 \n",
       "  \"/>\n",
       "<polyline clip-path=\"url(#clip9901)\" style=\"stroke:#000000; stroke-width:4; stroke-opacity:1; fill:none\" points=\"\n",
       "  495.869,1224.66 491.87,1228.25 489.204,1234.47 487.87,1243.35 487.87,1248.29 489.204,1255.87 491.87,1259.52 495.869,1259.22 498.536,1257.93 502.535,1254.35 \n",
       "  505.202,1248.12 506.535,1239.25 506.535,1234.31 505.202,1226.73 502.535,1223.08 498.536,1223.37 495.869,1224.66 \n",
       "  \"/>\n",
       "<polyline clip-path=\"url(#clip9901)\" style=\"stroke:#000000; stroke-width:4; stroke-opacity:1; fill:none\" points=\"\n",
       "  438.542,888.292 441.209,885.355 445.208,878.481 445.208,913.041 \n",
       "  \"/>\n",
       "<polyline clip-path=\"url(#clip9901)\" style=\"stroke:#000000; stroke-width:4; stroke-opacity:1; fill:none\" points=\"\n",
       "  469.206,866.863 465.206,870.445 462.54,876.673 461.207,885.547 461.207,890.484 462.54,898.067 465.206,901.713 469.206,901.423 471.872,900.132 475.872,896.549 \n",
       "  478.538,890.321 479.871,881.447 479.871,876.51 478.538,868.927 475.872,865.281 471.872,865.572 469.206,866.863 \n",
       "  \"/>\n",
       "<polyline clip-path=\"url(#clip9901)\" style=\"stroke:#000000; stroke-width:4; stroke-opacity:1; fill:none\" points=\"\n",
       "  495.869,853.953 491.87,857.535 489.204,863.763 487.87,872.637 487.87,877.574 489.204,885.157 491.87,888.803 495.869,888.513 498.536,887.222 502.535,883.64 \n",
       "  505.202,877.411 506.535,868.537 506.535,863.6 505.202,856.017 502.535,852.371 498.536,852.662 495.869,853.953 \n",
       "  \"/>\n",
       "<polyline clip-path=\"url(#clip9901)\" style=\"stroke:#000000; stroke-width:4; stroke-opacity:1; fill:none\" points=\"\n",
       "  435.876,520.517 435.876,518.871 437.209,514.934 438.542,512.643 441.209,509.706 446.542,507.124 449.208,507.479 450.541,508.479 451.874,511.125 451.874,514.417 \n",
       "  450.541,518.353 447.875,524.582 434.543,547.494 453.207,538.457 \n",
       "  \"/>\n",
       "<polyline clip-path=\"url(#clip9901)\" style=\"stroke:#000000; stroke-width:4; stroke-opacity:1; fill:none\" points=\"\n",
       "  469.206,496.151 465.206,499.733 462.54,505.961 461.207,514.835 461.207,519.772 462.54,527.355 465.206,531.002 469.206,530.711 471.872,529.42 475.872,525.838 \n",
       "  478.538,519.61 479.871,510.736 479.871,505.798 478.538,498.215 475.872,494.569 471.872,494.86 469.206,496.151 \n",
       "  \"/>\n",
       "<polyline clip-path=\"url(#clip9901)\" style=\"stroke:#000000; stroke-width:4; stroke-opacity:1; fill:none\" points=\"\n",
       "  495.869,483.241 491.87,486.823 489.204,493.051 487.87,501.925 487.87,506.863 489.204,514.446 491.87,518.092 495.869,517.801 498.536,516.51 502.535,512.928 \n",
       "  505.202,506.7 506.535,497.826 506.535,492.889 505.202,485.305 502.535,481.659 498.536,481.95 495.869,483.241 \n",
       "  \"/>\n",
       "<polyline clip-path=\"url(#clip9901)\" style=\"stroke:#000000; stroke-width:4; stroke-opacity:1; fill:none\" points=\"\n",
       "  520.576,1417.45 520.576,1417.45 515.246,1420.03 520.576,1417.45 520.576,1232.09 509.916,1237.26 520.576,1232.09 520.576,1046.74 515.246,1049.32 520.576,1046.74 \n",
       "  520.576,861.383 509.916,866.545 520.576,861.383 520.576,676.028 515.246,678.608 520.576,676.028 520.576,490.672 509.916,495.833 520.576,490.672 520.576,305.316 \n",
       "  515.246,307.897 520.576,305.316 \n",
       "  \"/>\n",
       "<polyline clip-path=\"url(#clip9901)\" style=\"stroke:#000000; stroke-width:4; stroke-opacity:1; fill:none\" points=\"\n",
       "  516.224,1454.51 545.592,1457.24 \n",
       "  \"/>\n",
       "<polyline clip-path=\"url(#clip9901)\" style=\"stroke:#000000; stroke-width:4; stroke-opacity:1; fill:none\" points=\"\n",
       "  558.645,1446.94 558.645,1445.29 560.276,1442.15 561.908,1440.66 565.171,1439.32 571.697,1439.93 574.96,1441.88 576.592,1443.67 578.223,1447.12 578.223,1450.41 \n",
       "  576.592,1453.55 573.329,1458.18 557.013,1473.12 579.855,1475.25 \n",
       "  \"/>\n",
       "<polyline clip-path=\"url(#clip9901)\" style=\"stroke:#000000; stroke-width:4; stroke-opacity:1; fill:none\" points=\"\n",
       "  599.433,1442.51 594.539,1443.7 591.276,1448.33 589.644,1456.41 589.644,1461.35 591.276,1469.73 594.539,1474.97 599.433,1477.07 602.696,1477.37 607.591,1476.19 \n",
       "  610.854,1471.55 612.486,1463.48 612.486,1458.54 610.854,1450.16 607.591,1444.92 602.696,1442.81 599.433,1442.51 \n",
       "  \"/>\n",
       "<polyline clip-path=\"url(#clip9901)\" style=\"stroke:#000000; stroke-width:4; stroke-opacity:1; fill:none\" points=\"\n",
       "  701.047,1471.73 730.415,1474.46 \n",
       "  \"/>\n",
       "<polyline clip-path=\"url(#clip9901)\" style=\"stroke:#000000; stroke-width:4; stroke-opacity:1; fill:none\" points=\"\n",
       "  746.73,1462.82 749.993,1461.48 754.888,1457 754.888,1491.56 \n",
       "  \"/>\n",
       "<polyline clip-path=\"url(#clip9901)\" style=\"stroke:#000000; stroke-width:4; stroke-opacity:1; fill:none\" points=\"\n",
       "  784.256,1459.73 779.361,1460.92 776.098,1465.56 774.467,1473.63 774.467,1478.57 776.098,1486.95 779.361,1492.19 784.256,1494.29 787.519,1494.6 792.414,1493.41 \n",
       "  795.677,1488.77 797.308,1480.7 797.308,1475.76 795.677,1467.38 792.414,1462.14 787.519,1460.04 784.256,1459.73 \n",
       "  \"/>\n",
       "<polyline clip-path=\"url(#clip9901)\" style=\"stroke:#000000; stroke-width:4; stroke-opacity:1; fill:none\" points=\"\n",
       "  931.553,1473.46 926.658,1474.65 923.395,1479.28 921.764,1487.36 921.764,1492.29 923.395,1500.67 926.658,1505.92 931.553,1508.02 934.816,1508.32 939.711,1507.13 \n",
       "  942.974,1502.5 944.605,1494.42 944.605,1489.48 942.974,1481.1 939.711,1475.86 934.816,1473.76 931.553,1473.46 \n",
       "  \"/>\n",
       "<polyline clip-path=\"url(#clip9901)\" style=\"stroke:#000000; stroke-width:4; stroke-opacity:1; fill:none\" points=\"\n",
       "  1095.17,1495.29 1098.43,1493.94 1103.32,1489.46 1103.32,1524.02 \n",
       "  \"/>\n",
       "<polyline clip-path=\"url(#clip9901)\" style=\"stroke:#000000; stroke-width:4; stroke-opacity:1; fill:none\" points=\"\n",
       "  1132.69,1492.2 1127.8,1493.39 1124.53,1498.02 1122.9,1506.1 1122.9,1511.04 1124.53,1519.42 1127.8,1524.66 1132.69,1526.76 1135.95,1527.06 1140.85,1525.87 \n",
       "  1144.11,1521.24 1145.74,1513.16 1145.74,1508.23 1144.11,1499.85 1140.85,1494.6 1135.95,1492.5 1132.69,1492.2 \n",
       "  \"/>\n",
       "<polyline clip-path=\"url(#clip9901)\" style=\"stroke:#000000; stroke-width:4; stroke-opacity:1; fill:none\" points=\"\n",
       "  1276.72,1513.85 1276.72,1512.2 1278.36,1509.06 1279.99,1507.57 1283.25,1506.23 1289.78,1506.84 1293.04,1508.79 1294.67,1510.58 1296.3,1514.03 1296.3,1517.32 \n",
       "  1294.67,1520.46 1291.41,1525.09 1275.09,1540.03 1297.93,1542.16 \n",
       "  \"/>\n",
       "<polyline clip-path=\"url(#clip9901)\" style=\"stroke:#000000; stroke-width:4; stroke-opacity:1; fill:none\" points=\"\n",
       "  1317.51,1509.42 1312.62,1510.61 1309.36,1515.24 1307.72,1523.32 1307.72,1528.26 1309.36,1536.64 1312.62,1541.88 1317.51,1543.98 1320.78,1544.28 1325.67,1543.1 \n",
       "  1328.93,1538.46 1330.57,1530.39 1330.57,1525.45 1328.93,1517.07 1325.67,1511.83 1320.78,1509.72 1317.51,1509.42 \n",
       "  \"/>\n",
       "<polyline clip-path=\"url(#clip9901)\" style=\"stroke:#000000; stroke-width:4; stroke-opacity:1; fill:none\" points=\"\n",
       "  520.576,1417.45 583.506,1423.31 572.845,1428.48 583.506,1423.31 675.917,1431.93 670.587,1434.51 675.917,1431.93 768.328,1440.54 757.668,1445.7 768.328,1440.54 \n",
       "  860.74,1449.15 855.409,1451.73 860.74,1449.15 953.151,1457.76 942.49,1462.92 953.151,1457.76 1045.56,1466.37 1040.23,1468.95 1045.56,1466.37 1137.97,1474.98 \n",
       "  1127.31,1480.14 1137.97,1474.98 1230.38,1483.59 1225.05,1486.17 1230.38,1483.59 1322.8,1492.2 1312.14,1497.36 1322.8,1492.2 1415.21,1500.81 1409.88,1503.39 \n",
       "  1415.21,1500.81 1443.79,1503.47 \n",
       "  \"/>\n",
       "<polyline clip-path=\"url(#clip9901)\" style=\"stroke:#000000; stroke-width:4; stroke-opacity:1; fill:none\" points=\"\n",
       "  1507.46,1521.44 1531.45,1509.82 \n",
       "  \"/>\n",
       "<polyline clip-path=\"url(#clip9901)\" style=\"stroke:#000000; stroke-width:4; stroke-opacity:1; fill:none\" points=\"\n",
       "  1542.12,1493.14 1542.12,1491.49 1543.45,1487.56 1544.79,1485.26 1547.45,1482.33 1552.79,1479.75 1555.45,1480.1 1556.78,1481.1 1558.12,1483.75 1558.12,1487.04 \n",
       "  1556.78,1490.98 1554.12,1497.2 1540.79,1520.12 1559.45,1511.08 \n",
       "  \"/>\n",
       "<polyline clip-path=\"url(#clip9901)\" style=\"stroke:#000000; stroke-width:4; stroke-opacity:1; fill:none\" points=\"\n",
       "  1575.45,1468.77 1571.45,1472.35 1568.78,1478.58 1567.45,1487.46 1567.45,1492.39 1568.78,1499.98 1571.45,1503.62 1575.45,1503.33 1578.12,1502.04 1582.12,1498.46 \n",
       "  1584.78,1492.23 1586.11,1483.36 1586.11,1478.42 1584.78,1470.84 1582.12,1467.19 1578.12,1467.48 1575.45,1468.77 \n",
       "  \"/>\n",
       "<polyline clip-path=\"url(#clip9901)\" style=\"stroke:#000000; stroke-width:4; stroke-opacity:1; fill:none\" points=\"\n",
       "  1621.69,1466.13 1645.68,1454.52 \n",
       "  \"/>\n",
       "<polyline clip-path=\"url(#clip9901)\" style=\"stroke:#000000; stroke-width:4; stroke-opacity:1; fill:none\" points=\"\n",
       "  1659.01,1434.9 1661.68,1431.96 1665.68,1425.08 1665.68,1459.64 \n",
       "  \"/>\n",
       "<polyline clip-path=\"url(#clip9901)\" style=\"stroke:#000000; stroke-width:4; stroke-opacity:1; fill:none\" points=\"\n",
       "  1689.68,1413.47 1685.68,1417.05 1683.01,1423.28 1681.68,1432.15 1681.68,1437.09 1683.01,1444.67 1685.68,1448.32 1689.68,1448.03 1692.34,1446.74 1696.34,1443.15 \n",
       "  1699.01,1436.92 1700.34,1428.05 1700.34,1423.11 1699.01,1415.53 1696.34,1411.88 1692.34,1412.18 1689.68,1413.47 \n",
       "  \"/>\n",
       "<polyline clip-path=\"url(#clip9901)\" style=\"stroke:#000000; stroke-width:4; stroke-opacity:1; fill:none\" points=\"\n",
       "  1773.24,1373.01 1769.24,1376.59 1766.58,1382.82 1765.24,1391.69 1765.24,1396.63 1766.58,1404.21 1769.24,1407.86 1773.24,1407.57 1775.91,1406.27 1779.91,1402.69 \n",
       "  1782.58,1396.46 1783.91,1387.59 1783.91,1382.65 1782.58,1375.07 1779.91,1371.42 1775.91,1371.71 1773.24,1373.01 \n",
       "  \"/>\n",
       "<polyline clip-path=\"url(#clip9901)\" style=\"stroke:#000000; stroke-width:4; stroke-opacity:1; fill:none\" points=\"\n",
       "  1870.14,1332.67 1872.81,1329.74 1876.81,1322.86 1876.81,1357.42 \n",
       "  \"/>\n",
       "<polyline clip-path=\"url(#clip9901)\" style=\"stroke:#000000; stroke-width:4; stroke-opacity:1; fill:none\" points=\"\n",
       "  1900.8,1311.24 1896.81,1314.83 1894.14,1321.05 1892.81,1329.93 1892.81,1334.87 1894.14,1342.45 1896.81,1346.1 1900.8,1345.8 1903.47,1344.51 1907.47,1340.93 \n",
       "  1910.14,1334.7 1911.47,1325.83 1911.47,1320.89 1910.14,1313.31 1907.47,1309.66 1903.47,1309.95 1900.8,1311.24 \n",
       "  \"/>\n",
       "<polyline clip-path=\"url(#clip9901)\" style=\"stroke:#000000; stroke-width:4; stroke-opacity:1; fill:none\" points=\"\n",
       "  1981.7,1280.3 1981.7,1278.66 1983.04,1274.72 1984.37,1272.43 1987.04,1269.49 1992.37,1266.91 1995.04,1267.27 1996.37,1268.27 1997.7,1270.91 1997.7,1274.2 \n",
       "  1996.37,1278.14 1993.7,1284.37 1980.37,1307.28 1999.04,1298.24 \n",
       "  \"/>\n",
       "<polyline clip-path=\"url(#clip9901)\" style=\"stroke:#000000; stroke-width:4; stroke-opacity:1; fill:none\" points=\"\n",
       "  2015.03,1255.94 2011.03,1259.52 2008.37,1265.75 2007.03,1274.62 2007.03,1279.56 2008.37,1287.14 2011.03,1290.79 2015.03,1290.5 2017.7,1289.21 2021.7,1285.62 \n",
       "  2024.37,1279.4 2025.7,1270.52 2025.7,1265.59 2024.37,1258 2021.7,1254.36 2017.7,1254.65 2015.03,1255.94 \n",
       "  \"/>\n",
       "<polyline clip-path=\"url(#clip9901)\" style=\"stroke:#000000; stroke-width:4; stroke-opacity:1; fill:none\" points=\"\n",
       "  1443.79,1503.47 1499.75,1476.38 1518.21,1478.1 1499.75,1476.38 1556.86,1448.73 1566.09,1449.59 1556.86,1448.73 1613.98,1421.07 1632.44,1422.8 1613.98,1421.07 \n",
       "  1671.09,1393.42 1680.32,1394.28 1671.09,1393.42 1728.21,1365.77 1746.67,1367.49 1728.21,1365.77 1785.32,1338.12 1794.55,1338.98 1785.32,1338.12 1842.43,1310.46 \n",
       "  1860.9,1312.18 1842.43,1310.46 1899.55,1282.81 1908.78,1283.67 1899.55,1282.81 1956.66,1255.16 1975.13,1256.88 1956.66,1255.16 1976.81,1245.4 \n",
       "  \"/>\n",
       "<polyline clip-path=\"url(#clip9903)\" style=\"stroke:#009af9; stroke-width:4; stroke-opacity:1; fill:none\" points=\"\n",
       "  1237.57,1134.7 1240.05,1131.12 1242.78,1127.35 1245.63,1123.41 1248.47,1119.29 1251.18,1114.99 1253.62,1110.54 1255.67,1105.96 1257.22,1101.27 1258.16,1096.5 \n",
       "  1258.4,1091.68 1257.86,1086.85 1256.51,1082.05 1254.3,1077.31 1251.21,1072.67 1247.28,1068.17 1242.53,1063.85 1237.01,1059.73 1230.83,1055.85 1224.07,1052.22 \n",
       "  1216.86,1048.88 1209.35,1045.83 1201.68,1043.08 1194.04,1040.64 1186.58,1038.48 1179.5,1036.61 1172.98,1034.99 1167.19,1033.61 1162.31,1032.43 1158.49,1031.4 \n",
       "  1155.89,1030.48 1154.62,1029.63 1154.8,1028.79 1156.5,1027.9 1159.78,1026.9 1164.67,1025.74 1171.14,1024.36 1179.16,1022.69 1188.67,1020.7 1199.55,1018.32 \n",
       "  1211.67,1015.53 1224.86,1012.26 1238.93,1008.51 1253.67,1004.25 1268.83,999.457 1284.15,994.137 1299.38,988.293 1314.23,981.943 1328.41,975.112 1341.66,967.836 \n",
       "  1353.69,960.16 1364.26,952.14 1373.11,943.838 1380.02,935.323 1384.81,926.672 1387.32,917.965 1387.41,909.289 1385,900.729 1380.04,892.374 1372.54,884.31 \n",
       "  1362.54,876.622 1350.13,869.391 1335.43,862.692 1318.63,856.592 1299.96,851.153 1279.65,846.422 1258.02,842.44 1235.39,839.233 1212.11,836.817 1188.55,835.192 \n",
       "  1165.1,834.346 1142.16,834.253 1120.13,834.875 1099.41,836.157 1080.37,838.035 1063.38,840.431 1048.77,843.257 1036.86,846.416 1027.91,849.802 1022.15,853.302 \n",
       "  1019.75,856.801 1020.84,860.177 1025.48,863.312 1033.68,866.085 1045.4,868.382 1060.52,870.09 1078.88,871.107 1100.24,871.34 1124.33,870.704 1150.81,869.131 \n",
       "  1179.29,866.562 1209.36,862.959 1240.56,858.295 1272.39,852.565 1304.35,845.777 1335.92,837.961 1366.57,829.161 1395.78,819.44 1423.04,808.879 1447.88,797.57 \n",
       "  1469.82,785.625 1488.47,773.164 1503.44,760.321 1514.42,747.235 1521.15,734.057 1523.45,720.938 1521.19,708.033 1514.32,695.495 1502.87,683.475 1486.93,672.118 \n",
       "  1466.69,661.561 1442.39,651.928 1414.35,643.334 1382.97,635.876 1348.7,629.635 1312.03,624.673 1273.52,621.034 1233.76,618.739 1193.39,617.788 1153.03,618.16 \n",
       "  1113.34,619.81 1074.98,622.674 1038.58,626.666 1004.78,631.678 974.151,637.588 947.249,644.254 924.565,651.521 906.534,659.221 893.519,667.177 885.811,675.205 \n",
       "  883.614,683.116 887.051,690.722 896.152,697.834 910.857,704.272 931.012,709.861 956.376,714.44 986.617,717.859 1021.32,719.986 1059.99,720.71 1102.07,719.937 \n",
       "  1146.92,717.6 1193.87,713.653 1242.18,708.078 1291.11,700.882 1339.87,692.097 1387.68,681.785 1433.75,670.028 1477.33,656.938 1517.67,642.645 1554.09,627.305 \n",
       "  1585.95,611.09 1612.67,594.188 1633.76,576.803 1648.81,559.148 1657.49,541.443 1659.59,523.911 1654.98,506.777 1643.64,490.261 1625.69,474.577 1601.31,459.927 \n",
       "  1570.83,446.499 1534.65,434.465 1493.28,423.976 1447.31,415.159 1397.44,408.117 1344.4,402.924 1289.02,399.628 1232.14,398.245 1174.66,398.76 1117.5,401.128 \n",
       "  1061.57,405.275 1007.79,411.095 957.03,418.457 910.147,427.2 867.934,437.142 831.121,448.078 800.358,459.786 776.206,472.027 759.126,484.553 749.471,497.108 \n",
       "  747.479,509.432 753.267,521.266 766.828,532.356 788.033,542.459 816.626,551.341 852.232,558.789 894.356,564.61 942.398,568.632 995.653,570.715 1053.33,570.743 \n",
       "  1114.55,568.637 1178.37,564.347 1243.81,557.861 1309.83,549.199 1375.39,538.418 1439.44,525.608 1500.94,510.895 1558.88,494.435 1612.3,476.412 1660.31,457.04 \n",
       "  1702.08,436.555 \n",
       "  \"/>\n",
       "<circle clip-path=\"url(#clip9903)\" style=\"fill:#000000; stroke:none; fill-opacity:1\" cx=\"1237.57\" cy=\"1134.7\" r=\"18\"/>\n",
       "<circle clip-path=\"url(#clip9903)\" style=\"fill:#009af9; stroke:none; fill-opacity:1\" cx=\"1237.57\" cy=\"1134.7\" r=\"14\"/>\n",
       "<circle clip-path=\"url(#clip9903)\" style=\"fill:#000000; stroke:none; fill-opacity:1\" cx=\"1240.05\" cy=\"1131.12\" r=\"18\"/>\n",
       "<circle clip-path=\"url(#clip9903)\" style=\"fill:#009af9; stroke:none; fill-opacity:1\" cx=\"1240.05\" cy=\"1131.12\" r=\"14\"/>\n",
       "<circle clip-path=\"url(#clip9903)\" style=\"fill:#000000; stroke:none; fill-opacity:1\" cx=\"1242.78\" cy=\"1127.35\" r=\"18\"/>\n",
       "<circle clip-path=\"url(#clip9903)\" style=\"fill:#009af9; stroke:none; fill-opacity:1\" cx=\"1242.78\" cy=\"1127.35\" r=\"14\"/>\n",
       "<circle clip-path=\"url(#clip9903)\" style=\"fill:#000000; stroke:none; fill-opacity:1\" cx=\"1245.63\" cy=\"1123.41\" r=\"18\"/>\n",
       "<circle clip-path=\"url(#clip9903)\" style=\"fill:#009af9; stroke:none; fill-opacity:1\" cx=\"1245.63\" cy=\"1123.41\" r=\"14\"/>\n",
       "<circle clip-path=\"url(#clip9903)\" style=\"fill:#000000; stroke:none; fill-opacity:1\" cx=\"1248.47\" cy=\"1119.29\" r=\"18\"/>\n",
       "<circle clip-path=\"url(#clip9903)\" style=\"fill:#009af9; stroke:none; fill-opacity:1\" cx=\"1248.47\" cy=\"1119.29\" r=\"14\"/>\n",
       "<circle clip-path=\"url(#clip9903)\" style=\"fill:#000000; stroke:none; fill-opacity:1\" cx=\"1251.18\" cy=\"1114.99\" r=\"18\"/>\n",
       "<circle clip-path=\"url(#clip9903)\" style=\"fill:#009af9; stroke:none; fill-opacity:1\" cx=\"1251.18\" cy=\"1114.99\" r=\"14\"/>\n",
       "<circle clip-path=\"url(#clip9903)\" style=\"fill:#000000; stroke:none; fill-opacity:1\" cx=\"1253.62\" cy=\"1110.54\" r=\"18\"/>\n",
       "<circle clip-path=\"url(#clip9903)\" style=\"fill:#009af9; stroke:none; fill-opacity:1\" cx=\"1253.62\" cy=\"1110.54\" r=\"14\"/>\n",
       "<circle clip-path=\"url(#clip9903)\" style=\"fill:#000000; stroke:none; fill-opacity:1\" cx=\"1255.67\" cy=\"1105.96\" r=\"18\"/>\n",
       "<circle clip-path=\"url(#clip9903)\" style=\"fill:#009af9; stroke:none; fill-opacity:1\" cx=\"1255.67\" cy=\"1105.96\" r=\"14\"/>\n",
       "<circle clip-path=\"url(#clip9903)\" style=\"fill:#000000; stroke:none; fill-opacity:1\" cx=\"1257.22\" cy=\"1101.27\" r=\"18\"/>\n",
       "<circle clip-path=\"url(#clip9903)\" style=\"fill:#009af9; stroke:none; fill-opacity:1\" cx=\"1257.22\" cy=\"1101.27\" r=\"14\"/>\n",
       "<circle clip-path=\"url(#clip9903)\" style=\"fill:#000000; stroke:none; fill-opacity:1\" cx=\"1258.16\" cy=\"1096.5\" r=\"18\"/>\n",
       "<circle clip-path=\"url(#clip9903)\" style=\"fill:#009af9; stroke:none; fill-opacity:1\" cx=\"1258.16\" cy=\"1096.5\" r=\"14\"/>\n",
       "<circle clip-path=\"url(#clip9903)\" style=\"fill:#000000; stroke:none; fill-opacity:1\" cx=\"1258.4\" cy=\"1091.68\" r=\"18\"/>\n",
       "<circle clip-path=\"url(#clip9903)\" style=\"fill:#009af9; stroke:none; fill-opacity:1\" cx=\"1258.4\" cy=\"1091.68\" r=\"14\"/>\n",
       "<circle clip-path=\"url(#clip9903)\" style=\"fill:#000000; stroke:none; fill-opacity:1\" cx=\"1257.86\" cy=\"1086.85\" r=\"18\"/>\n",
       "<circle clip-path=\"url(#clip9903)\" style=\"fill:#009af9; stroke:none; fill-opacity:1\" cx=\"1257.86\" cy=\"1086.85\" r=\"14\"/>\n",
       "<circle clip-path=\"url(#clip9903)\" style=\"fill:#000000; stroke:none; fill-opacity:1\" cx=\"1256.51\" cy=\"1082.05\" r=\"18\"/>\n",
       "<circle clip-path=\"url(#clip9903)\" style=\"fill:#009af9; stroke:none; fill-opacity:1\" cx=\"1256.51\" cy=\"1082.05\" r=\"14\"/>\n",
       "<circle clip-path=\"url(#clip9903)\" style=\"fill:#000000; stroke:none; fill-opacity:1\" cx=\"1254.3\" cy=\"1077.31\" r=\"18\"/>\n",
       "<circle clip-path=\"url(#clip9903)\" style=\"fill:#009af9; stroke:none; fill-opacity:1\" cx=\"1254.3\" cy=\"1077.31\" r=\"14\"/>\n",
       "<circle clip-path=\"url(#clip9903)\" style=\"fill:#000000; stroke:none; fill-opacity:1\" cx=\"1251.21\" cy=\"1072.67\" r=\"18\"/>\n",
       "<circle clip-path=\"url(#clip9903)\" style=\"fill:#009af9; stroke:none; fill-opacity:1\" cx=\"1251.21\" cy=\"1072.67\" r=\"14\"/>\n",
       "<circle clip-path=\"url(#clip9903)\" style=\"fill:#000000; stroke:none; fill-opacity:1\" cx=\"1247.28\" cy=\"1068.17\" r=\"18\"/>\n",
       "<circle clip-path=\"url(#clip9903)\" style=\"fill:#009af9; stroke:none; fill-opacity:1\" cx=\"1247.28\" cy=\"1068.17\" r=\"14\"/>\n",
       "<circle clip-path=\"url(#clip9903)\" style=\"fill:#000000; stroke:none; fill-opacity:1\" cx=\"1242.53\" cy=\"1063.85\" r=\"18\"/>\n",
       "<circle clip-path=\"url(#clip9903)\" style=\"fill:#009af9; stroke:none; fill-opacity:1\" cx=\"1242.53\" cy=\"1063.85\" r=\"14\"/>\n",
       "<circle clip-path=\"url(#clip9903)\" style=\"fill:#000000; stroke:none; fill-opacity:1\" cx=\"1237.01\" cy=\"1059.73\" r=\"18\"/>\n",
       "<circle clip-path=\"url(#clip9903)\" style=\"fill:#009af9; stroke:none; fill-opacity:1\" cx=\"1237.01\" cy=\"1059.73\" r=\"14\"/>\n",
       "<circle clip-path=\"url(#clip9903)\" style=\"fill:#000000; stroke:none; fill-opacity:1\" cx=\"1230.83\" cy=\"1055.85\" r=\"18\"/>\n",
       "<circle clip-path=\"url(#clip9903)\" style=\"fill:#009af9; stroke:none; fill-opacity:1\" cx=\"1230.83\" cy=\"1055.85\" r=\"14\"/>\n",
       "<circle clip-path=\"url(#clip9903)\" style=\"fill:#000000; stroke:none; fill-opacity:1\" cx=\"1224.07\" cy=\"1052.22\" r=\"18\"/>\n",
       "<circle clip-path=\"url(#clip9903)\" style=\"fill:#009af9; stroke:none; fill-opacity:1\" cx=\"1224.07\" cy=\"1052.22\" r=\"14\"/>\n",
       "<circle clip-path=\"url(#clip9903)\" style=\"fill:#000000; stroke:none; fill-opacity:1\" cx=\"1216.86\" cy=\"1048.88\" r=\"18\"/>\n",
       "<circle clip-path=\"url(#clip9903)\" style=\"fill:#009af9; stroke:none; fill-opacity:1\" cx=\"1216.86\" cy=\"1048.88\" r=\"14\"/>\n",
       "<circle clip-path=\"url(#clip9903)\" style=\"fill:#000000; stroke:none; fill-opacity:1\" cx=\"1209.35\" cy=\"1045.83\" r=\"18\"/>\n",
       "<circle clip-path=\"url(#clip9903)\" style=\"fill:#009af9; stroke:none; fill-opacity:1\" cx=\"1209.35\" cy=\"1045.83\" r=\"14\"/>\n",
       "<circle clip-path=\"url(#clip9903)\" style=\"fill:#000000; stroke:none; fill-opacity:1\" cx=\"1201.68\" cy=\"1043.08\" r=\"18\"/>\n",
       "<circle clip-path=\"url(#clip9903)\" style=\"fill:#009af9; stroke:none; fill-opacity:1\" cx=\"1201.68\" cy=\"1043.08\" r=\"14\"/>\n",
       "<circle clip-path=\"url(#clip9903)\" style=\"fill:#000000; stroke:none; fill-opacity:1\" cx=\"1194.04\" cy=\"1040.64\" r=\"18\"/>\n",
       "<circle clip-path=\"url(#clip9903)\" style=\"fill:#009af9; stroke:none; fill-opacity:1\" cx=\"1194.04\" cy=\"1040.64\" r=\"14\"/>\n",
       "<circle clip-path=\"url(#clip9903)\" style=\"fill:#000000; stroke:none; fill-opacity:1\" cx=\"1186.58\" cy=\"1038.48\" r=\"18\"/>\n",
       "<circle clip-path=\"url(#clip9903)\" style=\"fill:#009af9; stroke:none; fill-opacity:1\" cx=\"1186.58\" cy=\"1038.48\" r=\"14\"/>\n",
       "<circle clip-path=\"url(#clip9903)\" style=\"fill:#000000; stroke:none; fill-opacity:1\" cx=\"1179.5\" cy=\"1036.61\" r=\"18\"/>\n",
       "<circle clip-path=\"url(#clip9903)\" style=\"fill:#009af9; stroke:none; fill-opacity:1\" cx=\"1179.5\" cy=\"1036.61\" r=\"14\"/>\n",
       "<circle clip-path=\"url(#clip9903)\" style=\"fill:#000000; stroke:none; fill-opacity:1\" cx=\"1172.98\" cy=\"1034.99\" r=\"18\"/>\n",
       "<circle clip-path=\"url(#clip9903)\" style=\"fill:#009af9; stroke:none; fill-opacity:1\" cx=\"1172.98\" cy=\"1034.99\" r=\"14\"/>\n",
       "<circle clip-path=\"url(#clip9903)\" style=\"fill:#000000; stroke:none; fill-opacity:1\" cx=\"1167.19\" cy=\"1033.61\" r=\"18\"/>\n",
       "<circle clip-path=\"url(#clip9903)\" style=\"fill:#009af9; stroke:none; fill-opacity:1\" cx=\"1167.19\" cy=\"1033.61\" r=\"14\"/>\n",
       "<circle clip-path=\"url(#clip9903)\" style=\"fill:#000000; stroke:none; fill-opacity:1\" cx=\"1162.31\" cy=\"1032.43\" r=\"18\"/>\n",
       "<circle clip-path=\"url(#clip9903)\" style=\"fill:#009af9; stroke:none; fill-opacity:1\" cx=\"1162.31\" cy=\"1032.43\" r=\"14\"/>\n",
       "<circle clip-path=\"url(#clip9903)\" style=\"fill:#000000; stroke:none; fill-opacity:1\" cx=\"1158.49\" cy=\"1031.4\" r=\"18\"/>\n",
       "<circle clip-path=\"url(#clip9903)\" style=\"fill:#009af9; stroke:none; fill-opacity:1\" cx=\"1158.49\" cy=\"1031.4\" r=\"14\"/>\n",
       "<circle clip-path=\"url(#clip9903)\" style=\"fill:#000000; stroke:none; fill-opacity:1\" cx=\"1155.89\" cy=\"1030.48\" r=\"18\"/>\n",
       "<circle clip-path=\"url(#clip9903)\" style=\"fill:#009af9; stroke:none; fill-opacity:1\" cx=\"1155.89\" cy=\"1030.48\" r=\"14\"/>\n",
       "<circle clip-path=\"url(#clip9903)\" style=\"fill:#000000; stroke:none; fill-opacity:1\" cx=\"1154.62\" cy=\"1029.63\" r=\"18\"/>\n",
       "<circle clip-path=\"url(#clip9903)\" style=\"fill:#009af9; stroke:none; fill-opacity:1\" cx=\"1154.62\" cy=\"1029.63\" r=\"14\"/>\n",
       "<circle clip-path=\"url(#clip9903)\" style=\"fill:#000000; stroke:none; fill-opacity:1\" cx=\"1154.8\" cy=\"1028.79\" r=\"18\"/>\n",
       "<circle clip-path=\"url(#clip9903)\" style=\"fill:#009af9; stroke:none; fill-opacity:1\" cx=\"1154.8\" cy=\"1028.79\" r=\"14\"/>\n",
       "<circle clip-path=\"url(#clip9903)\" style=\"fill:#000000; stroke:none; fill-opacity:1\" cx=\"1156.5\" cy=\"1027.9\" r=\"18\"/>\n",
       "<circle clip-path=\"url(#clip9903)\" style=\"fill:#009af9; stroke:none; fill-opacity:1\" cx=\"1156.5\" cy=\"1027.9\" r=\"14\"/>\n",
       "<circle clip-path=\"url(#clip9903)\" style=\"fill:#000000; stroke:none; fill-opacity:1\" cx=\"1159.78\" cy=\"1026.9\" r=\"18\"/>\n",
       "<circle clip-path=\"url(#clip9903)\" style=\"fill:#009af9; stroke:none; fill-opacity:1\" cx=\"1159.78\" cy=\"1026.9\" r=\"14\"/>\n",
       "<circle clip-path=\"url(#clip9903)\" style=\"fill:#000000; stroke:none; fill-opacity:1\" cx=\"1164.67\" cy=\"1025.74\" r=\"18\"/>\n",
       "<circle clip-path=\"url(#clip9903)\" style=\"fill:#009af9; stroke:none; fill-opacity:1\" cx=\"1164.67\" cy=\"1025.74\" r=\"14\"/>\n",
       "<circle clip-path=\"url(#clip9903)\" style=\"fill:#000000; stroke:none; fill-opacity:1\" cx=\"1171.14\" cy=\"1024.36\" r=\"18\"/>\n",
       "<circle clip-path=\"url(#clip9903)\" style=\"fill:#009af9; stroke:none; fill-opacity:1\" cx=\"1171.14\" cy=\"1024.36\" r=\"14\"/>\n",
       "<circle clip-path=\"url(#clip9903)\" style=\"fill:#000000; stroke:none; fill-opacity:1\" cx=\"1179.16\" cy=\"1022.69\" r=\"18\"/>\n",
       "<circle clip-path=\"url(#clip9903)\" style=\"fill:#009af9; stroke:none; fill-opacity:1\" cx=\"1179.16\" cy=\"1022.69\" r=\"14\"/>\n",
       "<circle clip-path=\"url(#clip9903)\" style=\"fill:#000000; stroke:none; fill-opacity:1\" cx=\"1188.67\" cy=\"1020.7\" r=\"18\"/>\n",
       "<circle clip-path=\"url(#clip9903)\" style=\"fill:#009af9; stroke:none; fill-opacity:1\" cx=\"1188.67\" cy=\"1020.7\" r=\"14\"/>\n",
       "<circle clip-path=\"url(#clip9903)\" style=\"fill:#000000; stroke:none; fill-opacity:1\" cx=\"1199.55\" cy=\"1018.32\" r=\"18\"/>\n",
       "<circle clip-path=\"url(#clip9903)\" style=\"fill:#009af9; stroke:none; fill-opacity:1\" cx=\"1199.55\" cy=\"1018.32\" r=\"14\"/>\n",
       "<circle clip-path=\"url(#clip9903)\" style=\"fill:#000000; stroke:none; fill-opacity:1\" cx=\"1211.67\" cy=\"1015.53\" r=\"18\"/>\n",
       "<circle clip-path=\"url(#clip9903)\" style=\"fill:#009af9; stroke:none; fill-opacity:1\" cx=\"1211.67\" cy=\"1015.53\" r=\"14\"/>\n",
       "<circle clip-path=\"url(#clip9903)\" style=\"fill:#000000; stroke:none; fill-opacity:1\" cx=\"1224.86\" cy=\"1012.26\" r=\"18\"/>\n",
       "<circle clip-path=\"url(#clip9903)\" style=\"fill:#009af9; stroke:none; fill-opacity:1\" cx=\"1224.86\" cy=\"1012.26\" r=\"14\"/>\n",
       "<circle clip-path=\"url(#clip9903)\" style=\"fill:#000000; stroke:none; fill-opacity:1\" cx=\"1238.93\" cy=\"1008.51\" r=\"18\"/>\n",
       "<circle clip-path=\"url(#clip9903)\" style=\"fill:#009af9; stroke:none; fill-opacity:1\" cx=\"1238.93\" cy=\"1008.51\" r=\"14\"/>\n",
       "<circle clip-path=\"url(#clip9903)\" style=\"fill:#000000; stroke:none; fill-opacity:1\" cx=\"1253.67\" cy=\"1004.25\" r=\"18\"/>\n",
       "<circle clip-path=\"url(#clip9903)\" style=\"fill:#009af9; stroke:none; fill-opacity:1\" cx=\"1253.67\" cy=\"1004.25\" r=\"14\"/>\n",
       "<circle clip-path=\"url(#clip9903)\" style=\"fill:#000000; stroke:none; fill-opacity:1\" cx=\"1268.83\" cy=\"999.457\" r=\"18\"/>\n",
       "<circle clip-path=\"url(#clip9903)\" style=\"fill:#009af9; stroke:none; fill-opacity:1\" cx=\"1268.83\" cy=\"999.457\" r=\"14\"/>\n",
       "<circle clip-path=\"url(#clip9903)\" style=\"fill:#000000; stroke:none; fill-opacity:1\" cx=\"1284.15\" cy=\"994.137\" r=\"18\"/>\n",
       "<circle clip-path=\"url(#clip9903)\" style=\"fill:#009af9; stroke:none; fill-opacity:1\" cx=\"1284.15\" cy=\"994.137\" r=\"14\"/>\n",
       "<circle clip-path=\"url(#clip9903)\" style=\"fill:#000000; stroke:none; fill-opacity:1\" cx=\"1299.38\" cy=\"988.293\" r=\"18\"/>\n",
       "<circle clip-path=\"url(#clip9903)\" style=\"fill:#009af9; stroke:none; fill-opacity:1\" cx=\"1299.38\" cy=\"988.293\" r=\"14\"/>\n",
       "<circle clip-path=\"url(#clip9903)\" style=\"fill:#000000; stroke:none; fill-opacity:1\" cx=\"1314.23\" cy=\"981.943\" r=\"18\"/>\n",
       "<circle clip-path=\"url(#clip9903)\" style=\"fill:#009af9; stroke:none; fill-opacity:1\" cx=\"1314.23\" cy=\"981.943\" r=\"14\"/>\n",
       "<circle clip-path=\"url(#clip9903)\" style=\"fill:#000000; stroke:none; fill-opacity:1\" cx=\"1328.41\" cy=\"975.112\" r=\"18\"/>\n",
       "<circle clip-path=\"url(#clip9903)\" style=\"fill:#009af9; stroke:none; fill-opacity:1\" cx=\"1328.41\" cy=\"975.112\" r=\"14\"/>\n",
       "<circle clip-path=\"url(#clip9903)\" style=\"fill:#000000; stroke:none; fill-opacity:1\" cx=\"1341.66\" cy=\"967.836\" r=\"18\"/>\n",
       "<circle clip-path=\"url(#clip9903)\" style=\"fill:#009af9; stroke:none; fill-opacity:1\" cx=\"1341.66\" cy=\"967.836\" r=\"14\"/>\n",
       "<circle clip-path=\"url(#clip9903)\" style=\"fill:#000000; stroke:none; fill-opacity:1\" cx=\"1353.69\" cy=\"960.16\" r=\"18\"/>\n",
       "<circle clip-path=\"url(#clip9903)\" style=\"fill:#009af9; stroke:none; fill-opacity:1\" cx=\"1353.69\" cy=\"960.16\" r=\"14\"/>\n",
       "<circle clip-path=\"url(#clip9903)\" style=\"fill:#000000; stroke:none; fill-opacity:1\" cx=\"1364.26\" cy=\"952.14\" r=\"18\"/>\n",
       "<circle clip-path=\"url(#clip9903)\" style=\"fill:#009af9; stroke:none; fill-opacity:1\" cx=\"1364.26\" cy=\"952.14\" r=\"14\"/>\n",
       "<circle clip-path=\"url(#clip9903)\" style=\"fill:#000000; stroke:none; fill-opacity:1\" cx=\"1373.11\" cy=\"943.838\" r=\"18\"/>\n",
       "<circle clip-path=\"url(#clip9903)\" style=\"fill:#009af9; stroke:none; fill-opacity:1\" cx=\"1373.11\" cy=\"943.838\" r=\"14\"/>\n",
       "<circle clip-path=\"url(#clip9903)\" style=\"fill:#000000; stroke:none; fill-opacity:1\" cx=\"1380.02\" cy=\"935.323\" r=\"18\"/>\n",
       "<circle clip-path=\"url(#clip9903)\" style=\"fill:#009af9; stroke:none; fill-opacity:1\" cx=\"1380.02\" cy=\"935.323\" r=\"14\"/>\n",
       "<circle clip-path=\"url(#clip9903)\" style=\"fill:#000000; stroke:none; fill-opacity:1\" cx=\"1384.81\" cy=\"926.672\" r=\"18\"/>\n",
       "<circle clip-path=\"url(#clip9903)\" style=\"fill:#009af9; stroke:none; fill-opacity:1\" cx=\"1384.81\" cy=\"926.672\" r=\"14\"/>\n",
       "<circle clip-path=\"url(#clip9903)\" style=\"fill:#000000; stroke:none; fill-opacity:1\" cx=\"1387.32\" cy=\"917.965\" r=\"18\"/>\n",
       "<circle clip-path=\"url(#clip9903)\" style=\"fill:#009af9; stroke:none; fill-opacity:1\" cx=\"1387.32\" cy=\"917.965\" r=\"14\"/>\n",
       "<circle clip-path=\"url(#clip9903)\" style=\"fill:#000000; stroke:none; fill-opacity:1\" cx=\"1387.41\" cy=\"909.289\" r=\"18\"/>\n",
       "<circle clip-path=\"url(#clip9903)\" style=\"fill:#009af9; stroke:none; fill-opacity:1\" cx=\"1387.41\" cy=\"909.289\" r=\"14\"/>\n",
       "<circle clip-path=\"url(#clip9903)\" style=\"fill:#000000; stroke:none; fill-opacity:1\" cx=\"1385\" cy=\"900.729\" r=\"18\"/>\n",
       "<circle clip-path=\"url(#clip9903)\" style=\"fill:#009af9; stroke:none; fill-opacity:1\" cx=\"1385\" cy=\"900.729\" r=\"14\"/>\n",
       "<circle clip-path=\"url(#clip9903)\" style=\"fill:#000000; stroke:none; fill-opacity:1\" cx=\"1380.04\" cy=\"892.374\" r=\"18\"/>\n",
       "<circle clip-path=\"url(#clip9903)\" style=\"fill:#009af9; stroke:none; fill-opacity:1\" cx=\"1380.04\" cy=\"892.374\" r=\"14\"/>\n",
       "<circle clip-path=\"url(#clip9903)\" style=\"fill:#000000; stroke:none; fill-opacity:1\" cx=\"1372.54\" cy=\"884.31\" r=\"18\"/>\n",
       "<circle clip-path=\"url(#clip9903)\" style=\"fill:#009af9; stroke:none; fill-opacity:1\" cx=\"1372.54\" cy=\"884.31\" r=\"14\"/>\n",
       "<circle clip-path=\"url(#clip9903)\" style=\"fill:#000000; stroke:none; fill-opacity:1\" cx=\"1362.54\" cy=\"876.622\" r=\"18\"/>\n",
       "<circle clip-path=\"url(#clip9903)\" style=\"fill:#009af9; stroke:none; fill-opacity:1\" cx=\"1362.54\" cy=\"876.622\" r=\"14\"/>\n",
       "<circle clip-path=\"url(#clip9903)\" style=\"fill:#000000; stroke:none; fill-opacity:1\" cx=\"1350.13\" cy=\"869.391\" r=\"18\"/>\n",
       "<circle clip-path=\"url(#clip9903)\" style=\"fill:#009af9; stroke:none; fill-opacity:1\" cx=\"1350.13\" cy=\"869.391\" r=\"14\"/>\n",
       "<circle clip-path=\"url(#clip9903)\" style=\"fill:#000000; stroke:none; fill-opacity:1\" cx=\"1335.43\" cy=\"862.692\" r=\"18\"/>\n",
       "<circle clip-path=\"url(#clip9903)\" style=\"fill:#009af9; stroke:none; fill-opacity:1\" cx=\"1335.43\" cy=\"862.692\" r=\"14\"/>\n",
       "<circle clip-path=\"url(#clip9903)\" style=\"fill:#000000; stroke:none; fill-opacity:1\" cx=\"1318.63\" cy=\"856.592\" r=\"18\"/>\n",
       "<circle clip-path=\"url(#clip9903)\" style=\"fill:#009af9; stroke:none; fill-opacity:1\" cx=\"1318.63\" cy=\"856.592\" r=\"14\"/>\n",
       "<circle clip-path=\"url(#clip9903)\" style=\"fill:#000000; stroke:none; fill-opacity:1\" cx=\"1299.96\" cy=\"851.153\" r=\"18\"/>\n",
       "<circle clip-path=\"url(#clip9903)\" style=\"fill:#009af9; stroke:none; fill-opacity:1\" cx=\"1299.96\" cy=\"851.153\" r=\"14\"/>\n",
       "<circle clip-path=\"url(#clip9903)\" style=\"fill:#000000; stroke:none; fill-opacity:1\" cx=\"1279.65\" cy=\"846.422\" r=\"18\"/>\n",
       "<circle clip-path=\"url(#clip9903)\" style=\"fill:#009af9; stroke:none; fill-opacity:1\" cx=\"1279.65\" cy=\"846.422\" r=\"14\"/>\n",
       "<circle clip-path=\"url(#clip9903)\" style=\"fill:#000000; stroke:none; fill-opacity:1\" cx=\"1258.02\" cy=\"842.44\" r=\"18\"/>\n",
       "<circle clip-path=\"url(#clip9903)\" style=\"fill:#009af9; stroke:none; fill-opacity:1\" cx=\"1258.02\" cy=\"842.44\" r=\"14\"/>\n",
       "<circle clip-path=\"url(#clip9903)\" style=\"fill:#000000; stroke:none; fill-opacity:1\" cx=\"1235.39\" cy=\"839.233\" r=\"18\"/>\n",
       "<circle clip-path=\"url(#clip9903)\" style=\"fill:#009af9; stroke:none; fill-opacity:1\" cx=\"1235.39\" cy=\"839.233\" r=\"14\"/>\n",
       "<circle clip-path=\"url(#clip9903)\" style=\"fill:#000000; stroke:none; fill-opacity:1\" cx=\"1212.11\" cy=\"836.817\" r=\"18\"/>\n",
       "<circle clip-path=\"url(#clip9903)\" style=\"fill:#009af9; stroke:none; fill-opacity:1\" cx=\"1212.11\" cy=\"836.817\" r=\"14\"/>\n",
       "<circle clip-path=\"url(#clip9903)\" style=\"fill:#000000; stroke:none; fill-opacity:1\" cx=\"1188.55\" cy=\"835.192\" r=\"18\"/>\n",
       "<circle clip-path=\"url(#clip9903)\" style=\"fill:#009af9; stroke:none; fill-opacity:1\" cx=\"1188.55\" cy=\"835.192\" r=\"14\"/>\n",
       "<circle clip-path=\"url(#clip9903)\" style=\"fill:#000000; stroke:none; fill-opacity:1\" cx=\"1165.1\" cy=\"834.346\" r=\"18\"/>\n",
       "<circle clip-path=\"url(#clip9903)\" style=\"fill:#009af9; stroke:none; fill-opacity:1\" cx=\"1165.1\" cy=\"834.346\" r=\"14\"/>\n",
       "<circle clip-path=\"url(#clip9903)\" style=\"fill:#000000; stroke:none; fill-opacity:1\" cx=\"1142.16\" cy=\"834.253\" r=\"18\"/>\n",
       "<circle clip-path=\"url(#clip9903)\" style=\"fill:#009af9; stroke:none; fill-opacity:1\" cx=\"1142.16\" cy=\"834.253\" r=\"14\"/>\n",
       "<circle clip-path=\"url(#clip9903)\" style=\"fill:#000000; stroke:none; fill-opacity:1\" cx=\"1120.13\" cy=\"834.875\" r=\"18\"/>\n",
       "<circle clip-path=\"url(#clip9903)\" style=\"fill:#009af9; stroke:none; fill-opacity:1\" cx=\"1120.13\" cy=\"834.875\" r=\"14\"/>\n",
       "<circle clip-path=\"url(#clip9903)\" style=\"fill:#000000; stroke:none; fill-opacity:1\" cx=\"1099.41\" cy=\"836.157\" r=\"18\"/>\n",
       "<circle clip-path=\"url(#clip9903)\" style=\"fill:#009af9; stroke:none; fill-opacity:1\" cx=\"1099.41\" cy=\"836.157\" r=\"14\"/>\n",
       "<circle clip-path=\"url(#clip9903)\" style=\"fill:#000000; stroke:none; fill-opacity:1\" cx=\"1080.37\" cy=\"838.035\" r=\"18\"/>\n",
       "<circle clip-path=\"url(#clip9903)\" style=\"fill:#009af9; stroke:none; fill-opacity:1\" cx=\"1080.37\" cy=\"838.035\" r=\"14\"/>\n",
       "<circle clip-path=\"url(#clip9903)\" style=\"fill:#000000; stroke:none; fill-opacity:1\" cx=\"1063.38\" cy=\"840.431\" r=\"18\"/>\n",
       "<circle clip-path=\"url(#clip9903)\" style=\"fill:#009af9; stroke:none; fill-opacity:1\" cx=\"1063.38\" cy=\"840.431\" r=\"14\"/>\n",
       "<circle clip-path=\"url(#clip9903)\" style=\"fill:#000000; stroke:none; fill-opacity:1\" cx=\"1048.77\" cy=\"843.257\" r=\"18\"/>\n",
       "<circle clip-path=\"url(#clip9903)\" style=\"fill:#009af9; stroke:none; fill-opacity:1\" cx=\"1048.77\" cy=\"843.257\" r=\"14\"/>\n",
       "<circle clip-path=\"url(#clip9903)\" style=\"fill:#000000; stroke:none; fill-opacity:1\" cx=\"1036.86\" cy=\"846.416\" r=\"18\"/>\n",
       "<circle clip-path=\"url(#clip9903)\" style=\"fill:#009af9; stroke:none; fill-opacity:1\" cx=\"1036.86\" cy=\"846.416\" r=\"14\"/>\n",
       "<circle clip-path=\"url(#clip9903)\" style=\"fill:#000000; stroke:none; fill-opacity:1\" cx=\"1027.91\" cy=\"849.802\" r=\"18\"/>\n",
       "<circle clip-path=\"url(#clip9903)\" style=\"fill:#009af9; stroke:none; fill-opacity:1\" cx=\"1027.91\" cy=\"849.802\" r=\"14\"/>\n",
       "<circle clip-path=\"url(#clip9903)\" style=\"fill:#000000; stroke:none; fill-opacity:1\" cx=\"1022.15\" cy=\"853.302\" r=\"18\"/>\n",
       "<circle clip-path=\"url(#clip9903)\" style=\"fill:#009af9; stroke:none; fill-opacity:1\" cx=\"1022.15\" cy=\"853.302\" r=\"14\"/>\n",
       "<circle clip-path=\"url(#clip9903)\" style=\"fill:#000000; stroke:none; fill-opacity:1\" cx=\"1019.75\" cy=\"856.801\" r=\"18\"/>\n",
       "<circle clip-path=\"url(#clip9903)\" style=\"fill:#009af9; stroke:none; fill-opacity:1\" cx=\"1019.75\" cy=\"856.801\" r=\"14\"/>\n",
       "<circle clip-path=\"url(#clip9903)\" style=\"fill:#000000; stroke:none; fill-opacity:1\" cx=\"1020.84\" cy=\"860.177\" r=\"18\"/>\n",
       "<circle clip-path=\"url(#clip9903)\" style=\"fill:#009af9; stroke:none; fill-opacity:1\" cx=\"1020.84\" cy=\"860.177\" r=\"14\"/>\n",
       "<circle clip-path=\"url(#clip9903)\" style=\"fill:#000000; stroke:none; fill-opacity:1\" cx=\"1025.48\" cy=\"863.312\" r=\"18\"/>\n",
       "<circle clip-path=\"url(#clip9903)\" style=\"fill:#009af9; stroke:none; fill-opacity:1\" cx=\"1025.48\" cy=\"863.312\" r=\"14\"/>\n",
       "<circle clip-path=\"url(#clip9903)\" style=\"fill:#000000; stroke:none; fill-opacity:1\" cx=\"1033.68\" cy=\"866.085\" r=\"18\"/>\n",
       "<circle clip-path=\"url(#clip9903)\" style=\"fill:#009af9; stroke:none; fill-opacity:1\" cx=\"1033.68\" cy=\"866.085\" r=\"14\"/>\n",
       "<circle clip-path=\"url(#clip9903)\" style=\"fill:#000000; stroke:none; fill-opacity:1\" cx=\"1045.4\" cy=\"868.382\" r=\"18\"/>\n",
       "<circle clip-path=\"url(#clip9903)\" style=\"fill:#009af9; stroke:none; fill-opacity:1\" cx=\"1045.4\" cy=\"868.382\" r=\"14\"/>\n",
       "<circle clip-path=\"url(#clip9903)\" style=\"fill:#000000; stroke:none; fill-opacity:1\" cx=\"1060.52\" cy=\"870.09\" r=\"18\"/>\n",
       "<circle clip-path=\"url(#clip9903)\" style=\"fill:#009af9; stroke:none; fill-opacity:1\" cx=\"1060.52\" cy=\"870.09\" r=\"14\"/>\n",
       "<circle clip-path=\"url(#clip9903)\" style=\"fill:#000000; stroke:none; fill-opacity:1\" cx=\"1078.88\" cy=\"871.107\" r=\"18\"/>\n",
       "<circle clip-path=\"url(#clip9903)\" style=\"fill:#009af9; stroke:none; fill-opacity:1\" cx=\"1078.88\" cy=\"871.107\" r=\"14\"/>\n",
       "<circle clip-path=\"url(#clip9903)\" style=\"fill:#000000; stroke:none; fill-opacity:1\" cx=\"1100.24\" cy=\"871.34\" r=\"18\"/>\n",
       "<circle clip-path=\"url(#clip9903)\" style=\"fill:#009af9; stroke:none; fill-opacity:1\" cx=\"1100.24\" cy=\"871.34\" r=\"14\"/>\n",
       "<circle clip-path=\"url(#clip9903)\" style=\"fill:#000000; stroke:none; fill-opacity:1\" cx=\"1124.33\" cy=\"870.704\" r=\"18\"/>\n",
       "<circle clip-path=\"url(#clip9903)\" style=\"fill:#009af9; stroke:none; fill-opacity:1\" cx=\"1124.33\" cy=\"870.704\" r=\"14\"/>\n",
       "<circle clip-path=\"url(#clip9903)\" style=\"fill:#000000; stroke:none; fill-opacity:1\" cx=\"1150.81\" cy=\"869.131\" r=\"18\"/>\n",
       "<circle clip-path=\"url(#clip9903)\" style=\"fill:#009af9; stroke:none; fill-opacity:1\" cx=\"1150.81\" cy=\"869.131\" r=\"14\"/>\n",
       "<circle clip-path=\"url(#clip9903)\" style=\"fill:#000000; stroke:none; fill-opacity:1\" cx=\"1179.29\" cy=\"866.562\" r=\"18\"/>\n",
       "<circle clip-path=\"url(#clip9903)\" style=\"fill:#009af9; stroke:none; fill-opacity:1\" cx=\"1179.29\" cy=\"866.562\" r=\"14\"/>\n",
       "<circle clip-path=\"url(#clip9903)\" style=\"fill:#000000; stroke:none; fill-opacity:1\" cx=\"1209.36\" cy=\"862.959\" r=\"18\"/>\n",
       "<circle clip-path=\"url(#clip9903)\" style=\"fill:#009af9; stroke:none; fill-opacity:1\" cx=\"1209.36\" cy=\"862.959\" r=\"14\"/>\n",
       "<circle clip-path=\"url(#clip9903)\" style=\"fill:#000000; stroke:none; fill-opacity:1\" cx=\"1240.56\" cy=\"858.295\" r=\"18\"/>\n",
       "<circle clip-path=\"url(#clip9903)\" style=\"fill:#009af9; stroke:none; fill-opacity:1\" cx=\"1240.56\" cy=\"858.295\" r=\"14\"/>\n",
       "<circle clip-path=\"url(#clip9903)\" style=\"fill:#000000; stroke:none; fill-opacity:1\" cx=\"1272.39\" cy=\"852.565\" r=\"18\"/>\n",
       "<circle clip-path=\"url(#clip9903)\" style=\"fill:#009af9; stroke:none; fill-opacity:1\" cx=\"1272.39\" cy=\"852.565\" r=\"14\"/>\n",
       "<circle clip-path=\"url(#clip9903)\" style=\"fill:#000000; stroke:none; fill-opacity:1\" cx=\"1304.35\" cy=\"845.777\" r=\"18\"/>\n",
       "<circle clip-path=\"url(#clip9903)\" style=\"fill:#009af9; stroke:none; fill-opacity:1\" cx=\"1304.35\" cy=\"845.777\" r=\"14\"/>\n",
       "<circle clip-path=\"url(#clip9903)\" style=\"fill:#000000; stroke:none; fill-opacity:1\" cx=\"1335.92\" cy=\"837.961\" r=\"18\"/>\n",
       "<circle clip-path=\"url(#clip9903)\" style=\"fill:#009af9; stroke:none; fill-opacity:1\" cx=\"1335.92\" cy=\"837.961\" r=\"14\"/>\n",
       "<circle clip-path=\"url(#clip9903)\" style=\"fill:#000000; stroke:none; fill-opacity:1\" cx=\"1366.57\" cy=\"829.161\" r=\"18\"/>\n",
       "<circle clip-path=\"url(#clip9903)\" style=\"fill:#009af9; stroke:none; fill-opacity:1\" cx=\"1366.57\" cy=\"829.161\" r=\"14\"/>\n",
       "<circle clip-path=\"url(#clip9903)\" style=\"fill:#000000; stroke:none; fill-opacity:1\" cx=\"1395.78\" cy=\"819.44\" r=\"18\"/>\n",
       "<circle clip-path=\"url(#clip9903)\" style=\"fill:#009af9; stroke:none; fill-opacity:1\" cx=\"1395.78\" cy=\"819.44\" r=\"14\"/>\n",
       "<circle clip-path=\"url(#clip9903)\" style=\"fill:#000000; stroke:none; fill-opacity:1\" cx=\"1423.04\" cy=\"808.879\" r=\"18\"/>\n",
       "<circle clip-path=\"url(#clip9903)\" style=\"fill:#009af9; stroke:none; fill-opacity:1\" cx=\"1423.04\" cy=\"808.879\" r=\"14\"/>\n",
       "<circle clip-path=\"url(#clip9903)\" style=\"fill:#000000; stroke:none; fill-opacity:1\" cx=\"1447.88\" cy=\"797.57\" r=\"18\"/>\n",
       "<circle clip-path=\"url(#clip9903)\" style=\"fill:#009af9; stroke:none; fill-opacity:1\" cx=\"1447.88\" cy=\"797.57\" r=\"14\"/>\n",
       "<circle clip-path=\"url(#clip9903)\" style=\"fill:#000000; stroke:none; fill-opacity:1\" cx=\"1469.82\" cy=\"785.625\" r=\"18\"/>\n",
       "<circle clip-path=\"url(#clip9903)\" style=\"fill:#009af9; stroke:none; fill-opacity:1\" cx=\"1469.82\" cy=\"785.625\" r=\"14\"/>\n",
       "<circle clip-path=\"url(#clip9903)\" style=\"fill:#000000; stroke:none; fill-opacity:1\" cx=\"1488.47\" cy=\"773.164\" r=\"18\"/>\n",
       "<circle clip-path=\"url(#clip9903)\" style=\"fill:#009af9; stroke:none; fill-opacity:1\" cx=\"1488.47\" cy=\"773.164\" r=\"14\"/>\n",
       "<circle clip-path=\"url(#clip9903)\" style=\"fill:#000000; stroke:none; fill-opacity:1\" cx=\"1503.44\" cy=\"760.321\" r=\"18\"/>\n",
       "<circle clip-path=\"url(#clip9903)\" style=\"fill:#009af9; stroke:none; fill-opacity:1\" cx=\"1503.44\" cy=\"760.321\" r=\"14\"/>\n",
       "<circle clip-path=\"url(#clip9903)\" style=\"fill:#000000; stroke:none; fill-opacity:1\" cx=\"1514.42\" cy=\"747.235\" r=\"18\"/>\n",
       "<circle clip-path=\"url(#clip9903)\" style=\"fill:#009af9; stroke:none; fill-opacity:1\" cx=\"1514.42\" cy=\"747.235\" r=\"14\"/>\n",
       "<circle clip-path=\"url(#clip9903)\" style=\"fill:#000000; stroke:none; fill-opacity:1\" cx=\"1521.15\" cy=\"734.057\" r=\"18\"/>\n",
       "<circle clip-path=\"url(#clip9903)\" style=\"fill:#009af9; stroke:none; fill-opacity:1\" cx=\"1521.15\" cy=\"734.057\" r=\"14\"/>\n",
       "<circle clip-path=\"url(#clip9903)\" style=\"fill:#000000; stroke:none; fill-opacity:1\" cx=\"1523.45\" cy=\"720.938\" r=\"18\"/>\n",
       "<circle clip-path=\"url(#clip9903)\" style=\"fill:#009af9; stroke:none; fill-opacity:1\" cx=\"1523.45\" cy=\"720.938\" r=\"14\"/>\n",
       "<circle clip-path=\"url(#clip9903)\" style=\"fill:#000000; stroke:none; fill-opacity:1\" cx=\"1521.19\" cy=\"708.033\" r=\"18\"/>\n",
       "<circle clip-path=\"url(#clip9903)\" style=\"fill:#009af9; stroke:none; fill-opacity:1\" cx=\"1521.19\" cy=\"708.033\" r=\"14\"/>\n",
       "<circle clip-path=\"url(#clip9903)\" style=\"fill:#000000; stroke:none; fill-opacity:1\" cx=\"1514.32\" cy=\"695.495\" r=\"18\"/>\n",
       "<circle clip-path=\"url(#clip9903)\" style=\"fill:#009af9; stroke:none; fill-opacity:1\" cx=\"1514.32\" cy=\"695.495\" r=\"14\"/>\n",
       "<circle clip-path=\"url(#clip9903)\" style=\"fill:#000000; stroke:none; fill-opacity:1\" cx=\"1502.87\" cy=\"683.475\" r=\"18\"/>\n",
       "<circle clip-path=\"url(#clip9903)\" style=\"fill:#009af9; stroke:none; fill-opacity:1\" cx=\"1502.87\" cy=\"683.475\" r=\"14\"/>\n",
       "<circle clip-path=\"url(#clip9903)\" style=\"fill:#000000; stroke:none; fill-opacity:1\" cx=\"1486.93\" cy=\"672.118\" r=\"18\"/>\n",
       "<circle clip-path=\"url(#clip9903)\" style=\"fill:#009af9; stroke:none; fill-opacity:1\" cx=\"1486.93\" cy=\"672.118\" r=\"14\"/>\n",
       "<circle clip-path=\"url(#clip9903)\" style=\"fill:#000000; stroke:none; fill-opacity:1\" cx=\"1466.69\" cy=\"661.561\" r=\"18\"/>\n",
       "<circle clip-path=\"url(#clip9903)\" style=\"fill:#009af9; stroke:none; fill-opacity:1\" cx=\"1466.69\" cy=\"661.561\" r=\"14\"/>\n",
       "<circle clip-path=\"url(#clip9903)\" style=\"fill:#000000; stroke:none; fill-opacity:1\" cx=\"1442.39\" cy=\"651.928\" r=\"18\"/>\n",
       "<circle clip-path=\"url(#clip9903)\" style=\"fill:#009af9; stroke:none; fill-opacity:1\" cx=\"1442.39\" cy=\"651.928\" r=\"14\"/>\n",
       "<circle clip-path=\"url(#clip9903)\" style=\"fill:#000000; stroke:none; fill-opacity:1\" cx=\"1414.35\" cy=\"643.334\" r=\"18\"/>\n",
       "<circle clip-path=\"url(#clip9903)\" style=\"fill:#009af9; stroke:none; fill-opacity:1\" cx=\"1414.35\" cy=\"643.334\" r=\"14\"/>\n",
       "<circle clip-path=\"url(#clip9903)\" style=\"fill:#000000; stroke:none; fill-opacity:1\" cx=\"1382.97\" cy=\"635.876\" r=\"18\"/>\n",
       "<circle clip-path=\"url(#clip9903)\" style=\"fill:#009af9; stroke:none; fill-opacity:1\" cx=\"1382.97\" cy=\"635.876\" r=\"14\"/>\n",
       "<circle clip-path=\"url(#clip9903)\" style=\"fill:#000000; stroke:none; fill-opacity:1\" cx=\"1348.7\" cy=\"629.635\" r=\"18\"/>\n",
       "<circle clip-path=\"url(#clip9903)\" style=\"fill:#009af9; stroke:none; fill-opacity:1\" cx=\"1348.7\" cy=\"629.635\" r=\"14\"/>\n",
       "<circle clip-path=\"url(#clip9903)\" style=\"fill:#000000; stroke:none; fill-opacity:1\" cx=\"1312.03\" cy=\"624.673\" r=\"18\"/>\n",
       "<circle clip-path=\"url(#clip9903)\" style=\"fill:#009af9; stroke:none; fill-opacity:1\" cx=\"1312.03\" cy=\"624.673\" r=\"14\"/>\n",
       "<circle clip-path=\"url(#clip9903)\" style=\"fill:#000000; stroke:none; fill-opacity:1\" cx=\"1273.52\" cy=\"621.034\" r=\"18\"/>\n",
       "<circle clip-path=\"url(#clip9903)\" style=\"fill:#009af9; stroke:none; fill-opacity:1\" cx=\"1273.52\" cy=\"621.034\" r=\"14\"/>\n",
       "<circle clip-path=\"url(#clip9903)\" style=\"fill:#000000; stroke:none; fill-opacity:1\" cx=\"1233.76\" cy=\"618.739\" r=\"18\"/>\n",
       "<circle clip-path=\"url(#clip9903)\" style=\"fill:#009af9; stroke:none; fill-opacity:1\" cx=\"1233.76\" cy=\"618.739\" r=\"14\"/>\n",
       "<circle clip-path=\"url(#clip9903)\" style=\"fill:#000000; stroke:none; fill-opacity:1\" cx=\"1193.39\" cy=\"617.788\" r=\"18\"/>\n",
       "<circle clip-path=\"url(#clip9903)\" style=\"fill:#009af9; stroke:none; fill-opacity:1\" cx=\"1193.39\" cy=\"617.788\" r=\"14\"/>\n",
       "<circle clip-path=\"url(#clip9903)\" style=\"fill:#000000; stroke:none; fill-opacity:1\" cx=\"1153.03\" cy=\"618.16\" r=\"18\"/>\n",
       "<circle clip-path=\"url(#clip9903)\" style=\"fill:#009af9; stroke:none; fill-opacity:1\" cx=\"1153.03\" cy=\"618.16\" r=\"14\"/>\n",
       "<circle clip-path=\"url(#clip9903)\" style=\"fill:#000000; stroke:none; fill-opacity:1\" cx=\"1113.34\" cy=\"619.81\" r=\"18\"/>\n",
       "<circle clip-path=\"url(#clip9903)\" style=\"fill:#009af9; stroke:none; fill-opacity:1\" cx=\"1113.34\" cy=\"619.81\" r=\"14\"/>\n",
       "<circle clip-path=\"url(#clip9903)\" style=\"fill:#000000; stroke:none; fill-opacity:1\" cx=\"1074.98\" cy=\"622.674\" r=\"18\"/>\n",
       "<circle clip-path=\"url(#clip9903)\" style=\"fill:#009af9; stroke:none; fill-opacity:1\" cx=\"1074.98\" cy=\"622.674\" r=\"14\"/>\n",
       "<circle clip-path=\"url(#clip9903)\" style=\"fill:#000000; stroke:none; fill-opacity:1\" cx=\"1038.58\" cy=\"626.666\" r=\"18\"/>\n",
       "<circle clip-path=\"url(#clip9903)\" style=\"fill:#009af9; stroke:none; fill-opacity:1\" cx=\"1038.58\" cy=\"626.666\" r=\"14\"/>\n",
       "<circle clip-path=\"url(#clip9903)\" style=\"fill:#000000; stroke:none; fill-opacity:1\" cx=\"1004.78\" cy=\"631.678\" r=\"18\"/>\n",
       "<circle clip-path=\"url(#clip9903)\" style=\"fill:#009af9; stroke:none; fill-opacity:1\" cx=\"1004.78\" cy=\"631.678\" r=\"14\"/>\n",
       "<circle clip-path=\"url(#clip9903)\" style=\"fill:#000000; stroke:none; fill-opacity:1\" cx=\"974.151\" cy=\"637.588\" r=\"18\"/>\n",
       "<circle clip-path=\"url(#clip9903)\" style=\"fill:#009af9; stroke:none; fill-opacity:1\" cx=\"974.151\" cy=\"637.588\" r=\"14\"/>\n",
       "<circle clip-path=\"url(#clip9903)\" style=\"fill:#000000; stroke:none; fill-opacity:1\" cx=\"947.249\" cy=\"644.254\" r=\"18\"/>\n",
       "<circle clip-path=\"url(#clip9903)\" style=\"fill:#009af9; stroke:none; fill-opacity:1\" cx=\"947.249\" cy=\"644.254\" r=\"14\"/>\n",
       "<circle clip-path=\"url(#clip9903)\" style=\"fill:#000000; stroke:none; fill-opacity:1\" cx=\"924.565\" cy=\"651.521\" r=\"18\"/>\n",
       "<circle clip-path=\"url(#clip9903)\" style=\"fill:#009af9; stroke:none; fill-opacity:1\" cx=\"924.565\" cy=\"651.521\" r=\"14\"/>\n",
       "<circle clip-path=\"url(#clip9903)\" style=\"fill:#000000; stroke:none; fill-opacity:1\" cx=\"906.534\" cy=\"659.221\" r=\"18\"/>\n",
       "<circle clip-path=\"url(#clip9903)\" style=\"fill:#009af9; stroke:none; fill-opacity:1\" cx=\"906.534\" cy=\"659.221\" r=\"14\"/>\n",
       "<circle clip-path=\"url(#clip9903)\" style=\"fill:#000000; stroke:none; fill-opacity:1\" cx=\"893.519\" cy=\"667.177\" r=\"18\"/>\n",
       "<circle clip-path=\"url(#clip9903)\" style=\"fill:#009af9; stroke:none; fill-opacity:1\" cx=\"893.519\" cy=\"667.177\" r=\"14\"/>\n",
       "<circle clip-path=\"url(#clip9903)\" style=\"fill:#000000; stroke:none; fill-opacity:1\" cx=\"885.811\" cy=\"675.205\" r=\"18\"/>\n",
       "<circle clip-path=\"url(#clip9903)\" style=\"fill:#009af9; stroke:none; fill-opacity:1\" cx=\"885.811\" cy=\"675.205\" r=\"14\"/>\n",
       "<circle clip-path=\"url(#clip9903)\" style=\"fill:#000000; stroke:none; fill-opacity:1\" cx=\"883.614\" cy=\"683.116\" r=\"18\"/>\n",
       "<circle clip-path=\"url(#clip9903)\" style=\"fill:#009af9; stroke:none; fill-opacity:1\" cx=\"883.614\" cy=\"683.116\" r=\"14\"/>\n",
       "<circle clip-path=\"url(#clip9903)\" style=\"fill:#000000; stroke:none; fill-opacity:1\" cx=\"887.051\" cy=\"690.722\" r=\"18\"/>\n",
       "<circle clip-path=\"url(#clip9903)\" style=\"fill:#009af9; stroke:none; fill-opacity:1\" cx=\"887.051\" cy=\"690.722\" r=\"14\"/>\n",
       "<circle clip-path=\"url(#clip9903)\" style=\"fill:#000000; stroke:none; fill-opacity:1\" cx=\"896.152\" cy=\"697.834\" r=\"18\"/>\n",
       "<circle clip-path=\"url(#clip9903)\" style=\"fill:#009af9; stroke:none; fill-opacity:1\" cx=\"896.152\" cy=\"697.834\" r=\"14\"/>\n",
       "<circle clip-path=\"url(#clip9903)\" style=\"fill:#000000; stroke:none; fill-opacity:1\" cx=\"910.857\" cy=\"704.272\" r=\"18\"/>\n",
       "<circle clip-path=\"url(#clip9903)\" style=\"fill:#009af9; stroke:none; fill-opacity:1\" cx=\"910.857\" cy=\"704.272\" r=\"14\"/>\n",
       "<circle clip-path=\"url(#clip9903)\" style=\"fill:#000000; stroke:none; fill-opacity:1\" cx=\"931.012\" cy=\"709.861\" r=\"18\"/>\n",
       "<circle clip-path=\"url(#clip9903)\" style=\"fill:#009af9; stroke:none; fill-opacity:1\" cx=\"931.012\" cy=\"709.861\" r=\"14\"/>\n",
       "<circle clip-path=\"url(#clip9903)\" style=\"fill:#000000; stroke:none; fill-opacity:1\" cx=\"956.376\" cy=\"714.44\" r=\"18\"/>\n",
       "<circle clip-path=\"url(#clip9903)\" style=\"fill:#009af9; stroke:none; fill-opacity:1\" cx=\"956.376\" cy=\"714.44\" r=\"14\"/>\n",
       "<circle clip-path=\"url(#clip9903)\" style=\"fill:#000000; stroke:none; fill-opacity:1\" cx=\"986.617\" cy=\"717.859\" r=\"18\"/>\n",
       "<circle clip-path=\"url(#clip9903)\" style=\"fill:#009af9; stroke:none; fill-opacity:1\" cx=\"986.617\" cy=\"717.859\" r=\"14\"/>\n",
       "<circle clip-path=\"url(#clip9903)\" style=\"fill:#000000; stroke:none; fill-opacity:1\" cx=\"1021.32\" cy=\"719.986\" r=\"18\"/>\n",
       "<circle clip-path=\"url(#clip9903)\" style=\"fill:#009af9; stroke:none; fill-opacity:1\" cx=\"1021.32\" cy=\"719.986\" r=\"14\"/>\n",
       "<circle clip-path=\"url(#clip9903)\" style=\"fill:#000000; stroke:none; fill-opacity:1\" cx=\"1059.99\" cy=\"720.71\" r=\"18\"/>\n",
       "<circle clip-path=\"url(#clip9903)\" style=\"fill:#009af9; stroke:none; fill-opacity:1\" cx=\"1059.99\" cy=\"720.71\" r=\"14\"/>\n",
       "<circle clip-path=\"url(#clip9903)\" style=\"fill:#000000; stroke:none; fill-opacity:1\" cx=\"1102.07\" cy=\"719.937\" r=\"18\"/>\n",
       "<circle clip-path=\"url(#clip9903)\" style=\"fill:#009af9; stroke:none; fill-opacity:1\" cx=\"1102.07\" cy=\"719.937\" r=\"14\"/>\n",
       "<circle clip-path=\"url(#clip9903)\" style=\"fill:#000000; stroke:none; fill-opacity:1\" cx=\"1146.92\" cy=\"717.6\" r=\"18\"/>\n",
       "<circle clip-path=\"url(#clip9903)\" style=\"fill:#009af9; stroke:none; fill-opacity:1\" cx=\"1146.92\" cy=\"717.6\" r=\"14\"/>\n",
       "<circle clip-path=\"url(#clip9903)\" style=\"fill:#000000; stroke:none; fill-opacity:1\" cx=\"1193.87\" cy=\"713.653\" r=\"18\"/>\n",
       "<circle clip-path=\"url(#clip9903)\" style=\"fill:#009af9; stroke:none; fill-opacity:1\" cx=\"1193.87\" cy=\"713.653\" r=\"14\"/>\n",
       "<circle clip-path=\"url(#clip9903)\" style=\"fill:#000000; stroke:none; fill-opacity:1\" cx=\"1242.18\" cy=\"708.078\" r=\"18\"/>\n",
       "<circle clip-path=\"url(#clip9903)\" style=\"fill:#009af9; stroke:none; fill-opacity:1\" cx=\"1242.18\" cy=\"708.078\" r=\"14\"/>\n",
       "<circle clip-path=\"url(#clip9903)\" style=\"fill:#000000; stroke:none; fill-opacity:1\" cx=\"1291.11\" cy=\"700.882\" r=\"18\"/>\n",
       "<circle clip-path=\"url(#clip9903)\" style=\"fill:#009af9; stroke:none; fill-opacity:1\" cx=\"1291.11\" cy=\"700.882\" r=\"14\"/>\n",
       "<circle clip-path=\"url(#clip9903)\" style=\"fill:#000000; stroke:none; fill-opacity:1\" cx=\"1339.87\" cy=\"692.097\" r=\"18\"/>\n",
       "<circle clip-path=\"url(#clip9903)\" style=\"fill:#009af9; stroke:none; fill-opacity:1\" cx=\"1339.87\" cy=\"692.097\" r=\"14\"/>\n",
       "<circle clip-path=\"url(#clip9903)\" style=\"fill:#000000; stroke:none; fill-opacity:1\" cx=\"1387.68\" cy=\"681.785\" r=\"18\"/>\n",
       "<circle clip-path=\"url(#clip9903)\" style=\"fill:#009af9; stroke:none; fill-opacity:1\" cx=\"1387.68\" cy=\"681.785\" r=\"14\"/>\n",
       "<circle clip-path=\"url(#clip9903)\" style=\"fill:#000000; stroke:none; fill-opacity:1\" cx=\"1433.75\" cy=\"670.028\" r=\"18\"/>\n",
       "<circle clip-path=\"url(#clip9903)\" style=\"fill:#009af9; stroke:none; fill-opacity:1\" cx=\"1433.75\" cy=\"670.028\" r=\"14\"/>\n",
       "<circle clip-path=\"url(#clip9903)\" style=\"fill:#000000; stroke:none; fill-opacity:1\" cx=\"1477.33\" cy=\"656.938\" r=\"18\"/>\n",
       "<circle clip-path=\"url(#clip9903)\" style=\"fill:#009af9; stroke:none; fill-opacity:1\" cx=\"1477.33\" cy=\"656.938\" r=\"14\"/>\n",
       "<circle clip-path=\"url(#clip9903)\" style=\"fill:#000000; stroke:none; fill-opacity:1\" cx=\"1517.67\" cy=\"642.645\" r=\"18\"/>\n",
       "<circle clip-path=\"url(#clip9903)\" style=\"fill:#009af9; stroke:none; fill-opacity:1\" cx=\"1517.67\" cy=\"642.645\" r=\"14\"/>\n",
       "<circle clip-path=\"url(#clip9903)\" style=\"fill:#000000; stroke:none; fill-opacity:1\" cx=\"1554.09\" cy=\"627.305\" r=\"18\"/>\n",
       "<circle clip-path=\"url(#clip9903)\" style=\"fill:#009af9; stroke:none; fill-opacity:1\" cx=\"1554.09\" cy=\"627.305\" r=\"14\"/>\n",
       "<circle clip-path=\"url(#clip9903)\" style=\"fill:#000000; stroke:none; fill-opacity:1\" cx=\"1585.95\" cy=\"611.09\" r=\"18\"/>\n",
       "<circle clip-path=\"url(#clip9903)\" style=\"fill:#009af9; stroke:none; fill-opacity:1\" cx=\"1585.95\" cy=\"611.09\" r=\"14\"/>\n",
       "<circle clip-path=\"url(#clip9903)\" style=\"fill:#000000; stroke:none; fill-opacity:1\" cx=\"1612.67\" cy=\"594.188\" r=\"18\"/>\n",
       "<circle clip-path=\"url(#clip9903)\" style=\"fill:#009af9; stroke:none; fill-opacity:1\" cx=\"1612.67\" cy=\"594.188\" r=\"14\"/>\n",
       "<circle clip-path=\"url(#clip9903)\" style=\"fill:#000000; stroke:none; fill-opacity:1\" cx=\"1633.76\" cy=\"576.803\" r=\"18\"/>\n",
       "<circle clip-path=\"url(#clip9903)\" style=\"fill:#009af9; stroke:none; fill-opacity:1\" cx=\"1633.76\" cy=\"576.803\" r=\"14\"/>\n",
       "<circle clip-path=\"url(#clip9903)\" style=\"fill:#000000; stroke:none; fill-opacity:1\" cx=\"1648.81\" cy=\"559.148\" r=\"18\"/>\n",
       "<circle clip-path=\"url(#clip9903)\" style=\"fill:#009af9; stroke:none; fill-opacity:1\" cx=\"1648.81\" cy=\"559.148\" r=\"14\"/>\n",
       "<circle clip-path=\"url(#clip9903)\" style=\"fill:#000000; stroke:none; fill-opacity:1\" cx=\"1657.49\" cy=\"541.443\" r=\"18\"/>\n",
       "<circle clip-path=\"url(#clip9903)\" style=\"fill:#009af9; stroke:none; fill-opacity:1\" cx=\"1657.49\" cy=\"541.443\" r=\"14\"/>\n",
       "<circle clip-path=\"url(#clip9903)\" style=\"fill:#000000; stroke:none; fill-opacity:1\" cx=\"1659.59\" cy=\"523.911\" r=\"18\"/>\n",
       "<circle clip-path=\"url(#clip9903)\" style=\"fill:#009af9; stroke:none; fill-opacity:1\" cx=\"1659.59\" cy=\"523.911\" r=\"14\"/>\n",
       "<circle clip-path=\"url(#clip9903)\" style=\"fill:#000000; stroke:none; fill-opacity:1\" cx=\"1654.98\" cy=\"506.777\" r=\"18\"/>\n",
       "<circle clip-path=\"url(#clip9903)\" style=\"fill:#009af9; stroke:none; fill-opacity:1\" cx=\"1654.98\" cy=\"506.777\" r=\"14\"/>\n",
       "<circle clip-path=\"url(#clip9903)\" style=\"fill:#000000; stroke:none; fill-opacity:1\" cx=\"1643.64\" cy=\"490.261\" r=\"18\"/>\n",
       "<circle clip-path=\"url(#clip9903)\" style=\"fill:#009af9; stroke:none; fill-opacity:1\" cx=\"1643.64\" cy=\"490.261\" r=\"14\"/>\n",
       "<circle clip-path=\"url(#clip9903)\" style=\"fill:#000000; stroke:none; fill-opacity:1\" cx=\"1625.69\" cy=\"474.577\" r=\"18\"/>\n",
       "<circle clip-path=\"url(#clip9903)\" style=\"fill:#009af9; stroke:none; fill-opacity:1\" cx=\"1625.69\" cy=\"474.577\" r=\"14\"/>\n",
       "<circle clip-path=\"url(#clip9903)\" style=\"fill:#000000; stroke:none; fill-opacity:1\" cx=\"1601.31\" cy=\"459.927\" r=\"18\"/>\n",
       "<circle clip-path=\"url(#clip9903)\" style=\"fill:#009af9; stroke:none; fill-opacity:1\" cx=\"1601.31\" cy=\"459.927\" r=\"14\"/>\n",
       "<circle clip-path=\"url(#clip9903)\" style=\"fill:#000000; stroke:none; fill-opacity:1\" cx=\"1570.83\" cy=\"446.499\" r=\"18\"/>\n",
       "<circle clip-path=\"url(#clip9903)\" style=\"fill:#009af9; stroke:none; fill-opacity:1\" cx=\"1570.83\" cy=\"446.499\" r=\"14\"/>\n",
       "<circle clip-path=\"url(#clip9903)\" style=\"fill:#000000; stroke:none; fill-opacity:1\" cx=\"1534.65\" cy=\"434.465\" r=\"18\"/>\n",
       "<circle clip-path=\"url(#clip9903)\" style=\"fill:#009af9; stroke:none; fill-opacity:1\" cx=\"1534.65\" cy=\"434.465\" r=\"14\"/>\n",
       "<circle clip-path=\"url(#clip9903)\" style=\"fill:#000000; stroke:none; fill-opacity:1\" cx=\"1493.28\" cy=\"423.976\" r=\"18\"/>\n",
       "<circle clip-path=\"url(#clip9903)\" style=\"fill:#009af9; stroke:none; fill-opacity:1\" cx=\"1493.28\" cy=\"423.976\" r=\"14\"/>\n",
       "<circle clip-path=\"url(#clip9903)\" style=\"fill:#000000; stroke:none; fill-opacity:1\" cx=\"1447.31\" cy=\"415.159\" r=\"18\"/>\n",
       "<circle clip-path=\"url(#clip9903)\" style=\"fill:#009af9; stroke:none; fill-opacity:1\" cx=\"1447.31\" cy=\"415.159\" r=\"14\"/>\n",
       "<circle clip-path=\"url(#clip9903)\" style=\"fill:#000000; stroke:none; fill-opacity:1\" cx=\"1397.44\" cy=\"408.117\" r=\"18\"/>\n",
       "<circle clip-path=\"url(#clip9903)\" style=\"fill:#009af9; stroke:none; fill-opacity:1\" cx=\"1397.44\" cy=\"408.117\" r=\"14\"/>\n",
       "<circle clip-path=\"url(#clip9903)\" style=\"fill:#000000; stroke:none; fill-opacity:1\" cx=\"1344.4\" cy=\"402.924\" r=\"18\"/>\n",
       "<circle clip-path=\"url(#clip9903)\" style=\"fill:#009af9; stroke:none; fill-opacity:1\" cx=\"1344.4\" cy=\"402.924\" r=\"14\"/>\n",
       "<circle clip-path=\"url(#clip9903)\" style=\"fill:#000000; stroke:none; fill-opacity:1\" cx=\"1289.02\" cy=\"399.628\" r=\"18\"/>\n",
       "<circle clip-path=\"url(#clip9903)\" style=\"fill:#009af9; stroke:none; fill-opacity:1\" cx=\"1289.02\" cy=\"399.628\" r=\"14\"/>\n",
       "<circle clip-path=\"url(#clip9903)\" style=\"fill:#000000; stroke:none; fill-opacity:1\" cx=\"1232.14\" cy=\"398.245\" r=\"18\"/>\n",
       "<circle clip-path=\"url(#clip9903)\" style=\"fill:#009af9; stroke:none; fill-opacity:1\" cx=\"1232.14\" cy=\"398.245\" r=\"14\"/>\n",
       "<circle clip-path=\"url(#clip9903)\" style=\"fill:#000000; stroke:none; fill-opacity:1\" cx=\"1174.66\" cy=\"398.76\" r=\"18\"/>\n",
       "<circle clip-path=\"url(#clip9903)\" style=\"fill:#009af9; stroke:none; fill-opacity:1\" cx=\"1174.66\" cy=\"398.76\" r=\"14\"/>\n",
       "<circle clip-path=\"url(#clip9903)\" style=\"fill:#000000; stroke:none; fill-opacity:1\" cx=\"1117.5\" cy=\"401.128\" r=\"18\"/>\n",
       "<circle clip-path=\"url(#clip9903)\" style=\"fill:#009af9; stroke:none; fill-opacity:1\" cx=\"1117.5\" cy=\"401.128\" r=\"14\"/>\n",
       "<circle clip-path=\"url(#clip9903)\" style=\"fill:#000000; stroke:none; fill-opacity:1\" cx=\"1061.57\" cy=\"405.275\" r=\"18\"/>\n",
       "<circle clip-path=\"url(#clip9903)\" style=\"fill:#009af9; stroke:none; fill-opacity:1\" cx=\"1061.57\" cy=\"405.275\" r=\"14\"/>\n",
       "<circle clip-path=\"url(#clip9903)\" style=\"fill:#000000; stroke:none; fill-opacity:1\" cx=\"1007.79\" cy=\"411.095\" r=\"18\"/>\n",
       "<circle clip-path=\"url(#clip9903)\" style=\"fill:#009af9; stroke:none; fill-opacity:1\" cx=\"1007.79\" cy=\"411.095\" r=\"14\"/>\n",
       "<circle clip-path=\"url(#clip9903)\" style=\"fill:#000000; stroke:none; fill-opacity:1\" cx=\"957.03\" cy=\"418.457\" r=\"18\"/>\n",
       "<circle clip-path=\"url(#clip9903)\" style=\"fill:#009af9; stroke:none; fill-opacity:1\" cx=\"957.03\" cy=\"418.457\" r=\"14\"/>\n",
       "<circle clip-path=\"url(#clip9903)\" style=\"fill:#000000; stroke:none; fill-opacity:1\" cx=\"910.147\" cy=\"427.2\" r=\"18\"/>\n",
       "<circle clip-path=\"url(#clip9903)\" style=\"fill:#009af9; stroke:none; fill-opacity:1\" cx=\"910.147\" cy=\"427.2\" r=\"14\"/>\n",
       "<circle clip-path=\"url(#clip9903)\" style=\"fill:#000000; stroke:none; fill-opacity:1\" cx=\"867.934\" cy=\"437.142\" r=\"18\"/>\n",
       "<circle clip-path=\"url(#clip9903)\" style=\"fill:#009af9; stroke:none; fill-opacity:1\" cx=\"867.934\" cy=\"437.142\" r=\"14\"/>\n",
       "<circle clip-path=\"url(#clip9903)\" style=\"fill:#000000; stroke:none; fill-opacity:1\" cx=\"831.121\" cy=\"448.078\" r=\"18\"/>\n",
       "<circle clip-path=\"url(#clip9903)\" style=\"fill:#009af9; stroke:none; fill-opacity:1\" cx=\"831.121\" cy=\"448.078\" r=\"14\"/>\n",
       "<circle clip-path=\"url(#clip9903)\" style=\"fill:#000000; stroke:none; fill-opacity:1\" cx=\"800.358\" cy=\"459.786\" r=\"18\"/>\n",
       "<circle clip-path=\"url(#clip9903)\" style=\"fill:#009af9; stroke:none; fill-opacity:1\" cx=\"800.358\" cy=\"459.786\" r=\"14\"/>\n",
       "<circle clip-path=\"url(#clip9903)\" style=\"fill:#000000; stroke:none; fill-opacity:1\" cx=\"776.206\" cy=\"472.027\" r=\"18\"/>\n",
       "<circle clip-path=\"url(#clip9903)\" style=\"fill:#009af9; stroke:none; fill-opacity:1\" cx=\"776.206\" cy=\"472.027\" r=\"14\"/>\n",
       "<circle clip-path=\"url(#clip9903)\" style=\"fill:#000000; stroke:none; fill-opacity:1\" cx=\"759.126\" cy=\"484.553\" r=\"18\"/>\n",
       "<circle clip-path=\"url(#clip9903)\" style=\"fill:#009af9; stroke:none; fill-opacity:1\" cx=\"759.126\" cy=\"484.553\" r=\"14\"/>\n",
       "<circle clip-path=\"url(#clip9903)\" style=\"fill:#000000; stroke:none; fill-opacity:1\" cx=\"749.471\" cy=\"497.108\" r=\"18\"/>\n",
       "<circle clip-path=\"url(#clip9903)\" style=\"fill:#009af9; stroke:none; fill-opacity:1\" cx=\"749.471\" cy=\"497.108\" r=\"14\"/>\n",
       "<circle clip-path=\"url(#clip9903)\" style=\"fill:#000000; stroke:none; fill-opacity:1\" cx=\"747.479\" cy=\"509.432\" r=\"18\"/>\n",
       "<circle clip-path=\"url(#clip9903)\" style=\"fill:#009af9; stroke:none; fill-opacity:1\" cx=\"747.479\" cy=\"509.432\" r=\"14\"/>\n",
       "<circle clip-path=\"url(#clip9903)\" style=\"fill:#000000; stroke:none; fill-opacity:1\" cx=\"753.267\" cy=\"521.266\" r=\"18\"/>\n",
       "<circle clip-path=\"url(#clip9903)\" style=\"fill:#009af9; stroke:none; fill-opacity:1\" cx=\"753.267\" cy=\"521.266\" r=\"14\"/>\n",
       "<circle clip-path=\"url(#clip9903)\" style=\"fill:#000000; stroke:none; fill-opacity:1\" cx=\"766.828\" cy=\"532.356\" r=\"18\"/>\n",
       "<circle clip-path=\"url(#clip9903)\" style=\"fill:#009af9; stroke:none; fill-opacity:1\" cx=\"766.828\" cy=\"532.356\" r=\"14\"/>\n",
       "<circle clip-path=\"url(#clip9903)\" style=\"fill:#000000; stroke:none; fill-opacity:1\" cx=\"788.033\" cy=\"542.459\" r=\"18\"/>\n",
       "<circle clip-path=\"url(#clip9903)\" style=\"fill:#009af9; stroke:none; fill-opacity:1\" cx=\"788.033\" cy=\"542.459\" r=\"14\"/>\n",
       "<circle clip-path=\"url(#clip9903)\" style=\"fill:#000000; stroke:none; fill-opacity:1\" cx=\"816.626\" cy=\"551.341\" r=\"18\"/>\n",
       "<circle clip-path=\"url(#clip9903)\" style=\"fill:#009af9; stroke:none; fill-opacity:1\" cx=\"816.626\" cy=\"551.341\" r=\"14\"/>\n",
       "<circle clip-path=\"url(#clip9903)\" style=\"fill:#000000; stroke:none; fill-opacity:1\" cx=\"852.232\" cy=\"558.789\" r=\"18\"/>\n",
       "<circle clip-path=\"url(#clip9903)\" style=\"fill:#009af9; stroke:none; fill-opacity:1\" cx=\"852.232\" cy=\"558.789\" r=\"14\"/>\n",
       "<circle clip-path=\"url(#clip9903)\" style=\"fill:#000000; stroke:none; fill-opacity:1\" cx=\"894.356\" cy=\"564.61\" r=\"18\"/>\n",
       "<circle clip-path=\"url(#clip9903)\" style=\"fill:#009af9; stroke:none; fill-opacity:1\" cx=\"894.356\" cy=\"564.61\" r=\"14\"/>\n",
       "<circle clip-path=\"url(#clip9903)\" style=\"fill:#000000; stroke:none; fill-opacity:1\" cx=\"942.398\" cy=\"568.632\" r=\"18\"/>\n",
       "<circle clip-path=\"url(#clip9903)\" style=\"fill:#009af9; stroke:none; fill-opacity:1\" cx=\"942.398\" cy=\"568.632\" r=\"14\"/>\n",
       "<circle clip-path=\"url(#clip9903)\" style=\"fill:#000000; stroke:none; fill-opacity:1\" cx=\"995.653\" cy=\"570.715\" r=\"18\"/>\n",
       "<circle clip-path=\"url(#clip9903)\" style=\"fill:#009af9; stroke:none; fill-opacity:1\" cx=\"995.653\" cy=\"570.715\" r=\"14\"/>\n",
       "<circle clip-path=\"url(#clip9903)\" style=\"fill:#000000; stroke:none; fill-opacity:1\" cx=\"1053.33\" cy=\"570.743\" r=\"18\"/>\n",
       "<circle clip-path=\"url(#clip9903)\" style=\"fill:#009af9; stroke:none; fill-opacity:1\" cx=\"1053.33\" cy=\"570.743\" r=\"14\"/>\n",
       "<circle clip-path=\"url(#clip9903)\" style=\"fill:#000000; stroke:none; fill-opacity:1\" cx=\"1114.55\" cy=\"568.637\" r=\"18\"/>\n",
       "<circle clip-path=\"url(#clip9903)\" style=\"fill:#009af9; stroke:none; fill-opacity:1\" cx=\"1114.55\" cy=\"568.637\" r=\"14\"/>\n",
       "<circle clip-path=\"url(#clip9903)\" style=\"fill:#000000; stroke:none; fill-opacity:1\" cx=\"1178.37\" cy=\"564.347\" r=\"18\"/>\n",
       "<circle clip-path=\"url(#clip9903)\" style=\"fill:#009af9; stroke:none; fill-opacity:1\" cx=\"1178.37\" cy=\"564.347\" r=\"14\"/>\n",
       "<circle clip-path=\"url(#clip9903)\" style=\"fill:#000000; stroke:none; fill-opacity:1\" cx=\"1243.81\" cy=\"557.861\" r=\"18\"/>\n",
       "<circle clip-path=\"url(#clip9903)\" style=\"fill:#009af9; stroke:none; fill-opacity:1\" cx=\"1243.81\" cy=\"557.861\" r=\"14\"/>\n",
       "<circle clip-path=\"url(#clip9903)\" style=\"fill:#000000; stroke:none; fill-opacity:1\" cx=\"1309.83\" cy=\"549.199\" r=\"18\"/>\n",
       "<circle clip-path=\"url(#clip9903)\" style=\"fill:#009af9; stroke:none; fill-opacity:1\" cx=\"1309.83\" cy=\"549.199\" r=\"14\"/>\n",
       "<circle clip-path=\"url(#clip9903)\" style=\"fill:#000000; stroke:none; fill-opacity:1\" cx=\"1375.39\" cy=\"538.418\" r=\"18\"/>\n",
       "<circle clip-path=\"url(#clip9903)\" style=\"fill:#009af9; stroke:none; fill-opacity:1\" cx=\"1375.39\" cy=\"538.418\" r=\"14\"/>\n",
       "<circle clip-path=\"url(#clip9903)\" style=\"fill:#000000; stroke:none; fill-opacity:1\" cx=\"1439.44\" cy=\"525.608\" r=\"18\"/>\n",
       "<circle clip-path=\"url(#clip9903)\" style=\"fill:#009af9; stroke:none; fill-opacity:1\" cx=\"1439.44\" cy=\"525.608\" r=\"14\"/>\n",
       "<circle clip-path=\"url(#clip9903)\" style=\"fill:#000000; stroke:none; fill-opacity:1\" cx=\"1500.94\" cy=\"510.895\" r=\"18\"/>\n",
       "<circle clip-path=\"url(#clip9903)\" style=\"fill:#009af9; stroke:none; fill-opacity:1\" cx=\"1500.94\" cy=\"510.895\" r=\"14\"/>\n",
       "<circle clip-path=\"url(#clip9903)\" style=\"fill:#000000; stroke:none; fill-opacity:1\" cx=\"1558.88\" cy=\"494.435\" r=\"18\"/>\n",
       "<circle clip-path=\"url(#clip9903)\" style=\"fill:#009af9; stroke:none; fill-opacity:1\" cx=\"1558.88\" cy=\"494.435\" r=\"14\"/>\n",
       "<circle clip-path=\"url(#clip9903)\" style=\"fill:#000000; stroke:none; fill-opacity:1\" cx=\"1612.3\" cy=\"476.412\" r=\"18\"/>\n",
       "<circle clip-path=\"url(#clip9903)\" style=\"fill:#009af9; stroke:none; fill-opacity:1\" cx=\"1612.3\" cy=\"476.412\" r=\"14\"/>\n",
       "<circle clip-path=\"url(#clip9903)\" style=\"fill:#000000; stroke:none; fill-opacity:1\" cx=\"1660.31\" cy=\"457.04\" r=\"18\"/>\n",
       "<circle clip-path=\"url(#clip9903)\" style=\"fill:#009af9; stroke:none; fill-opacity:1\" cx=\"1660.31\" cy=\"457.04\" r=\"14\"/>\n",
       "<circle clip-path=\"url(#clip9903)\" style=\"fill:#000000; stroke:none; fill-opacity:1\" cx=\"1702.08\" cy=\"436.555\" r=\"18\"/>\n",
       "<circle clip-path=\"url(#clip9903)\" style=\"fill:#009af9; stroke:none; fill-opacity:1\" cx=\"1702.08\" cy=\"436.555\" r=\"14\"/>\n",
       "<polygon clip-path=\"url(#clip9901)\" points=\"\n",
       "1613.98,251.724 1904.81,251.724 1904.81,130.764 1613.98,130.764 \n",
       "  \" fill=\"#ffffff\" fill-rule=\"evenodd\" fill-opacity=\"1\"/>\n",
       "<polyline clip-path=\"url(#clip9901)\" style=\"stroke:#000000; stroke-width:4; stroke-opacity:1; fill:none\" points=\"\n",
       "  1613.98,251.724 1904.81,251.724 1904.81,130.764 1613.98,130.764 1613.98,251.724 \n",
       "  \"/>\n",
       "<circle clip-path=\"url(#clip9901)\" style=\"fill:#000000; stroke:none; fill-opacity:1\" cx=\"1721.98\" cy=\"191.244\" r=\"25\"/>\n",
       "<circle clip-path=\"url(#clip9901)\" style=\"fill:#009af9; stroke:none; fill-opacity:1\" cx=\"1721.98\" cy=\"191.244\" r=\"21\"/>\n",
       "<g clip-path=\"url(#clip9901)\">\n",
       "<text style=\"fill:#000000; fill-opacity:1; font-family:Arial,Helvetica Neue,Helvetica,sans-serif; font-size:48px; text-anchor:start;\" transform=\"rotate(0, 1805.98, 208.744)\" x=\"1805.98\" y=\"208.744\">y1</text>\n",
       "</g>\n",
       "</svg>\n"
      ]
     },
     "execution_count": 4,
     "metadata": {},
     "output_type": "execute_result"
    }
   ],
   "source": [
    "N = 200\n",
    "d = 8π/N\n",
    "x = [d*n*cos(d*n) for n in 0:N]\n",
    "y = [d*n*sin(d*n) for n in 0:N]\n",
    "z = 0.0:N\n",
    "Plots.plot(x,y,z,marker=:circle)"
   ]
  },
  {
   "cell_type": "markdown",
   "metadata": {
    "slideshow": {
     "slide_type": "slide"
    }
   },
   "source": [
    "## こんなこともできる"
   ]
  },
  {
   "cell_type": "code",
   "execution_count": 5,
   "metadata": {},
   "outputs": [
    {
     "name": "stderr",
     "output_type": "stream",
     "text": [
      "┌ Info: Saved animation to \n",
      "│   fn = /home/jovyan/work/tmp.gif\n",
      "└ @ Plots /opt/julia/packages/Plots/qh1wV/src/animation.jl:90\n"
     ]
    },
    {
     "data": {
      "text/html": [
       "<img src=\"tmp.gif?0.5655348065800263>\" />"
      ],
      "text/plain": [
       "Plots.AnimatedGif(\"/home/jovyan/work/tmp.gif\")"
      ]
     },
     "execution_count": 5,
     "metadata": {},
     "output_type": "execute_result"
    }
   ],
   "source": [
    "mutable struct Lorenz\n",
    "    dt; σ; ρ; β; x; y; z\n",
    "end\n",
    "function step!(l::Lorenz)\n",
    "    dx = l.σ*(l.y - l.x)       ; l.x += l.dt * dx\n",
    "    dy = l.x*(l.ρ - l.z) - l.y ; l.y += l.dt * dy\n",
    "    dz = l.x*l.y - l.β*l.z     ; l.z += l.dt * dz\n",
    "end\n",
    "attractor = Lorenz((dt = 0.02, σ = 10., ρ = 28., β = 8//3, x = 1., y = 1., z = 1.)...)\n",
    "plt = plot3d(1, xlim=(-25,25), ylim=(-25,25), zlim=(0,50),\n",
    "                title = \"Lorenz Attractor\", marker = 2)\n",
    "@gif for i=1:1500\n",
    "    step!(attractor)\n",
    "    push!(plt, attractor.x, attractor.y, attractor.z)\n",
    "end every 10"
   ]
  },
  {
   "cell_type": "markdown",
   "metadata": {
    "slideshow": {
     "slide_type": "slide"
    }
   },
   "source": [
    "# 環境"
   ]
  },
  {
   "cell_type": "markdown",
   "metadata": {
    "slideshow": {
     "slide_type": "slide"
    }
   },
   "source": [
    "## 環境\n",
    "* JupyterNotebook(Docker)\n",
    "* RISE"
   ]
  },
  {
   "cell_type": "markdown",
   "metadata": {
    "slideshow": {
     "slide_type": "slide"
    }
   },
   "source": [
    "## 1.Dockerfile作成\n",
    "JupyterNotebookでRISEを使うためにDockerfileを作成\n",
    "```yml\n",
    "FROM jupyter/datascience-notebook\n",
    "RUN pip install RISE \n",
    "RUN jupyter-nbextension install rise --py --sys-prefix\n",
    "RUN jupyter-nbextension enable rise --py --sys-prefix\n",
    "EXPOSE 8888\n",
    "```"
   ]
  },
  {
   "cell_type": "markdown",
   "metadata": {
    "slideshow": {
     "slide_type": "slide"
    }
   },
   "source": [
    "## 2.docker-compose.yml作成\n",
    "ライブラリがインストールされるディレクトリはホストにマウント。\n",
    "```\n",
    "version:  '3'\n",
    "services:\n",
    "  datascience-notebook:\n",
    "      image: myjupyter\n",
    "      volumes:\n",
    "        - ./data/work:/home/jovyan/work\n",
    "        - ./data/notebook:/etc/ssl/notebook\n",
    "        - ./data/julia_module:/opt/julia\n",
    "      ports:\n",
    "        - 8888:8888\n",
    "      container_name:   jupyter_notebook\n",
    "      command: \"start-notebook.sh \\\n",
    "        --NotebookApp.password='sha1:f09a03d5998b:7366bffeb720c8e67e821b9e1fbb0a754f1e4476'\"\n",
    "```\n"
   ]
  },
  {
   "cell_type": "markdown",
   "metadata": {
    "slideshow": {
     "slide_type": "slide"
    }
   },
   "source": [
    "## 3.起動\n",
    "```shell\n",
    "docker-compose up\n",
    "```"
   ]
  },
  {
   "cell_type": "markdown",
   "metadata": {
    "slideshow": {
     "slide_type": "slide"
    }
   },
   "source": [
    "## 4.ライブラリ導入\n",
    "jupyternotebookの機能からTerminalにアクセス可能。  \n",
    "そこから導入すればOK"
   ]
  },
  {
   "cell_type": "markdown",
   "metadata": {
    "slideshow": {
     "slide_type": "slide"
    }
   },
   "source": [
    "# Kaggleとは"
   ]
  },
  {
   "cell_type": "markdown",
   "metadata": {
    "slideshow": {
     "slide_type": "slide"
    }
   },
   "source": [
    "## Kaggleとは\n",
    "* データ分析コンペのプラットフォーム\n",
    "* 企業がデータを提供する\n",
    "* 誰が最も正確な予測ができるか競う\n",
    "* 賞金あり"
   ]
  },
  {
   "cell_type": "markdown",
   "metadata": {
    "slideshow": {
     "slide_type": "slide"
    }
   },
   "source": [
    "![](./kaggle.png)"
   ]
  },
  {
   "cell_type": "markdown",
   "metadata": {
    "slideshow": {
     "slide_type": "slide"
    }
   },
   "source": [
    "## 参加したいコンペを選択して参加\n",
    "![](./kaggle2.png)"
   ]
  },
  {
   "cell_type": "markdown",
   "metadata": {
    "slideshow": {
     "slide_type": "slide"
    }
   },
   "source": [
    "## コンペに関して多数のDiscussionが開かれます\n",
    "![](./kaggle_discussion.png)"
   ]
  },
  {
   "cell_type": "markdown",
   "metadata": {
    "slideshow": {
     "slide_type": "slide"
    }
   },
   "source": [
    "## 人のコードが見れます\n",
    "![](./kaggle_code.png)"
   ]
  },
  {
   "cell_type": "markdown",
   "metadata": {
    "slideshow": {
     "slide_type": "slide"
    }
   },
   "source": [
    "# Titanicとは"
   ]
  },
  {
   "cell_type": "markdown",
   "metadata": {
    "slideshow": {
     "slide_type": "slide"
    }
   },
   "source": [
    "## Titanicとは\n",
    "* Kaggleのチュートリアル的な問題\n",
    "* Titanic乗客の生死を予測する"
   ]
  },
  {
   "cell_type": "markdown",
   "metadata": {
    "slideshow": {
     "slide_type": "slide"
    }
   },
   "source": [
    "## Titanicの詳細\n",
    "次の２つのデータが提供される\n",
    "* train.csv\n",
    "* test.csv"
   ]
  },
  {
   "cell_type": "markdown",
   "metadata": {
    "slideshow": {
     "slide_type": "slide"
    }
   },
   "source": [
    "### train.csv\n",
    "891人分の乗客情報と生死のペア"
   ]
  },
  {
   "cell_type": "code",
   "execution_count": 6,
   "metadata": {},
   "outputs": [
    {
     "data": {
      "text/html": [
       "<table class=\"data-frame\"><thead><tr><th></th><th>PassengerId</th><th>Survived</th><th>Pclass</th><th>Name</th><th>Sex</th><th>Age</th><th>SibSp</th><th>Parch</th><th>Ticket</th><th>Fare</th><th>Cabin</th><th>Embarked</th></tr><tr><th></th><th>Int64⍰</th><th>Int64⍰</th><th>Int64⍰</th><th>String⍰</th><th>String⍰</th><th>Float64⍰</th><th>Int64⍰</th><th>Int64⍰</th><th>String⍰</th><th>Float64⍰</th><th>String⍰</th><th>String⍰</th></tr></thead><tbody><p>891 rows × 12 columns</p><tr><th>1</th><td>1</td><td>0</td><td>3</td><td>Braund, Mr. Owen Harris</td><td>male</td><td>22.0</td><td>1</td><td>0</td><td>A/5 21171</td><td>7.25</td><td>missing</td><td>S</td></tr><tr><th>2</th><td>2</td><td>1</td><td>1</td><td>Cumings, Mrs. John Bradley (Florence Briggs Thayer)</td><td>female</td><td>38.0</td><td>1</td><td>0</td><td>PC 17599</td><td>71.2833</td><td>C85</td><td>C</td></tr><tr><th>3</th><td>3</td><td>1</td><td>3</td><td>Heikkinen, Miss. Laina</td><td>female</td><td>26.0</td><td>0</td><td>0</td><td>STON/O2. 3101282</td><td>7.925</td><td>missing</td><td>S</td></tr><tr><th>4</th><td>4</td><td>1</td><td>1</td><td>Futrelle, Mrs. Jacques Heath (Lily May Peel)</td><td>female</td><td>35.0</td><td>1</td><td>0</td><td>113803</td><td>53.1</td><td>C123</td><td>S</td></tr><tr><th>5</th><td>5</td><td>0</td><td>3</td><td>Allen, Mr. William Henry</td><td>male</td><td>35.0</td><td>0</td><td>0</td><td>373450</td><td>8.05</td><td>missing</td><td>S</td></tr><tr><th>6</th><td>6</td><td>0</td><td>3</td><td>Moran, Mr. James</td><td>male</td><td>missing</td><td>0</td><td>0</td><td>330877</td><td>8.4583</td><td>missing</td><td>Q</td></tr><tr><th>7</th><td>7</td><td>0</td><td>1</td><td>McCarthy, Mr. Timothy J</td><td>male</td><td>54.0</td><td>0</td><td>0</td><td>17463</td><td>51.8625</td><td>E46</td><td>S</td></tr><tr><th>8</th><td>8</td><td>0</td><td>3</td><td>Palsson, Master. Gosta Leonard</td><td>male</td><td>2.0</td><td>3</td><td>1</td><td>349909</td><td>21.075</td><td>missing</td><td>S</td></tr><tr><th>9</th><td>9</td><td>1</td><td>3</td><td>Johnson, Mrs. Oscar W (Elisabeth Vilhelmina Berg)</td><td>female</td><td>27.0</td><td>0</td><td>2</td><td>347742</td><td>11.1333</td><td>missing</td><td>S</td></tr><tr><th>10</th><td>10</td><td>1</td><td>2</td><td>Nasser, Mrs. Nicholas (Adele Achem)</td><td>female</td><td>14.0</td><td>1</td><td>0</td><td>237736</td><td>30.0708</td><td>missing</td><td>C</td></tr><tr><th>11</th><td>11</td><td>1</td><td>3</td><td>Sandstrom, Miss. Marguerite Rut</td><td>female</td><td>4.0</td><td>1</td><td>1</td><td>PP 9549</td><td>16.7</td><td>G6</td><td>S</td></tr><tr><th>12</th><td>12</td><td>1</td><td>1</td><td>Bonnell, Miss. Elizabeth</td><td>female</td><td>58.0</td><td>0</td><td>0</td><td>113783</td><td>26.55</td><td>C103</td><td>S</td></tr><tr><th>13</th><td>13</td><td>0</td><td>3</td><td>Saundercock, Mr. William Henry</td><td>male</td><td>20.0</td><td>0</td><td>0</td><td>A/5. 2151</td><td>8.05</td><td>missing</td><td>S</td></tr><tr><th>14</th><td>14</td><td>0</td><td>3</td><td>Andersson, Mr. Anders Johan</td><td>male</td><td>39.0</td><td>1</td><td>5</td><td>347082</td><td>31.275</td><td>missing</td><td>S</td></tr><tr><th>15</th><td>15</td><td>0</td><td>3</td><td>Vestrom, Miss. Hulda Amanda Adolfina</td><td>female</td><td>14.0</td><td>0</td><td>0</td><td>350406</td><td>7.8542</td><td>missing</td><td>S</td></tr><tr><th>16</th><td>16</td><td>1</td><td>2</td><td>Hewlett, Mrs. (Mary D Kingcome) </td><td>female</td><td>55.0</td><td>0</td><td>0</td><td>248706</td><td>16.0</td><td>missing</td><td>S</td></tr><tr><th>17</th><td>17</td><td>0</td><td>3</td><td>Rice, Master. Eugene</td><td>male</td><td>2.0</td><td>4</td><td>1</td><td>382652</td><td>29.125</td><td>missing</td><td>Q</td></tr><tr><th>18</th><td>18</td><td>1</td><td>2</td><td>Williams, Mr. Charles Eugene</td><td>male</td><td>missing</td><td>0</td><td>0</td><td>244373</td><td>13.0</td><td>missing</td><td>S</td></tr><tr><th>19</th><td>19</td><td>0</td><td>3</td><td>Vander Planke, Mrs. Julius (Emelia Maria Vandemoortele)</td><td>female</td><td>31.0</td><td>1</td><td>0</td><td>345763</td><td>18.0</td><td>missing</td><td>S</td></tr><tr><th>20</th><td>20</td><td>1</td><td>3</td><td>Masselmani, Mrs. Fatima</td><td>female</td><td>missing</td><td>0</td><td>0</td><td>2649</td><td>7.225</td><td>missing</td><td>C</td></tr><tr><th>21</th><td>21</td><td>0</td><td>2</td><td>Fynney, Mr. Joseph J</td><td>male</td><td>35.0</td><td>0</td><td>0</td><td>239865</td><td>26.0</td><td>missing</td><td>S</td></tr><tr><th>22</th><td>22</td><td>1</td><td>2</td><td>Beesley, Mr. Lawrence</td><td>male</td><td>34.0</td><td>0</td><td>0</td><td>248698</td><td>13.0</td><td>D56</td><td>S</td></tr><tr><th>23</th><td>23</td><td>1</td><td>3</td><td>McGowan, Miss. Anna \"Annie\"</td><td>female</td><td>15.0</td><td>0</td><td>0</td><td>330923</td><td>8.0292</td><td>missing</td><td>Q</td></tr><tr><th>24</th><td>24</td><td>1</td><td>1</td><td>Sloper, Mr. William Thompson</td><td>male</td><td>28.0</td><td>0</td><td>0</td><td>113788</td><td>35.5</td><td>A6</td><td>S</td></tr><tr><th>25</th><td>25</td><td>0</td><td>3</td><td>Palsson, Miss. Torborg Danira</td><td>female</td><td>8.0</td><td>3</td><td>1</td><td>349909</td><td>21.075</td><td>missing</td><td>S</td></tr><tr><th>26</th><td>26</td><td>1</td><td>3</td><td>Asplund, Mrs. Carl Oscar (Selma Augusta Emilia Johansson)</td><td>female</td><td>38.0</td><td>1</td><td>5</td><td>347077</td><td>31.3875</td><td>missing</td><td>S</td></tr><tr><th>27</th><td>27</td><td>0</td><td>3</td><td>Emir, Mr. Farred Chehab</td><td>male</td><td>missing</td><td>0</td><td>0</td><td>2631</td><td>7.225</td><td>missing</td><td>C</td></tr><tr><th>28</th><td>28</td><td>0</td><td>1</td><td>Fortune, Mr. Charles Alexander</td><td>male</td><td>19.0</td><td>3</td><td>2</td><td>19950</td><td>263.0</td><td>C23 C25 C27</td><td>S</td></tr><tr><th>29</th><td>29</td><td>1</td><td>3</td><td>O'Dwyer, Miss. Ellen \"Nellie\"</td><td>female</td><td>missing</td><td>0</td><td>0</td><td>330959</td><td>7.8792</td><td>missing</td><td>Q</td></tr><tr><th>30</th><td>30</td><td>0</td><td>3</td><td>Todoroff, Mr. Lalio</td><td>male</td><td>missing</td><td>0</td><td>0</td><td>349216</td><td>7.8958</td><td>missing</td><td>S</td></tr><tr><th>&vellip;</th><td>&vellip;</td><td>&vellip;</td><td>&vellip;</td><td>&vellip;</td><td>&vellip;</td><td>&vellip;</td><td>&vellip;</td><td>&vellip;</td><td>&vellip;</td><td>&vellip;</td><td>&vellip;</td><td>&vellip;</td></tr></tbody></table>"
      ],
      "text/latex": [
       "\\begin{tabular}{r|cccccccccccc}\n",
       "\t& PassengerId & Survived & Pclass & Name & Sex & Age & SibSp & Parch & Ticket & Fare & Cabin & Embarked\\\\\n",
       "\t\\hline\n",
       "\t1 & 1 & 0 & 3 & Braund, Mr. Owen Harris & male & 22.0 & 1 & 0 & A/5 21171 & 7.25 &  & S \\\\\n",
       "\t2 & 2 & 1 & 1 & Cumings, Mrs. John Bradley (Florence Briggs Thayer) & female & 38.0 & 1 & 0 & PC 17599 & 71.2833 & C85 & C \\\\\n",
       "\t3 & 3 & 1 & 3 & Heikkinen, Miss. Laina & female & 26.0 & 0 & 0 & STON/O2. 3101282 & 7.925 &  & S \\\\\n",
       "\t4 & 4 & 1 & 1 & Futrelle, Mrs. Jacques Heath (Lily May Peel) & female & 35.0 & 1 & 0 & 113803 & 53.1 & C123 & S \\\\\n",
       "\t5 & 5 & 0 & 3 & Allen, Mr. William Henry & male & 35.0 & 0 & 0 & 373450 & 8.05 &  & S \\\\\n",
       "\t6 & 6 & 0 & 3 & Moran, Mr. James & male &  & 0 & 0 & 330877 & 8.4583 &  & Q \\\\\n",
       "\t7 & 7 & 0 & 1 & McCarthy, Mr. Timothy J & male & 54.0 & 0 & 0 & 17463 & 51.8625 & E46 & S \\\\\n",
       "\t8 & 8 & 0 & 3 & Palsson, Master. Gosta Leonard & male & 2.0 & 3 & 1 & 349909 & 21.075 &  & S \\\\\n",
       "\t9 & 9 & 1 & 3 & Johnson, Mrs. Oscar W (Elisabeth Vilhelmina Berg) & female & 27.0 & 0 & 2 & 347742 & 11.1333 &  & S \\\\\n",
       "\t10 & 10 & 1 & 2 & Nasser, Mrs. Nicholas (Adele Achem) & female & 14.0 & 1 & 0 & 237736 & 30.0708 &  & C \\\\\n",
       "\t11 & 11 & 1 & 3 & Sandstrom, Miss. Marguerite Rut & female & 4.0 & 1 & 1 & PP 9549 & 16.7 & G6 & S \\\\\n",
       "\t12 & 12 & 1 & 1 & Bonnell, Miss. Elizabeth & female & 58.0 & 0 & 0 & 113783 & 26.55 & C103 & S \\\\\n",
       "\t13 & 13 & 0 & 3 & Saundercock, Mr. William Henry & male & 20.0 & 0 & 0 & A/5. 2151 & 8.05 &  & S \\\\\n",
       "\t14 & 14 & 0 & 3 & Andersson, Mr. Anders Johan & male & 39.0 & 1 & 5 & 347082 & 31.275 &  & S \\\\\n",
       "\t15 & 15 & 0 & 3 & Vestrom, Miss. Hulda Amanda Adolfina & female & 14.0 & 0 & 0 & 350406 & 7.8542 &  & S \\\\\n",
       "\t16 & 16 & 1 & 2 & Hewlett, Mrs. (Mary D Kingcome)  & female & 55.0 & 0 & 0 & 248706 & 16.0 &  & S \\\\\n",
       "\t17 & 17 & 0 & 3 & Rice, Master. Eugene & male & 2.0 & 4 & 1 & 382652 & 29.125 &  & Q \\\\\n",
       "\t18 & 18 & 1 & 2 & Williams, Mr. Charles Eugene & male &  & 0 & 0 & 244373 & 13.0 &  & S \\\\\n",
       "\t19 & 19 & 0 & 3 & Vander Planke, Mrs. Julius (Emelia Maria Vandemoortele) & female & 31.0 & 1 & 0 & 345763 & 18.0 &  & S \\\\\n",
       "\t20 & 20 & 1 & 3 & Masselmani, Mrs. Fatima & female &  & 0 & 0 & 2649 & 7.225 &  & C \\\\\n",
       "\t21 & 21 & 0 & 2 & Fynney, Mr. Joseph J & male & 35.0 & 0 & 0 & 239865 & 26.0 &  & S \\\\\n",
       "\t22 & 22 & 1 & 2 & Beesley, Mr. Lawrence & male & 34.0 & 0 & 0 & 248698 & 13.0 & D56 & S \\\\\n",
       "\t23 & 23 & 1 & 3 & McGowan, Miss. Anna \"Annie\" & female & 15.0 & 0 & 0 & 330923 & 8.0292 &  & Q \\\\\n",
       "\t24 & 24 & 1 & 1 & Sloper, Mr. William Thompson & male & 28.0 & 0 & 0 & 113788 & 35.5 & A6 & S \\\\\n",
       "\t25 & 25 & 0 & 3 & Palsson, Miss. Torborg Danira & female & 8.0 & 3 & 1 & 349909 & 21.075 &  & S \\\\\n",
       "\t26 & 26 & 1 & 3 & Asplund, Mrs. Carl Oscar (Selma Augusta Emilia Johansson) & female & 38.0 & 1 & 5 & 347077 & 31.3875 &  & S \\\\\n",
       "\t27 & 27 & 0 & 3 & Emir, Mr. Farred Chehab & male &  & 0 & 0 & 2631 & 7.225 &  & C \\\\\n",
       "\t28 & 28 & 0 & 1 & Fortune, Mr. Charles Alexander & male & 19.0 & 3 & 2 & 19950 & 263.0 & C23 C25 C27 & S \\\\\n",
       "\t29 & 29 & 1 & 3 & O'Dwyer, Miss. Ellen \"Nellie\" & female &  & 0 & 0 & 330959 & 7.8792 &  & Q \\\\\n",
       "\t30 & 30 & 0 & 3 & Todoroff, Mr. Lalio & male &  & 0 & 0 & 349216 & 7.8958 &  & S \\\\\n",
       "\t$\\dots$ & $\\dots$ & $\\dots$ & $\\dots$ & $\\dots$ & $\\dots$ & $\\dots$ & $\\dots$ & $\\dots$ & $\\dots$ & $\\dots$ & $\\dots$ & $\\dots$ \\\\\n",
       "\\end{tabular}\n"
      ],
      "text/plain": [
       "891×12 DataFrames.DataFrame. Omitted printing of 9 columns\n",
       "│ Row │ PassengerId │ Survived │ Pclass │\n",
       "│     │ \u001b[90mInt64⍰\u001b[39m      │ \u001b[90mInt64⍰\u001b[39m   │ \u001b[90mInt64⍰\u001b[39m │\n",
       "├─────┼─────────────┼──────────┼────────┤\n",
       "│ 1   │ 1           │ 0        │ 3      │\n",
       "│ 2   │ 2           │ 1        │ 1      │\n",
       "│ 3   │ 3           │ 1        │ 3      │\n",
       "│ 4   │ 4           │ 1        │ 1      │\n",
       "│ 5   │ 5           │ 0        │ 3      │\n",
       "│ 6   │ 6           │ 0        │ 3      │\n",
       "│ 7   │ 7           │ 0        │ 1      │\n",
       "│ 8   │ 8           │ 0        │ 3      │\n",
       "│ 9   │ 9           │ 1        │ 3      │\n",
       "│ 10  │ 10          │ 1        │ 2      │\n",
       "⋮\n",
       "│ 881 │ 881         │ 1        │ 2      │\n",
       "│ 882 │ 882         │ 0        │ 3      │\n",
       "│ 883 │ 883         │ 0        │ 3      │\n",
       "│ 884 │ 884         │ 0        │ 2      │\n",
       "│ 885 │ 885         │ 0        │ 3      │\n",
       "│ 886 │ 886         │ 0        │ 3      │\n",
       "│ 887 │ 887         │ 0        │ 2      │\n",
       "│ 888 │ 888         │ 1        │ 1      │\n",
       "│ 889 │ 889         │ 0        │ 3      │\n",
       "│ 890 │ 890         │ 1        │ 1      │\n",
       "│ 891 │ 891         │ 0        │ 3      │"
      ]
     },
     "execution_count": 6,
     "metadata": {},
     "output_type": "execute_result"
    }
   ],
   "source": [
    "using CSV\n",
    "titanic=CSV.read(\"./train.csv\")"
   ]
  },
  {
   "cell_type": "markdown",
   "metadata": {
    "slideshow": {
     "slide_type": "slide"
    }
   },
   "source": [
    "### test.csv\n",
    "418人分の乗客情報（生死を除く）  \n",
    "この418人の生死を予測し、その制度を競う"
   ]
  },
  {
   "cell_type": "code",
   "execution_count": 7,
   "metadata": {
    "scrolled": false,
    "slideshow": {
     "slide_type": "-"
    }
   },
   "outputs": [
    {
     "data": {
      "text/html": [
       "<table class=\"data-frame\"><thead><tr><th></th><th>PassengerId</th><th>Pclass</th><th>Name</th><th>Sex</th><th>Age</th><th>SibSp</th><th>Parch</th><th>Ticket</th><th>Fare</th><th>Cabin</th><th>Embarked</th></tr><tr><th></th><th>Int64⍰</th><th>Int64⍰</th><th>String⍰</th><th>String⍰</th><th>Float64⍰</th><th>Int64⍰</th><th>Int64⍰</th><th>String⍰</th><th>Float64⍰</th><th>String⍰</th><th>String⍰</th></tr></thead><tbody><p>418 rows × 11 columns</p><tr><th>1</th><td>892</td><td>3</td><td>Kelly, Mr. James</td><td>male</td><td>34.5</td><td>0</td><td>0</td><td>330911</td><td>7.8292</td><td>missing</td><td>Q</td></tr><tr><th>2</th><td>893</td><td>3</td><td>Wilkes, Mrs. James (Ellen Needs)</td><td>female</td><td>47.0</td><td>1</td><td>0</td><td>363272</td><td>7.0</td><td>missing</td><td>S</td></tr><tr><th>3</th><td>894</td><td>2</td><td>Myles, Mr. Thomas Francis</td><td>male</td><td>62.0</td><td>0</td><td>0</td><td>240276</td><td>9.6875</td><td>missing</td><td>Q</td></tr><tr><th>4</th><td>895</td><td>3</td><td>Wirz, Mr. Albert</td><td>male</td><td>27.0</td><td>0</td><td>0</td><td>315154</td><td>8.6625</td><td>missing</td><td>S</td></tr><tr><th>5</th><td>896</td><td>3</td><td>Hirvonen, Mrs. Alexander (Helga E Lindqvist)</td><td>female</td><td>22.0</td><td>1</td><td>1</td><td>3101298</td><td>12.2875</td><td>missing</td><td>S</td></tr><tr><th>6</th><td>897</td><td>3</td><td>Svensson, Mr. Johan Cervin</td><td>male</td><td>14.0</td><td>0</td><td>0</td><td>7538</td><td>9.225</td><td>missing</td><td>S</td></tr><tr><th>7</th><td>898</td><td>3</td><td>Connolly, Miss. Kate</td><td>female</td><td>30.0</td><td>0</td><td>0</td><td>330972</td><td>7.6292</td><td>missing</td><td>Q</td></tr><tr><th>8</th><td>899</td><td>2</td><td>Caldwell, Mr. Albert Francis</td><td>male</td><td>26.0</td><td>1</td><td>1</td><td>248738</td><td>29.0</td><td>missing</td><td>S</td></tr><tr><th>9</th><td>900</td><td>3</td><td>Abrahim, Mrs. Joseph (Sophie Halaut Easu)</td><td>female</td><td>18.0</td><td>0</td><td>0</td><td>2657</td><td>7.2292</td><td>missing</td><td>C</td></tr><tr><th>10</th><td>901</td><td>3</td><td>Davies, Mr. John Samuel</td><td>male</td><td>21.0</td><td>2</td><td>0</td><td>A/4 48871</td><td>24.15</td><td>missing</td><td>S</td></tr><tr><th>11</th><td>902</td><td>3</td><td>Ilieff, Mr. Ylio</td><td>male</td><td>missing</td><td>0</td><td>0</td><td>349220</td><td>7.8958</td><td>missing</td><td>S</td></tr><tr><th>12</th><td>903</td><td>1</td><td>Jones, Mr. Charles Cresson</td><td>male</td><td>46.0</td><td>0</td><td>0</td><td>694</td><td>26.0</td><td>missing</td><td>S</td></tr><tr><th>13</th><td>904</td><td>1</td><td>Snyder, Mrs. John Pillsbury (Nelle Stevenson)</td><td>female</td><td>23.0</td><td>1</td><td>0</td><td>21228</td><td>82.2667</td><td>B45</td><td>S</td></tr><tr><th>14</th><td>905</td><td>2</td><td>Howard, Mr. Benjamin</td><td>male</td><td>63.0</td><td>1</td><td>0</td><td>24065</td><td>26.0</td><td>missing</td><td>S</td></tr><tr><th>15</th><td>906</td><td>1</td><td>Chaffee, Mrs. Herbert Fuller (Carrie Constance Toogood)</td><td>female</td><td>47.0</td><td>1</td><td>0</td><td>W.E.P. 5734</td><td>61.175</td><td>E31</td><td>S</td></tr><tr><th>16</th><td>907</td><td>2</td><td>del Carlo, Mrs. Sebastiano (Argenia Genovesi)</td><td>female</td><td>24.0</td><td>1</td><td>0</td><td>SC/PARIS 2167</td><td>27.7208</td><td>missing</td><td>C</td></tr><tr><th>17</th><td>908</td><td>2</td><td>Keane, Mr. Daniel</td><td>male</td><td>35.0</td><td>0</td><td>0</td><td>233734</td><td>12.35</td><td>missing</td><td>Q</td></tr><tr><th>18</th><td>909</td><td>3</td><td>Assaf, Mr. Gerios</td><td>male</td><td>21.0</td><td>0</td><td>0</td><td>2692</td><td>7.225</td><td>missing</td><td>C</td></tr><tr><th>19</th><td>910</td><td>3</td><td>Ilmakangas, Miss. Ida Livija</td><td>female</td><td>27.0</td><td>1</td><td>0</td><td>STON/O2. 3101270</td><td>7.925</td><td>missing</td><td>S</td></tr><tr><th>20</th><td>911</td><td>3</td><td>Assaf Khalil, Mrs. Mariana (Miriam\")\"</td><td>female</td><td>45.0</td><td>0</td><td>0</td><td>2696</td><td>7.225</td><td>missing</td><td>C</td></tr><tr><th>21</th><td>912</td><td>1</td><td>Rothschild, Mr. Martin</td><td>male</td><td>55.0</td><td>1</td><td>0</td><td>PC 17603</td><td>59.4</td><td>missing</td><td>C</td></tr><tr><th>22</th><td>913</td><td>3</td><td>Olsen, Master. Artur Karl</td><td>male</td><td>9.0</td><td>0</td><td>1</td><td>C 17368</td><td>3.1708</td><td>missing</td><td>S</td></tr><tr><th>23</th><td>914</td><td>1</td><td>Flegenheim, Mrs. Alfred (Antoinette)</td><td>female</td><td>missing</td><td>0</td><td>0</td><td>PC 17598</td><td>31.6833</td><td>missing</td><td>S</td></tr><tr><th>24</th><td>915</td><td>1</td><td>Williams, Mr. Richard Norris II</td><td>male</td><td>21.0</td><td>0</td><td>1</td><td>PC 17597</td><td>61.3792</td><td>missing</td><td>C</td></tr><tr><th>25</th><td>916</td><td>1</td><td>Ryerson, Mrs. Arthur Larned (Emily Maria Borie)</td><td>female</td><td>48.0</td><td>1</td><td>3</td><td>PC 17608</td><td>262.375</td><td>B57 B59 B63 B66</td><td>C</td></tr><tr><th>26</th><td>917</td><td>3</td><td>Robins, Mr. Alexander A</td><td>male</td><td>50.0</td><td>1</td><td>0</td><td>A/5. 3337</td><td>14.5</td><td>missing</td><td>S</td></tr><tr><th>27</th><td>918</td><td>1</td><td>Ostby, Miss. Helene Ragnhild</td><td>female</td><td>22.0</td><td>0</td><td>1</td><td>113509</td><td>61.9792</td><td>B36</td><td>C</td></tr><tr><th>28</th><td>919</td><td>3</td><td>Daher, Mr. Shedid</td><td>male</td><td>22.5</td><td>0</td><td>0</td><td>2698</td><td>7.225</td><td>missing</td><td>C</td></tr><tr><th>29</th><td>920</td><td>1</td><td>Brady, Mr. John Bertram</td><td>male</td><td>41.0</td><td>0</td><td>0</td><td>113054</td><td>30.5</td><td>A21</td><td>S</td></tr><tr><th>30</th><td>921</td><td>3</td><td>Samaan, Mr. Elias</td><td>male</td><td>missing</td><td>2</td><td>0</td><td>2662</td><td>21.6792</td><td>missing</td><td>C</td></tr><tr><th>&vellip;</th><td>&vellip;</td><td>&vellip;</td><td>&vellip;</td><td>&vellip;</td><td>&vellip;</td><td>&vellip;</td><td>&vellip;</td><td>&vellip;</td><td>&vellip;</td><td>&vellip;</td><td>&vellip;</td></tr></tbody></table>"
      ],
      "text/latex": [
       "\\begin{tabular}{r|ccccccccccc}\n",
       "\t& PassengerId & Pclass & Name & Sex & Age & SibSp & Parch & Ticket & Fare & Cabin & Embarked\\\\\n",
       "\t\\hline\n",
       "\t1 & 892 & 3 & Kelly, Mr. James & male & 34.5 & 0 & 0 & 330911 & 7.8292 &  & Q \\\\\n",
       "\t2 & 893 & 3 & Wilkes, Mrs. James (Ellen Needs) & female & 47.0 & 1 & 0 & 363272 & 7.0 &  & S \\\\\n",
       "\t3 & 894 & 2 & Myles, Mr. Thomas Francis & male & 62.0 & 0 & 0 & 240276 & 9.6875 &  & Q \\\\\n",
       "\t4 & 895 & 3 & Wirz, Mr. Albert & male & 27.0 & 0 & 0 & 315154 & 8.6625 &  & S \\\\\n",
       "\t5 & 896 & 3 & Hirvonen, Mrs. Alexander (Helga E Lindqvist) & female & 22.0 & 1 & 1 & 3101298 & 12.2875 &  & S \\\\\n",
       "\t6 & 897 & 3 & Svensson, Mr. Johan Cervin & male & 14.0 & 0 & 0 & 7538 & 9.225 &  & S \\\\\n",
       "\t7 & 898 & 3 & Connolly, Miss. Kate & female & 30.0 & 0 & 0 & 330972 & 7.6292 &  & Q \\\\\n",
       "\t8 & 899 & 2 & Caldwell, Mr. Albert Francis & male & 26.0 & 1 & 1 & 248738 & 29.0 &  & S \\\\\n",
       "\t9 & 900 & 3 & Abrahim, Mrs. Joseph (Sophie Halaut Easu) & female & 18.0 & 0 & 0 & 2657 & 7.2292 &  & C \\\\\n",
       "\t10 & 901 & 3 & Davies, Mr. John Samuel & male & 21.0 & 2 & 0 & A/4 48871 & 24.15 &  & S \\\\\n",
       "\t11 & 902 & 3 & Ilieff, Mr. Ylio & male &  & 0 & 0 & 349220 & 7.8958 &  & S \\\\\n",
       "\t12 & 903 & 1 & Jones, Mr. Charles Cresson & male & 46.0 & 0 & 0 & 694 & 26.0 &  & S \\\\\n",
       "\t13 & 904 & 1 & Snyder, Mrs. John Pillsbury (Nelle Stevenson) & female & 23.0 & 1 & 0 & 21228 & 82.2667 & B45 & S \\\\\n",
       "\t14 & 905 & 2 & Howard, Mr. Benjamin & male & 63.0 & 1 & 0 & 24065 & 26.0 &  & S \\\\\n",
       "\t15 & 906 & 1 & Chaffee, Mrs. Herbert Fuller (Carrie Constance Toogood) & female & 47.0 & 1 & 0 & W.E.P. 5734 & 61.175 & E31 & S \\\\\n",
       "\t16 & 907 & 2 & del Carlo, Mrs. Sebastiano (Argenia Genovesi) & female & 24.0 & 1 & 0 & SC/PARIS 2167 & 27.7208 &  & C \\\\\n",
       "\t17 & 908 & 2 & Keane, Mr. Daniel & male & 35.0 & 0 & 0 & 233734 & 12.35 &  & Q \\\\\n",
       "\t18 & 909 & 3 & Assaf, Mr. Gerios & male & 21.0 & 0 & 0 & 2692 & 7.225 &  & C \\\\\n",
       "\t19 & 910 & 3 & Ilmakangas, Miss. Ida Livija & female & 27.0 & 1 & 0 & STON/O2. 3101270 & 7.925 &  & S \\\\\n",
       "\t20 & 911 & 3 & Assaf Khalil, Mrs. Mariana (Miriam\")\" & female & 45.0 & 0 & 0 & 2696 & 7.225 &  & C \\\\\n",
       "\t21 & 912 & 1 & Rothschild, Mr. Martin & male & 55.0 & 1 & 0 & PC 17603 & 59.4 &  & C \\\\\n",
       "\t22 & 913 & 3 & Olsen, Master. Artur Karl & male & 9.0 & 0 & 1 & C 17368 & 3.1708 &  & S \\\\\n",
       "\t23 & 914 & 1 & Flegenheim, Mrs. Alfred (Antoinette) & female &  & 0 & 0 & PC 17598 & 31.6833 &  & S \\\\\n",
       "\t24 & 915 & 1 & Williams, Mr. Richard Norris II & male & 21.0 & 0 & 1 & PC 17597 & 61.3792 &  & C \\\\\n",
       "\t25 & 916 & 1 & Ryerson, Mrs. Arthur Larned (Emily Maria Borie) & female & 48.0 & 1 & 3 & PC 17608 & 262.375 & B57 B59 B63 B66 & C \\\\\n",
       "\t26 & 917 & 3 & Robins, Mr. Alexander A & male & 50.0 & 1 & 0 & A/5. 3337 & 14.5 &  & S \\\\\n",
       "\t27 & 918 & 1 & Ostby, Miss. Helene Ragnhild & female & 22.0 & 0 & 1 & 113509 & 61.9792 & B36 & C \\\\\n",
       "\t28 & 919 & 3 & Daher, Mr. Shedid & male & 22.5 & 0 & 0 & 2698 & 7.225 &  & C \\\\\n",
       "\t29 & 920 & 1 & Brady, Mr. John Bertram & male & 41.0 & 0 & 0 & 113054 & 30.5 & A21 & S \\\\\n",
       "\t30 & 921 & 3 & Samaan, Mr. Elias & male &  & 2 & 0 & 2662 & 21.6792 &  & C \\\\\n",
       "\t$\\dots$ & $\\dots$ & $\\dots$ & $\\dots$ & $\\dots$ & $\\dots$ & $\\dots$ & $\\dots$ & $\\dots$ & $\\dots$ & $\\dots$ & $\\dots$ \\\\\n",
       "\\end{tabular}\n"
      ],
      "text/plain": [
       "418×11 DataFrames.DataFrame. Omitted printing of 8 columns\n",
       "│ Row │ PassengerId │ Pclass │ Name                                            │\n",
       "│     │ \u001b[90mInt64⍰\u001b[39m      │ \u001b[90mInt64⍰\u001b[39m │ \u001b[90mUnion{Missing, String}\u001b[39m                          │\n",
       "├─────┼─────────────┼────────┼─────────────────────────────────────────────────┤\n",
       "│ 1   │ 892         │ 3      │ Kelly, Mr. James                                │\n",
       "│ 2   │ 893         │ 3      │ Wilkes, Mrs. James (Ellen Needs)                │\n",
       "│ 3   │ 894         │ 2      │ Myles, Mr. Thomas Francis                       │\n",
       "│ 4   │ 895         │ 3      │ Wirz, Mr. Albert                                │\n",
       "│ 5   │ 896         │ 3      │ Hirvonen, Mrs. Alexander (Helga E Lindqvist)    │\n",
       "│ 6   │ 897         │ 3      │ Svensson, Mr. Johan Cervin                      │\n",
       "│ 7   │ 898         │ 3      │ Connolly, Miss. Kate                            │\n",
       "│ 8   │ 899         │ 2      │ Caldwell, Mr. Albert Francis                    │\n",
       "│ 9   │ 900         │ 3      │ Abrahim, Mrs. Joseph (Sophie Halaut Easu)       │\n",
       "│ 10  │ 901         │ 3      │ Davies, Mr. John Samuel                         │\n",
       "⋮\n",
       "│ 408 │ 1299        │ 1      │ Widener, Mr. George Dunton                      │\n",
       "│ 409 │ 1300        │ 3      │ Riordan, Miss. Johanna Hannah\"\"                 │\n",
       "│ 410 │ 1301        │ 3      │ Peacock, Miss. Treasteall                       │\n",
       "│ 411 │ 1302        │ 3      │ Naughton, Miss. Hannah                          │\n",
       "│ 412 │ 1303        │ 1      │ Minahan, Mrs. William Edward (Lillian E Thorpe) │\n",
       "│ 413 │ 1304        │ 3      │ Henriksson, Miss. Jenny Lovisa                  │\n",
       "│ 414 │ 1305        │ 3      │ Spector, Mr. Woolf                              │\n",
       "│ 415 │ 1306        │ 1      │ Oliva y Ocana, Dona. Fermina                    │\n",
       "│ 416 │ 1307        │ 3      │ Saether, Mr. Simon Sivertsen                    │\n",
       "│ 417 │ 1308        │ 3      │ Ware, Mr. Frederick                             │\n",
       "│ 418 │ 1309        │ 3      │ Peter, Master. Michael J                        │"
      ]
     },
     "execution_count": 7,
     "metadata": {},
     "output_type": "execute_result"
    }
   ],
   "source": [
    "using CSV\n",
    "test=CSV.read(\"./test.csv\")"
   ]
  },
  {
   "cell_type": "markdown",
   "metadata": {
    "slideshow": {
     "slide_type": "slide"
    }
   },
   "source": [
    "## 乗客情報(CSVのカラム)\n",
    "* PassengerId : ID\n",
    "* Survived : 生死\n",
    "* Pclass : チケットクラス\n",
    "* Name : 名前\n",
    "* Sex : 性別\n",
    "* Age : 年齢\n",
    "* SibSp : 同乗した兄弟または配偶者の人数\n",
    "* Parch : 同乗した親または子供の人数\n",
    "* Ticket : チケット番号\n",
    "* Fare : 運賃\n",
    "* Cabin : キャビン番号\n",
    "* Embarked : 乗船港"
   ]
  },
  {
   "cell_type": "markdown",
   "metadata": {
    "slideshow": {
     "slide_type": "slide"
    }
   },
   "source": [
    "# Titanicを解いてみる"
   ]
  },
  {
   "cell_type": "markdown",
   "metadata": {
    "slideshow": {
     "slide_type": "slide"
    }
   },
   "source": [
    "# まずは軽く分析...\n",
    "## とりあえず平均生存率"
   ]
  },
  {
   "cell_type": "code",
   "execution_count": 8,
   "metadata": {},
   "outputs": [
    {
     "data": {
      "text/plain": [
       "0.3838383838383838"
      ]
     },
     "execution_count": 8,
     "metadata": {},
     "output_type": "execute_result"
    }
   ],
   "source": [
    "using CSV\n",
    "titanic = CSV.read(\"./train.csv\")\n",
    "function survive_rate(x)\n",
    "    dead = sum(x .== 0)\n",
    "    alive = sum(x .== 1)\n",
    "    return alive/(dead + alive)\n",
    "end\n",
    "survive_rate(titanic.Survived)"
   ]
  },
  {
   "cell_type": "markdown",
   "metadata": {},
   "source": [
    "## 38%"
   ]
  },
  {
   "cell_type": "markdown",
   "metadata": {
    "slideshow": {
     "slide_type": "slide"
    }
   },
   "source": [
    "## 性別\n",
    "救命ボートには女性が優先的に乗ったことは有名な話。  \n",
    "男女別で生存率を分析してみる。"
   ]
  },
  {
   "cell_type": "code",
   "execution_count": 9,
   "metadata": {},
   "outputs": [
    {
     "data": {
      "text/html": [
       "<table class=\"data-frame\"><thead><tr><th></th><th>Sex</th><th>Survived_sum</th><th>Survived_function</th><th>Survived_survive_rate</th></tr><tr><th></th><th>String⍰</th><th>Int64</th><th>Int64</th><th>Float64</th></tr></thead><tbody><p>2 rows × 4 columns</p><tr><th>1</th><td>male</td><td>109</td><td>468</td><td>0.188908</td></tr><tr><th>2</th><td>female</td><td>233</td><td>81</td><td>0.742038</td></tr></tbody></table>"
      ],
      "text/latex": [
       "\\begin{tabular}{r|cccc}\n",
       "\t& Sex & Survived\\_sum & Survived\\_function & Survived\\_survive\\_rate\\\\\n",
       "\t\\hline\n",
       "\t1 & male & 109 & 468 & 0.188908 \\\\\n",
       "\t2 & female & 233 & 81 & 0.742038 \\\\\n",
       "\\end{tabular}\n"
      ],
      "text/plain": [
       "2×4 DataFrames.DataFrame\n",
       "│ Row │ Sex     │ Survived_sum │ Survived_function │ Survived_survive_rate │\n",
       "│     │ \u001b[90mString⍰\u001b[39m │ \u001b[90mInt64\u001b[39m        │ \u001b[90mInt64\u001b[39m             │ \u001b[90mFloat64\u001b[39m               │\n",
       "├─────┼─────────┼──────────────┼───────────────────┼───────────────────────┤\n",
       "│ 1   │ male    │ 109          │ 468               │ 0.188908              │\n",
       "│ 2   │ female  │ 233          │ 81                │ 0.742038              │"
      ]
     },
     "execution_count": 9,
     "metadata": {},
     "output_type": "execute_result"
    }
   ],
   "source": [
    "using CSV\n",
    "titanic = CSV.read(\"./train.csv\")\n",
    "function survive_rate(x)\n",
    "    dead = sum(x .== 0)\n",
    "    alive = sum(x .== 1)\n",
    "    return alive/(dead + alive)\n",
    "end\n",
    "    \n",
    "CSV.by(titanic,:Sex,:Survived=>sum,:Survived=>x->sum(x.==0),:Survived => survive_rate)"
   ]
  },
  {
   "cell_type": "markdown",
   "metadata": {
    "slideshow": {
     "slide_type": "-"
    }
   },
   "source": [
    "## 生存率 男19% 女74%"
   ]
  },
  {
   "cell_type": "markdown",
   "metadata": {
    "slideshow": {
     "slide_type": "slide"
    }
   },
   "source": [
    "## 年齢"
   ]
  },
  {
   "cell_type": "code",
   "execution_count": 10,
   "metadata": {},
   "outputs": [
    {
     "data": {
      "text/plain": [
       "0.5903614457831325"
      ]
     },
     "execution_count": 10,
     "metadata": {},
     "output_type": "execute_result"
    }
   ],
   "source": [
    "titanic_age=titanic[.!ismissing.(titanic.Age),:]\n",
    "survive_rate(titanic_age[titanic_age.Age.<=15,:].Survived) # under 15 y/o"
   ]
  },
  {
   "cell_type": "markdown",
   "metadata": {},
   "source": [
    "## 15歳以下の生存率 59%"
   ]
  },
  {
   "cell_type": "markdown",
   "metadata": {
    "slideshow": {
     "slide_type": "slide"
    }
   },
   "source": [
    "## チケットクラス\n",
    "チケットクラスで死亡率を比較してみる。"
   ]
  },
  {
   "cell_type": "code",
   "execution_count": 14,
   "metadata": {},
   "outputs": [
    {
     "data": {
      "text/html": [
       "<table class=\"data-frame\"><thead><tr><th></th><th>Pclass</th><th>Survived_sum</th><th>Survived_function</th><th>Survived_survive_rate</th></tr><tr><th></th><th>Int64⍰</th><th>Int64</th><th>Int64</th><th>Float64</th></tr></thead><tbody><p>3 rows × 4 columns</p><tr><th>1</th><td>3</td><td>119</td><td>372</td><td>0.242363</td></tr><tr><th>2</th><td>1</td><td>136</td><td>80</td><td>0.62963</td></tr><tr><th>3</th><td>2</td><td>87</td><td>97</td><td>0.472826</td></tr></tbody></table>"
      ],
      "text/latex": [
       "\\begin{tabular}{r|cccc}\n",
       "\t& Pclass & Survived\\_sum & Survived\\_function & Survived\\_survive\\_rate\\\\\n",
       "\t\\hline\n",
       "\t1 & 3 & 119 & 372 & 0.242363 \\\\\n",
       "\t2 & 1 & 136 & 80 & 0.62963 \\\\\n",
       "\t3 & 2 & 87 & 97 & 0.472826 \\\\\n",
       "\\end{tabular}\n"
      ],
      "text/plain": [
       "3×4 DataFrames.DataFrame\n",
       "│ Row │ Pclass │ Survived_sum │ Survived_function │ Survived_survive_rate │\n",
       "│     │ \u001b[90mInt64⍰\u001b[39m │ \u001b[90mInt64\u001b[39m        │ \u001b[90mInt64\u001b[39m             │ \u001b[90mFloat64\u001b[39m               │\n",
       "├─────┼────────┼──────────────┼───────────────────┼───────────────────────┤\n",
       "│ 1   │ 3      │ 119          │ 372               │ 0.242363              │\n",
       "│ 2   │ 1      │ 136          │ 80                │ 0.62963               │\n",
       "│ 3   │ 2      │ 87           │ 97                │ 0.472826              │"
      ]
     },
     "execution_count": 14,
     "metadata": {},
     "output_type": "execute_result"
    }
   ],
   "source": [
    "CSV.by(titanic,:Pclass,:Survived=>sum,:Survived=>x->sum(x.==0),:Survived => survive_rate)"
   ]
  },
  {
   "cell_type": "markdown",
   "metadata": {},
   "source": [
    "## 1stクラス63% 2ndクラス47% 3rdクラス24%"
   ]
  },
  {
   "cell_type": "markdown",
   "metadata": {
    "slideshow": {
     "slide_type": "slide"
    }
   },
   "source": [
    "## 乗船した港\n",
    "* S : サウサンプトン\n",
    "* C : シェルブール\n",
    "* Q : クイーンズタウン(コーヴ)"
   ]
  },
  {
   "cell_type": "code",
   "execution_count": 12,
   "metadata": {
    "scrolled": false
   },
   "outputs": [
    {
     "data": {
      "text/html": [
       "<table class=\"data-frame\"><thead><tr><th></th><th>Embarked</th><th>Survived_sum</th><th>Survived_function</th><th>Survived_survive_rate</th></tr><tr><th></th><th>String⍰</th><th>Int64</th><th>Int64</th><th>Float64</th></tr></thead><tbody><p>4 rows × 4 columns</p><tr><th>1</th><td>S</td><td>217</td><td>427</td><td>0.336957</td></tr><tr><th>2</th><td>C</td><td>93</td><td>75</td><td>0.553571</td></tr><tr><th>3</th><td>Q</td><td>30</td><td>47</td><td>0.38961</td></tr><tr><th>4</th><td>missing</td><td>2</td><td>0</td><td>1.0</td></tr></tbody></table>"
      ],
      "text/latex": [
       "\\begin{tabular}{r|cccc}\n",
       "\t& Embarked & Survived\\_sum & Survived\\_function & Survived\\_survive\\_rate\\\\\n",
       "\t\\hline\n",
       "\t1 & S & 217 & 427 & 0.336957 \\\\\n",
       "\t2 & C & 93 & 75 & 0.553571 \\\\\n",
       "\t3 & Q & 30 & 47 & 0.38961 \\\\\n",
       "\t4 &  & 2 & 0 & 1.0 \\\\\n",
       "\\end{tabular}\n"
      ],
      "text/plain": [
       "4×4 DataFrames.DataFrame\n",
       "│ Row │ Embarked │ Survived_sum │ Survived_function │ Survived_survive_rate │\n",
       "│     │ \u001b[90mString⍰\u001b[39m  │ \u001b[90mInt64\u001b[39m        │ \u001b[90mInt64\u001b[39m             │ \u001b[90mFloat64\u001b[39m               │\n",
       "├─────┼──────────┼──────────────┼───────────────────┼───────────────────────┤\n",
       "│ 1   │ S        │ 217          │ 427               │ 0.336957              │\n",
       "│ 2   │ C        │ 93           │ 75                │ 0.553571              │\n",
       "│ 3   │ Q        │ 30           │ 47                │ 0.38961               │\n",
       "│ 4   │ \u001b[90mmissing\u001b[39m  │ 2            │ 0                 │ 1.0                   │"
      ]
     },
     "execution_count": 12,
     "metadata": {},
     "output_type": "execute_result"
    }
   ],
   "source": [
    "CSV.by(titanic,:Embarked,:Survived=>sum,:Survived=>x->sum(x.==0),:Survived => survive_rate)"
   ]
  },
  {
   "cell_type": "markdown",
   "metadata": {},
   "source": [
    "## 何故かシェルブールから乗船した人の生存率が高い (55%)"
   ]
  },
  {
   "cell_type": "markdown",
   "metadata": {
    "slideshow": {
     "slide_type": "slide"
    }
   },
   "source": [
    "## 色々調べた結果・・・\n",
    "* 男性死亡率が19% 女性死亡率が74%\n",
    "* つまり男性死亡、女性生存にしておけばだいたい77%ぐらいいける計算"
   ]
  },
  {
   "cell_type": "code",
   "execution_count": 13,
   "metadata": {},
   "outputs": [
    {
     "data": {
      "text/html": [
       "<table class=\"data-frame\"><thead><tr><th></th><th>PassengerId</th><th>Survived</th></tr><tr><th></th><th>Int64⍰</th><th>Int64</th></tr></thead><tbody><p>418 rows × 2 columns</p><tr><th>1</th><td>892</td><td>0</td></tr><tr><th>2</th><td>893</td><td>1</td></tr><tr><th>3</th><td>894</td><td>0</td></tr><tr><th>4</th><td>895</td><td>0</td></tr><tr><th>5</th><td>896</td><td>1</td></tr><tr><th>6</th><td>897</td><td>0</td></tr><tr><th>7</th><td>898</td><td>1</td></tr><tr><th>8</th><td>899</td><td>0</td></tr><tr><th>9</th><td>900</td><td>1</td></tr><tr><th>10</th><td>901</td><td>0</td></tr><tr><th>11</th><td>902</td><td>0</td></tr><tr><th>12</th><td>903</td><td>0</td></tr><tr><th>13</th><td>904</td><td>1</td></tr><tr><th>14</th><td>905</td><td>0</td></tr><tr><th>15</th><td>906</td><td>1</td></tr><tr><th>16</th><td>907</td><td>1</td></tr><tr><th>17</th><td>908</td><td>0</td></tr><tr><th>18</th><td>909</td><td>0</td></tr><tr><th>19</th><td>910</td><td>1</td></tr><tr><th>20</th><td>911</td><td>1</td></tr><tr><th>21</th><td>912</td><td>0</td></tr><tr><th>22</th><td>913</td><td>0</td></tr><tr><th>23</th><td>914</td><td>1</td></tr><tr><th>24</th><td>915</td><td>0</td></tr><tr><th>25</th><td>916</td><td>1</td></tr><tr><th>26</th><td>917</td><td>0</td></tr><tr><th>27</th><td>918</td><td>1</td></tr><tr><th>28</th><td>919</td><td>0</td></tr><tr><th>29</th><td>920</td><td>0</td></tr><tr><th>30</th><td>921</td><td>0</td></tr><tr><th>&vellip;</th><td>&vellip;</td><td>&vellip;</td></tr></tbody></table>"
      ],
      "text/latex": [
       "\\begin{tabular}{r|cc}\n",
       "\t& PassengerId & Survived\\\\\n",
       "\t\\hline\n",
       "\t1 & 892 & 0 \\\\\n",
       "\t2 & 893 & 1 \\\\\n",
       "\t3 & 894 & 0 \\\\\n",
       "\t4 & 895 & 0 \\\\\n",
       "\t5 & 896 & 1 \\\\\n",
       "\t6 & 897 & 0 \\\\\n",
       "\t7 & 898 & 1 \\\\\n",
       "\t8 & 899 & 0 \\\\\n",
       "\t9 & 900 & 1 \\\\\n",
       "\t10 & 901 & 0 \\\\\n",
       "\t11 & 902 & 0 \\\\\n",
       "\t12 & 903 & 0 \\\\\n",
       "\t13 & 904 & 1 \\\\\n",
       "\t14 & 905 & 0 \\\\\n",
       "\t15 & 906 & 1 \\\\\n",
       "\t16 & 907 & 1 \\\\\n",
       "\t17 & 908 & 0 \\\\\n",
       "\t18 & 909 & 0 \\\\\n",
       "\t19 & 910 & 1 \\\\\n",
       "\t20 & 911 & 1 \\\\\n",
       "\t21 & 912 & 0 \\\\\n",
       "\t22 & 913 & 0 \\\\\n",
       "\t23 & 914 & 1 \\\\\n",
       "\t24 & 915 & 0 \\\\\n",
       "\t25 & 916 & 1 \\\\\n",
       "\t26 & 917 & 0 \\\\\n",
       "\t27 & 918 & 1 \\\\\n",
       "\t28 & 919 & 0 \\\\\n",
       "\t29 & 920 & 0 \\\\\n",
       "\t30 & 921 & 0 \\\\\n",
       "\t$\\dots$ & $\\dots$ & $\\dots$ \\\\\n",
       "\\end{tabular}\n"
      ],
      "text/plain": [
       "418×2 DataFrames.DataFrame\n",
       "│ Row │ PassengerId │ Survived │\n",
       "│     │ \u001b[90mInt64⍰\u001b[39m      │ \u001b[90mInt64\u001b[39m    │\n",
       "├─────┼─────────────┼──────────┤\n",
       "│ 1   │ 892         │ 0        │\n",
       "│ 2   │ 893         │ 1        │\n",
       "│ 3   │ 894         │ 0        │\n",
       "│ 4   │ 895         │ 0        │\n",
       "│ 5   │ 896         │ 1        │\n",
       "│ 6   │ 897         │ 0        │\n",
       "│ 7   │ 898         │ 1        │\n",
       "│ 8   │ 899         │ 0        │\n",
       "│ 9   │ 900         │ 1        │\n",
       "│ 10  │ 901         │ 0        │\n",
       "⋮\n",
       "│ 408 │ 1299        │ 0        │\n",
       "│ 409 │ 1300        │ 1        │\n",
       "│ 410 │ 1301        │ 1        │\n",
       "│ 411 │ 1302        │ 1        │\n",
       "│ 412 │ 1303        │ 1        │\n",
       "│ 413 │ 1304        │ 1        │\n",
       "│ 414 │ 1305        │ 0        │\n",
       "│ 415 │ 1306        │ 1        │\n",
       "│ 416 │ 1307        │ 0        │\n",
       "│ 417 │ 1308        │ 0        │\n",
       "│ 418 │ 1309        │ 0        │"
      ]
     },
     "execution_count": 13,
     "metadata": {},
     "output_type": "execute_result"
    }
   ],
   "source": [
    "test = CSV.read(\"./test.csv\")\n",
    "test[ismissing.(test.Sex),:Sex]=\"male\"\n",
    "test.Survived=0\n",
    "test[test.Sex.==\"female\",:Survived]=1\n",
    "\n",
    "survive_rate(test.Survived)\n",
    "CSV.write(\"./out9.csv\",test[[:PassengerId ,:Survived]])\n",
    "test[[:PassengerId ,:Survived]]"
   ]
  },
  {
   "cell_type": "markdown",
   "metadata": {
    "slideshow": {
     "slide_type": "slide"
    }
   },
   "source": [
    "# submit結果\n",
    "### 76%\n",
    "![](./submit.png)"
   ]
  },
  {
   "cell_type": "markdown",
   "metadata": {
    "slideshow": {
     "slide_type": "slide"
    }
   },
   "source": [
    "# 最後に機械学習っぽいことを少し"
   ]
  },
  {
   "cell_type": "code",
   "execution_count": 15,
   "metadata": {},
   "outputs": [
    {
     "name": "stderr",
     "output_type": "stream",
     "text": [
      "┌ Warning: `delete!(df::AbstractDataFrame, cols::Any)` is deprecated, use `deletecols!(df, cols)` instead.\n",
      "│   caller = top-level scope at In[15]:12\n",
      "└ @ Core In[15]:12\n"
     ]
    },
    {
     "name": "stdout",
     "output_type": "stream",
     "text": [
      "0:\tlearn: 0.5514416\ttotal: 70.1ms\tremaining: 21s\n",
      "1:\tlearn: 0.5007026\ttotal: 83.5ms\tremaining: 12.4s\n",
      "2:\tlearn: 0.4742543\ttotal: 94.8ms\tremaining: 9.38s\n",
      "3:\tlearn: 0.4637403\ttotal: 106ms\tremaining: 7.86s\n",
      "4:\tlearn: 0.4592788\ttotal: 121ms\tremaining: 7.15s\n",
      "5:\tlearn: 0.4533010\ttotal: 137ms\tremaining: 6.71s\n",
      "6:\tlearn: 0.4431426\ttotal: 153ms\tremaining: 6.41s\n",
      "7:\tlearn: 0.4286018\ttotal: 164ms\tremaining: 5.99s\n",
      "8:\tlearn: 0.4272226\ttotal: 176ms\tremaining: 5.68s\n",
      "9:\tlearn: 0.4216128\ttotal: 187ms\tremaining: 5.43s\n",
      "10:\tlearn: 0.4177113\ttotal: 199ms\tremaining: 5.22s\n",
      "11:\tlearn: 0.4158312\ttotal: 209ms\tremaining: 5.01s\n",
      "12:\tlearn: 0.4124104\ttotal: 221ms\tremaining: 4.88s\n",
      "13:\tlearn: 0.4100723\ttotal: 235ms\tremaining: 4.81s\n",
      "14:\tlearn: 0.4080437\ttotal: 250ms\tremaining: 4.75s\n",
      "15:\tlearn: 0.4068036\ttotal: 262ms\tremaining: 4.65s\n",
      "16:\tlearn: 0.4062323\ttotal: 272ms\tremaining: 4.53s\n",
      "17:\tlearn: 0.4050024\ttotal: 283ms\tremaining: 4.43s\n",
      "18:\tlearn: 0.4031259\ttotal: 294ms\tremaining: 4.35s\n",
      "19:\tlearn: 0.4028348\ttotal: 306ms\tremaining: 4.28s\n",
      "20:\tlearn: 0.4022448\ttotal: 318ms\tremaining: 4.23s\n",
      "21:\tlearn: 0.4022357\ttotal: 331ms\tremaining: 4.18s\n",
      "22:\tlearn: 0.3993393\ttotal: 342ms\tremaining: 4.12s\n",
      "23:\tlearn: 0.3973265\ttotal: 354ms\tremaining: 4.07s\n",
      "24:\tlearn: 0.3967000\ttotal: 365ms\tremaining: 4.02s\n",
      "25:\tlearn: 0.3957914\ttotal: 377ms\tremaining: 3.97s\n",
      "26:\tlearn: 0.3948713\ttotal: 389ms\tremaining: 3.93s\n",
      "27:\tlearn: 0.3892758\ttotal: 402ms\tremaining: 3.9s\n",
      "28:\tlearn: 0.3890406\ttotal: 415ms\tremaining: 3.87s\n",
      "29:\tlearn: 0.3889354\ttotal: 426ms\tremaining: 3.83s\n",
      "30:\tlearn: 0.3871418\ttotal: 437ms\tremaining: 3.79s\n",
      "31:\tlearn: 0.3842256\ttotal: 448ms\tremaining: 3.75s\n",
      "32:\tlearn: 0.3816093\ttotal: 459ms\tremaining: 3.71s\n",
      "33:\tlearn: 0.3799342\ttotal: 470ms\tremaining: 3.68s\n",
      "34:\tlearn: 0.3793016\ttotal: 482ms\tremaining: 3.65s\n",
      "35:\tlearn: 0.3788080\ttotal: 494ms\tremaining: 3.62s\n",
      "36:\tlearn: 0.3782498\ttotal: 507ms\tremaining: 3.6s\n",
      "37:\tlearn: 0.3774620\ttotal: 518ms\tremaining: 3.57s\n",
      "38:\tlearn: 0.3770295\ttotal: 529ms\tremaining: 3.54s\n",
      "39:\tlearn: 0.3761204\ttotal: 540ms\tremaining: 3.51s\n",
      "40:\tlearn: 0.3757096\ttotal: 551ms\tremaining: 3.48s\n",
      "41:\tlearn: 0.3755372\ttotal: 563ms\tremaining: 3.46s\n",
      "42:\tlearn: 0.3740368\ttotal: 576ms\tremaining: 3.44s\n",
      "43:\tlearn: 0.3739120\ttotal: 587ms\tremaining: 3.41s\n",
      "44:\tlearn: 0.3736353\ttotal: 600ms\tremaining: 3.4s\n",
      "45:\tlearn: 0.3726205\ttotal: 611ms\tremaining: 3.37s\n",
      "46:\tlearn: 0.3703677\ttotal: 622ms\tremaining: 3.35s\n",
      "47:\tlearn: 0.3695470\ttotal: 634ms\tremaining: 3.33s\n",
      "48:\tlearn: 0.3686486\ttotal: 651ms\tremaining: 3.34s\n",
      "49:\tlearn: 0.3674865\ttotal: 668ms\tremaining: 3.34s\n",
      "50:\tlearn: 0.3657181\ttotal: 682ms\tremaining: 3.33s\n",
      "51:\tlearn: 0.3605134\ttotal: 694ms\tremaining: 3.31s\n",
      "52:\tlearn: 0.3600715\ttotal: 705ms\tremaining: 3.29s\n",
      "53:\tlearn: 0.3592836\ttotal: 716ms\tremaining: 3.26s\n",
      "54:\tlearn: 0.3589956\ttotal: 727ms\tremaining: 3.24s\n",
      "55:\tlearn: 0.3568225\ttotal: 739ms\tremaining: 3.22s\n",
      "56:\tlearn: 0.3564211\ttotal: 751ms\tremaining: 3.2s\n",
      "57:\tlearn: 0.3561369\ttotal: 762ms\tremaining: 3.18s\n",
      "58:\tlearn: 0.3554709\ttotal: 775ms\tremaining: 3.17s\n",
      "59:\tlearn: 0.3552622\ttotal: 787ms\tremaining: 3.15s\n",
      "60:\tlearn: 0.3550648\ttotal: 798ms\tremaining: 3.13s\n",
      "61:\tlearn: 0.3538930\ttotal: 809ms\tremaining: 3.11s\n",
      "62:\tlearn: 0.3536963\ttotal: 820ms\tremaining: 3.08s\n",
      "63:\tlearn: 0.3536015\ttotal: 831ms\tremaining: 3.06s\n",
      "64:\tlearn: 0.3532534\ttotal: 844ms\tremaining: 3.05s\n",
      "65:\tlearn: 0.3530067\ttotal: 856ms\tremaining: 3.03s\n",
      "66:\tlearn: 0.3502536\ttotal: 874ms\tremaining: 3.04s\n",
      "67:\tlearn: 0.3498304\ttotal: 885ms\tremaining: 3.02s\n",
      "68:\tlearn: 0.3469574\ttotal: 896ms\tremaining: 3s\n",
      "69:\tlearn: 0.3468762\ttotal: 906ms\tremaining: 2.98s\n",
      "70:\tlearn: 0.3467869\ttotal: 917ms\tremaining: 2.96s\n",
      "71:\tlearn: 0.3457380\ttotal: 928ms\tremaining: 2.94s\n",
      "72:\tlearn: 0.3453343\ttotal: 940ms\tremaining: 2.92s\n",
      "73:\tlearn: 0.3435287\ttotal: 953ms\tremaining: 2.91s\n",
      "74:\tlearn: 0.3425961\ttotal: 965ms\tremaining: 2.89s\n",
      "75:\tlearn: 0.3424127\ttotal: 976ms\tremaining: 2.88s\n",
      "76:\tlearn: 0.3421628\ttotal: 987ms\tremaining: 2.86s\n",
      "77:\tlearn: 0.3420203\ttotal: 998ms\tremaining: 2.84s\n",
      "78:\tlearn: 0.3416949\ttotal: 1.01s\tremaining: 2.83s\n",
      "79:\tlearn: 0.3415807\ttotal: 1.02s\tremaining: 2.81s\n",
      "80:\tlearn: 0.3415224\ttotal: 1.03s\tremaining: 2.8s\n",
      "81:\tlearn: 0.3402985\ttotal: 1.05s\tremaining: 2.79s\n",
      "82:\tlearn: 0.3393833\ttotal: 1.06s\tremaining: 2.78s\n",
      "83:\tlearn: 0.3354172\ttotal: 1.07s\tremaining: 2.76s\n",
      "84:\tlearn: 0.3348597\ttotal: 1.08s\tremaining: 2.74s\n",
      "85:\tlearn: 0.3342360\ttotal: 1.09s\tremaining: 2.73s\n",
      "86:\tlearn: 0.3323500\ttotal: 1.11s\tremaining: 2.71s\n",
      "87:\tlearn: 0.3320743\ttotal: 1.12s\tremaining: 2.7s\n",
      "88:\tlearn: 0.3319621\ttotal: 1.13s\tremaining: 2.69s\n",
      "89:\tlearn: 0.3319330\ttotal: 1.14s\tremaining: 2.67s\n",
      "90:\tlearn: 0.3318689\ttotal: 1.15s\tremaining: 2.65s\n",
      "91:\tlearn: 0.3314126\ttotal: 1.17s\tremaining: 2.64s\n",
      "92:\tlearn: 0.3312278\ttotal: 1.18s\tremaining: 2.64s\n",
      "93:\tlearn: 0.3303243\ttotal: 1.2s\tremaining: 2.63s\n",
      "94:\tlearn: 0.3294099\ttotal: 1.21s\tremaining: 2.61s\n",
      "95:\tlearn: 0.3291421\ttotal: 1.22s\tremaining: 2.6s\n",
      "96:\tlearn: 0.3289893\ttotal: 1.24s\tremaining: 2.58s\n",
      "97:\tlearn: 0.3287403\ttotal: 1.25s\tremaining: 2.57s\n",
      "98:\tlearn: 0.3276238\ttotal: 1.26s\tremaining: 2.55s\n",
      "99:\tlearn: 0.3276117\ttotal: 1.27s\tremaining: 2.54s\n",
      "100:\tlearn: 0.3268185\ttotal: 1.28s\tremaining: 2.52s\n",
      "101:\tlearn: 0.3267377\ttotal: 1.29s\tremaining: 2.51s\n",
      "102:\tlearn: 0.3259884\ttotal: 1.3s\tremaining: 2.5s\n",
      "103:\tlearn: 0.3255206\ttotal: 1.32s\tremaining: 2.49s\n",
      "104:\tlearn: 0.3254679\ttotal: 1.33s\tremaining: 2.47s\n",
      "105:\tlearn: 0.3241309\ttotal: 1.34s\tremaining: 2.45s\n",
      "106:\tlearn: 0.3240782\ttotal: 1.35s\tremaining: 2.44s\n",
      "107:\tlearn: 0.3231255\ttotal: 1.36s\tremaining: 2.43s\n",
      "108:\tlearn: 0.3230959\ttotal: 1.38s\tremaining: 2.41s\n",
      "109:\tlearn: 0.3225920\ttotal: 1.39s\tremaining: 2.4s\n",
      "110:\tlearn: 0.3221089\ttotal: 1.4s\tremaining: 2.38s\n",
      "111:\tlearn: 0.3217989\ttotal: 1.41s\tremaining: 2.37s\n",
      "112:\tlearn: 0.3213091\ttotal: 1.42s\tremaining: 2.35s\n",
      "113:\tlearn: 0.3189082\ttotal: 1.44s\tremaining: 2.35s\n",
      "114:\tlearn: 0.3188734\ttotal: 1.45s\tremaining: 2.33s\n",
      "115:\tlearn: 0.3186348\ttotal: 1.46s\tremaining: 2.31s\n",
      "116:\tlearn: 0.3184228\ttotal: 1.47s\tremaining: 2.31s\n",
      "117:\tlearn: 0.3182453\ttotal: 1.49s\tremaining: 2.3s\n",
      "118:\tlearn: 0.3179705\ttotal: 1.51s\tremaining: 2.29s\n",
      "119:\tlearn: 0.3179089\ttotal: 1.52s\tremaining: 2.28s\n",
      "120:\tlearn: 0.3176469\ttotal: 1.53s\tremaining: 2.26s\n",
      "121:\tlearn: 0.3166089\ttotal: 1.54s\tremaining: 2.25s\n",
      "122:\tlearn: 0.3165963\ttotal: 1.55s\tremaining: 2.23s\n",
      "123:\tlearn: 0.3160988\ttotal: 1.56s\tremaining: 2.22s\n",
      "124:\tlearn: 0.3152573\ttotal: 1.58s\tremaining: 2.21s\n",
      "125:\tlearn: 0.3150239\ttotal: 1.59s\tremaining: 2.19s\n",
      "126:\tlearn: 0.3146541\ttotal: 1.6s\tremaining: 2.18s\n",
      "127:\tlearn: 0.3144711\ttotal: 1.62s\tremaining: 2.18s\n",
      "128:\tlearn: 0.3144380\ttotal: 1.65s\tremaining: 2.19s\n",
      "129:\tlearn: 0.3144327\ttotal: 1.67s\tremaining: 2.19s\n",
      "130:\tlearn: 0.3143472\ttotal: 1.68s\tremaining: 2.17s\n",
      "131:\tlearn: 0.3143425\ttotal: 1.69s\tremaining: 2.16s\n",
      "132:\tlearn: 0.3135765\ttotal: 1.71s\tremaining: 2.14s\n",
      "133:\tlearn: 0.3113681\ttotal: 1.72s\tremaining: 2.13s\n",
      "134:\tlearn: 0.3110994\ttotal: 1.73s\tremaining: 2.12s\n",
      "135:\tlearn: 0.3110517\ttotal: 1.75s\tremaining: 2.1s\n",
      "136:\tlearn: 0.3110428\ttotal: 1.76s\tremaining: 2.09s\n",
      "137:\tlearn: 0.3097207\ttotal: 1.77s\tremaining: 2.08s\n",
      "138:\tlearn: 0.3093919\ttotal: 1.78s\tremaining: 2.06s\n",
      "139:\tlearn: 0.3091330\ttotal: 1.79s\tremaining: 2.05s\n",
      "140:\tlearn: 0.3081038\ttotal: 1.81s\tremaining: 2.04s\n",
      "141:\tlearn: 0.3077737\ttotal: 1.83s\tremaining: 2.03s\n",
      "142:\tlearn: 0.3075332\ttotal: 1.84s\tremaining: 2.02s\n",
      "143:\tlearn: 0.3069646\ttotal: 1.85s\tremaining: 2.01s\n",
      "144:\tlearn: 0.3069434\ttotal: 1.87s\tremaining: 2s\n",
      "145:\tlearn: 0.3062513\ttotal: 1.88s\tremaining: 1.98s\n",
      "146:\tlearn: 0.3062088\ttotal: 1.89s\tremaining: 1.97s\n",
      "147:\tlearn: 0.3051840\ttotal: 1.91s\tremaining: 1.96s\n",
      "148:\tlearn: 0.3051657\ttotal: 1.92s\tremaining: 1.95s\n",
      "149:\tlearn: 0.3041296\ttotal: 1.93s\tremaining: 1.93s\n",
      "150:\tlearn: 0.3034319\ttotal: 1.94s\tremaining: 1.92s\n",
      "151:\tlearn: 0.3032608\ttotal: 1.95s\tremaining: 1.9s\n",
      "152:\tlearn: 0.3016270\ttotal: 1.97s\tremaining: 1.89s\n",
      "153:\tlearn: 0.3008232\ttotal: 1.98s\tremaining: 1.87s\n",
      "154:\tlearn: 0.2997187\ttotal: 1.99s\tremaining: 1.86s\n",
      "155:\tlearn: 0.2994550\ttotal: 2s\tremaining: 1.85s\n",
      "156:\tlearn: 0.2994448\ttotal: 2.02s\tremaining: 1.83s\n",
      "157:\tlearn: 0.2993064\ttotal: 2.03s\tremaining: 1.82s\n",
      "158:\tlearn: 0.2987060\ttotal: 2.04s\tremaining: 1.81s\n",
      "159:\tlearn: 0.2983555\ttotal: 2.05s\tremaining: 1.79s\n",
      "160:\tlearn: 0.2983461\ttotal: 2.06s\tremaining: 1.78s\n"
     ]
    },
    {
     "data": {
      "text/plain": [
       "\"./out11.csv\""
      ]
     },
     "execution_count": 15,
     "metadata": {},
     "output_type": "execute_result"
    }
   ],
   "source": [
    "using CSV\n",
    "using PyCall\n",
    "@pyimport catboost\n",
    "train_df = CSV.read(\"./train.csv\")\n",
    "test_df = CSV.read(\"./test.csv\")\n",
    "\n",
    "# missing -> -999\n",
    "train_df[ismissing.(train_df.Age),:Age]=-999\n",
    "train_df[ismissing.(train_df.Cabin),:Cabin]= \"-999\"\n",
    "train_df[ismissing.(train_df.Embarked),:Embarked]=\"-999\"\n",
    "train_labels=train_df.Survived\n",
    "delete!(train_df,:Survived)\n",
    "\n",
    "#missing -> -999\n",
    "test_df[ismissing.(test_df.Age),:Age]=-999\n",
    "test_df[ismissing.(test_df.Cabin),:Cabin]= \"-999\"\n",
    "test_df[ismissing.(test_df.Embarked),:Embarked]=\"-999\"\n",
    "test_df[ismissing.(test_df.Fare),:Fare]=50\n",
    "\n",
    "#define model\n",
    "model = catboost.CatBoostClassifier(iterations=300, learning_rate=0.3, depth=3, loss_function=\"Logloss\")\n",
    "\n",
    "# Learnning!\n",
    "model[\"fit\"](convert(Matrix,train_df), train_labels, cat_features=[2,3,7,9,10])\n",
    "preds_class = model[\"predict\"](convert(Matrix,test_df))\n",
    "test_df.Survived=0\n",
    "test_df.Survived.=preds_class\n",
    "CSV.write(\"./out11.csv\",test_df[[:PassengerId ,:Survived]])"
   ]
  },
  {
   "cell_type": "markdown",
   "metadata": {
    "slideshow": {
     "slide_type": "slide"
    }
   },
   "source": [
    "# 結果"
   ]
  },
  {
   "cell_type": "markdown",
   "metadata": {
    "slideshow": {
     "slide_type": "slide"
    }
   },
   "source": [
    "# 上から17%\n",
    "# 微妙！\n",
    "![](./submit2.png)"
   ]
  },
  {
   "cell_type": "markdown",
   "metadata": {
    "slideshow": {
     "slide_type": "slide"
    }
   },
   "source": [
    "# 以上"
   ]
  },
  {
   "cell_type": "code",
   "execution_count": null,
   "metadata": {
    "slideshow": {
     "slide_type": "slide"
    }
   },
   "outputs": [],
   "source": []
  },
  {
   "cell_type": "code",
   "execution_count": null,
   "metadata": {
    "slideshow": {
     "slide_type": "slide"
    }
   },
   "outputs": [],
   "source": []
  },
  {
   "cell_type": "code",
   "execution_count": null,
   "metadata": {
    "slideshow": {
     "slide_type": "slide"
    }
   },
   "outputs": [],
   "source": []
  },
  {
   "cell_type": "code",
   "execution_count": null,
   "metadata": {},
   "outputs": [],
   "source": []
  },
  {
   "cell_type": "code",
   "execution_count": null,
   "metadata": {},
   "outputs": [],
   "source": []
  },
  {
   "cell_type": "code",
   "execution_count": null,
   "metadata": {},
   "outputs": [],
   "source": []
  },
  {
   "cell_type": "code",
   "execution_count": null,
   "metadata": {},
   "outputs": [],
   "source": []
  },
  {
   "cell_type": "code",
   "execution_count": null,
   "metadata": {},
   "outputs": [],
   "source": []
  },
  {
   "cell_type": "code",
   "execution_count": null,
   "metadata": {},
   "outputs": [],
   "source": []
  },
  {
   "cell_type": "markdown",
   "metadata": {},
   "source": [
    "# 超雑な方法で解いてみる\n",
    "### 判定に使う要素\n",
    "* 性別 : (男, 女)\n",
    "* 年齢 : (15歳以下, 16歳以上)\n",
    "* チケットクラス : (1st, 2nd, 3rd)\n",
    "* 港 : (S, C, Q)"
   ]
  },
  {
   "cell_type": "code",
   "execution_count": 155,
   "metadata": {},
   "outputs": [
    {
     "data": {
      "text/plain": [
       "\"./out8.csv\""
      ]
     },
     "execution_count": 155,
     "metadata": {},
     "output_type": "execute_result"
    }
   ],
   "source": [
    "test = CSV.read(\"./test.csv\")\n",
    "test[ismissing.(test.Age),:Age]=20\n",
    "test[ismissing.(test.Sex),:Sex]=\"male\"\n",
    "test[ismissing.(test.Embarked),:Embarked]=\"Q\"\n",
    "test[ismissing.(test.Pclass),:Pclass]=3\n",
    "\n",
    "\n",
    "test.Survived=0\n",
    "test[test.Sex.==\"female\",:Survived]=1\n",
    "test[test.Age.<=10,:Survived]=1\n",
    "#test[(test.Pclass.==1).&(test.Embarked.==\"C\"),:Survived]=1\n",
    "\n",
    "survive_rate(test.Survived)\n",
    "CSV.write(\"./out8.csv\",test[[:PassengerId ,:Survived]])\n"
   ]
  },
  {
   "cell_type": "code",
   "execution_count": null,
   "metadata": {},
   "outputs": [],
   "source": []
  },
  {
   "cell_type": "code",
   "execution_count": null,
   "metadata": {},
   "outputs": [],
   "source": []
  },
  {
   "cell_type": "code",
   "execution_count": null,
   "metadata": {},
   "outputs": [],
   "source": []
  },
  {
   "cell_type": "code",
   "execution_count": null,
   "metadata": {},
   "outputs": [],
   "source": []
  },
  {
   "cell_type": "code",
   "execution_count": 125,
   "metadata": {},
   "outputs": [],
   "source": [
    "titanic=CSV.read(\"./train.csv\")\n",
    "titanic[ismissing.(titanic.Age),:Age]=20\n",
    "titanic[ismissing.(titanic.Sex),:Sex]=\"male\"\n",
    "titanic[ismissing.(titanic.Embarked),:Embarked]=\"Q\"\n",
    "titanic[ismissing.(titanic.Pclass),:Pclass]=3\n",
    "\n",
    "function survive_rate(x)\n",
    "    dead = sum(x .== 0)\n",
    "    alive = sum(x .== 1)\n",
    "    return alive/(dead + alive)\n",
    "end\n",
    "\n",
    "function Point(Sex,U15,Embarked,Pclass)\n",
    "    sex = Sex==\"F\" ? 0.74 : 0.19\n",
    "    u15 = U15 ? 0.59 : 0.38\n",
    "    embarked = Embarked==\"S\" ? 0.33 : Embarked==\"C\" ? 0.55 : 0.39\n",
    "    pclass = Pclass==1 ? 0.63 : Pclass==2 ? 0.47 : 0.24\n",
    "    return sex+u15+embarked+pclass\n",
    "end\n",
    "\n",
    "function Same(df_row,titanic_row)\n",
    "    if((titanic_row.Sex==\"female\" ? \"F\" : \"M\") != df_row.Sex)\n",
    "        return false\n",
    "    end\n",
    "    if((titanic_row.Age<=15) != df_row.U15)\n",
    "        return false\n",
    "    end   \n",
    "    if(titanic_row.Embarked != df_row.Embarked)\n",
    "        return false\n",
    "    end           \n",
    "    if(titanic_row.Pclass != df_row.Pclass)\n",
    "        return false\n",
    "    end   \n",
    "    \n",
    "    return true\n",
    "end\n",
    "\n",
    "df = CSV.DataFrame(Sex=[\"M\"],U15=[true],Embarked=[\"Q\"],Pclass=[1],Point=[100.1])\n",
    "for Sex in [\"M\",\"F\"]\n",
    "    for U15 in [true,false]\n",
    "        for Embarked in [\"S\",\"Q\",\"C\"]\n",
    "            for Pclass in [1,2,3]\n",
    "                push!(df,[Sex U15 Embarked Pclass Point(Sex,U15,Embarked,Pclass)])\n",
    "            end\n",
    "        end\n",
    "    end\n",
    "end\n",
    "df=df[2:end,:]\n",
    "sort!(df,:Point,rev=true)\n",
    "\n",
    "df.ppl = 0\n",
    "for i = 1:size(df)[1]\n",
    "    for j = 1:size(titanic)[1]\n",
    "        df[i,:ppl] += Same(df[i,:],titanic[j,:]) ? 1 : 0\n",
    "    end\n",
    "end\n",
    "\n"
   ]
  },
  {
   "cell_type": "code",
   "execution_count": 126,
   "metadata": {},
   "outputs": [
    {
     "name": "stdout",
     "output_type": "stream",
     "text": [
      "360"
     ]
    }
   ],
   "source": [
    "# neary equals\n",
    "#print(size(titanic)[1]*0.38)\n",
    "print(sum(df.ppl[1:23]))"
   ]
  },
  {
   "cell_type": "code",
   "execution_count": 127,
   "metadata": {},
   "outputs": [],
   "source": [
    "test = CSV.read(\"./test.csv\")\n",
    "test[ismissing.(test.Age),:Age]=20\n",
    "test[ismissing.(test.Sex),:Sex]=\"male\"\n",
    "test[ismissing.(test.Embarked),:Embarked]=\"Q\"\n",
    "test[ismissing.(test.Pclass),:Pclass]=3\n",
    "\n",
    "test.Survived=0\n",
    "for i = 1:23\n",
    "    for j = 1:size(test)[1]\n",
    "        if(Same(df[i,:],test[j,:]))\n",
    "            test[j,:Survived]=1\n",
    "        end\n",
    "    end\n",
    "end\n",
    "\n"
   ]
  },
  {
   "cell_type": "code",
   "execution_count": 128,
   "metadata": {},
   "outputs": [
    {
     "data": {
      "text/plain": [
       "\"./out5.csv\""
      ]
     },
     "execution_count": 128,
     "metadata": {},
     "output_type": "execute_result"
    }
   ],
   "source": [
    "CSV.write(\"./out5.csv\",test[[:PassengerId ,:Survived]])"
   ]
  },
  {
   "cell_type": "markdown",
   "metadata": {
    "slideshow": {
     "slide_type": "slide"
    }
   },
   "source": [
    "## 簡単なモデルを作る"
   ]
  },
  {
   "cell_type": "code",
   "execution_count": 7,
   "metadata": {},
   "outputs": [
    {
     "data": {
      "text/plain": [
       "rate (generic function with 1 method)"
      ]
     },
     "execution_count": 7,
     "metadata": {},
     "output_type": "execute_result"
    }
   ],
   "source": [
    "# make a model\n",
    "function life_point_gen(a,b,c,d)\n",
    "    return function(person)\n",
    "        if(ismissing(person.Sex))\n",
    "            person.Sex=\"male\" \n",
    "        end\n",
    "        if(ismissing(person.Age))\n",
    "            person.Age=20\n",
    "        end\n",
    "        if(ismissing(person.Pclass))\n",
    "            person.Pclass=2\n",
    "        end\n",
    "        if(ismissing(person.Embarked))\n",
    "            person.Embarked=\"S\"\n",
    "        end\n",
    "        return a*(person.Sex == \"female\") + b*(person.Age<15) + c*(-person.Pclass) + d*(person.Embarked==\"C\")\n",
    "    end\n",
    "end\n",
    "\n",
    "function rate(a,b,c,d)\n",
    "    titanic2 = titanic\n",
    "    titanic2.life_point=1.1\n",
    "    life_point=life_point_gen(a,b,c,d)\n",
    "    for i = 1:size(titanic2)[1]\n",
    "        titanic2[i,:life_point] =life_point(titanic2[i,:])\n",
    "    end\n",
    "    sort!(titanic2,:life_point,rev=true)\n",
    "    sr=survive_rate(titanic2.Survived)\n",
    "    titanic2.Ans=0\n",
    "    ret = titanic2.life_point[convert(Int64,round(size(titanic2)[1]*sr))]\n",
    "    titanic2[1:convert(Int64,round(size(titanic2)[1]*sr)),:Ans]=1\n",
    "    correct = sum(titanic2.Survived .== titanic2.Ans)\n",
    "    incorrect = sum(titanic2.Survived .!= titanic2.Ans)\n",
    "    return correct/(correct+incorrect),ret\n",
    "end"
   ]
  },
  {
   "cell_type": "code",
   "execution_count": 361,
   "metadata": {
    "scrolled": false
   },
   "outputs": [
    {
     "name": "stdout",
     "output_type": "stream",
     "text": [
      "0.797979797979798 : 103 ,70, 35, 35 \n",
      "0.797979797979798 : 103 ,70, 35, 35 \n",
      "0.797979797979798 : 103 ,70, 35, 35 \n",
      "0.797979797979798 : 103 ,70, 35, 35 \n",
      "0.797979797979798 : 103 ,70, 35, 35 \n"
     ]
    },
    {
     "ename": "InterruptException",
     "evalue": "InterruptException:",
     "output_type": "error",
     "traceback": [
      "InterruptException:",
      "",
      "Stacktrace:",
      " [1] rate(::Int64, ::Int64, ::Int64, ::Int64) at ./In[325]:6",
      " [2] top-level scope at ./In[361]:9"
     ]
    }
   ],
   "source": [
    "a,b,c,d=103,70,35,35\n",
    "print(\"$(rate(a,b,c,d)) : $(a) ,$(b), $(c), $(d) \\n\")\n",
    "max_rate = rate(a,b,c,d)\n",
    "for i = 1:1000\n",
    "    for a1 in [a-1,a,a+1,a+2,a-2]\n",
    "        for b1 in [b-1,b,b+1,b+2,b-2]\n",
    "            for c1 in [c-1,c,c+1,c+2,c-2]\n",
    "                for d1 in [d-1,d,d+1,d+2,d-2]\n",
    "                    cur_rate=rate(a1,b1,c1,d1)\n",
    "                    if max_rate<cur_rate\n",
    "                        max_rate=cur_rate\n",
    "                        a=a1\n",
    "                        b=b1\n",
    "                        c=c1\n",
    "                        d=d1\n",
    "                        @goto out\n",
    "                    end\n",
    "                end\n",
    "            end\n",
    "        end\n",
    "    end\n",
    "    @label out\n",
    "    #rate(a,b,c,d)<rate(a+1,b,c,d) ? a = a+1 : (rate(a,b,c,d)<rate(a-1,b,c,d) ? a = a-1 : true)\n",
    "    #rate(a,b,c,d)<rate(a,b+1,c,d) ? b = b+1 : (rate(a,b,c,d)<rate(a,b-1,c,d) ? b = b-1 : true)\n",
    "    #rate(a,b,c,d)<rate(a,b,c+1,d) ? c = c+1 : (rate(a,b,c,d)<rate(a,b,c-1,d) ? c = c-1 : true)\n",
    "    #rate(a,b,c,d)<rate(a,b,c,d+1) ? d = d+1 : (rate(a,b,c,d)<rate(a,b,c,d-1) ? d = d-1 : true)\n",
    "    \n",
    "    print(\"$(rate(a,b,c,d)) : $(a) ,$(b), $(c), $(d) \\n\")\n",
    "end"
   ]
  },
  {
   "cell_type": "code",
   "execution_count": 8,
   "metadata": {},
   "outputs": [
    {
     "data": {
      "text/plain": [
       "(0.8024691358024691, -2.0)"
      ]
     },
     "execution_count": 8,
     "metadata": {},
     "output_type": "execute_result"
    }
   ],
   "source": [
    "rate(103,70,35,35 )"
   ]
  },
  {
   "cell_type": "code",
   "execution_count": 13,
   "metadata": {},
   "outputs": [
    {
     "data": {
      "text/plain": [
       "gen_ans (generic function with 1 method)"
      ]
     },
     "execution_count": 13,
     "metadata": {},
     "output_type": "execute_result"
    }
   ],
   "source": [
    "function gen_ans(a,b,c,d)\n",
    "    data=CSV.read(\"./test.csv\")\n",
    "    data.Survived=0\n",
    "    life_point=life_point_gen(a,b,c,d)\n",
    "    atleast= rate(a,b,c,d)[2]\n",
    "    for i = 1:size(data)[1]\n",
    "        data[i,:Survived] =life_point(data[i,:]) > atleast\n",
    "    end\n",
    "    return data\n",
    "end"
   ]
  },
  {
   "cell_type": "code",
   "execution_count": 23,
   "metadata": {
    "scrolled": true
   },
   "outputs": [
    {
     "data": {
      "text/plain": [
       "\"./out.csv\""
      ]
     },
     "execution_count": 23,
     "metadata": {},
     "output_type": "execute_result"
    }
   ],
   "source": [
    "data= gen_ans(103,70,35,35)\n",
    "CSV.write(\"./out.csv\",data[[:PassengerId,:Survived]])"
   ]
  },
  {
   "cell_type": "code",
   "execution_count": null,
   "metadata": {},
   "outputs": [],
   "source": []
  },
  {
   "cell_type": "code",
   "execution_count": null,
   "metadata": {},
   "outputs": [],
   "source": []
  },
  {
   "cell_type": "code",
   "execution_count": null,
   "metadata": {},
   "outputs": [],
   "source": []
  },
  {
   "cell_type": "code",
   "execution_count": null,
   "metadata": {},
   "outputs": [],
   "source": []
  },
  {
   "cell_type": "code",
   "execution_count": 369,
   "metadata": {},
   "outputs": [
    {
     "data": {
      "text/plain": [
       "rate (generic function with 3 methods)"
      ]
     },
     "execution_count": 369,
     "metadata": {},
     "output_type": "execute_result"
    }
   ],
   "source": [
    "# make a model\n",
    "function life_point_gen(a1,a2,b1,b2,c1,c2,c3,d1,d2)\n",
    "    return function(person)\n",
    "        if(ismissing(person.Sex))\n",
    "            person.Sex=\"male\" \n",
    "        end\n",
    "        if(ismissing(person.Age))\n",
    "            person.Age=20\n",
    "        end\n",
    "        if(ismissing(person.Pclass))\n",
    "            person.Pclass=2\n",
    "        end\n",
    "        if(ismissing(person.Embarked))\n",
    "            person.Embarked=\"S\"\n",
    "        end\n",
    "        return a1*(person.Sex == \"female\") + a2*(person.Sex == \"male\")+ b1*(person.Age<15) + b2*(person.Age>=15) + c1*(person.Pclass==1) + c2*(person.Pclass==2) + c3*(person.Pclass==3) + d1*(person.Embarked==\"C\") + d2*(person.Embarked!=\"C\")\n",
    "    end\n",
    "end\n",
    "\n",
    "function rate(a1,a2,b1,b2,c1,c2,c3,d1,d2)\n",
    "    titanic2 = titanic\n",
    "    titanic2.life_point=1.1\n",
    "    life_point=life_point_gen(a1,a2,b1,b2,c1,c2,c3,d1,d2)\n",
    "    for i = 1:size(titanic2)[1]\n",
    "        titanic2[i,:life_point] =life_point(titanic2[i,:])\n",
    "    end\n",
    "    sort!(titanic2,:life_point,rev=true)\n",
    "    sr=survive_rate(titanic2.Survived)\n",
    "    titanic2.Ans=0\n",
    "    titanic2[1:convert(Int64,round(size(titanic2)[1]*sr)),:Ans]=1\n",
    "    correct = sum(titanic2.Survived .== titanic2.Ans)\n",
    "    incorrect = sum(titanic2.Survived .!= titanic2.Ans)\n",
    "    return correct/(correct+incorrect)\n",
    "end"
   ]
  },
  {
   "cell_type": "code",
   "execution_count": 379,
   "metadata": {},
   "outputs": [
    {
     "name": "stdout",
     "output_type": "stream",
     "text": [
      "0.5129068462401796 : 10 ,10 ,10, 10 , 10,10,10 ,10,10 \n",
      "0.5398428731762065 : 9 ,9 ,9, 9 , 9,9,9 ,10,9 \n",
      "0.6184062850729517 : 8 ,8 ,8, 8 , 8,9,8 ,9,8 \n",
      "0.6251402918069585 : 7 ,7 ,7, 7 , 8,8,7 ,8,7 \n",
      "0.6363636363636364 : 6 ,6 ,6, 6 , 8,7,6 ,7,6 \n",
      "0.6520763187429854 : 5 ,5 ,6, 5 , 7,6,5 ,6,5 \n",
      "0.6632996632996633 : 4 ,4 ,5, 4 , 6,5,5 ,5,4 \n",
      "0.6655443322109988 : 3 ,4 ,5, 3 , 7,6,5 ,6,3 \n",
      "0.6812570145903479 : 4 ,3 ,4, 2 , 6,5,4 ,5,2 \n",
      "0.7463524130190797 : 3 ,2 ,3, 1 , 5,4,3 ,4,3 \n",
      "0.7508417508417509 : 2 ,1 ,2, 0 , 4,3,2 ,3,3 \n",
      "0.7643097643097643 : 1 ,0 ,1, -1 , 3,2,2 ,2,3 \n",
      "0.7777777777777778 : 0 ,-1 ,0, -2 , 2,2,1 ,1,2 \n",
      "0.7867564534231201 : -1 ,-2 ,-1, -3 , 1,1,0 ,1,1 \n",
      "0.7957351290684624 : -2 ,-3 ,-2, -4 , 0,0,0 ,0,0 \n",
      "0.797979797979798 : -3 ,-4 ,-3, -5 , 0,-1,-1 ,0,-1 \n",
      "0.8024691358024691 : -3 ,-5 ,-4, -6 , 0,-2,-2 ,-1,-2 \n",
      "0.7575757575757576 : -3 ,-5 ,-4, -6 , 0,-2,-2 ,-1,-2 \n",
      "0.7575757575757576 : -3 ,-5 ,-4, -6 , 0,-2,-2 ,-1,-2 \n",
      "0.7575757575757576 : -3 ,-5 ,-4, -6 , 0,-2,-2 ,-1,-2 \n"
     ]
    },
    {
     "ename": "InterruptException",
     "evalue": "InterruptException:",
     "output_type": "error",
     "traceback": [
      "InterruptException:",
      "",
      "Stacktrace:",
      " [1] getindex(::DataFrames.DataFrame, ::Int64, ::Symbol) at /opt/julia/packages/DataFrames/z2XOB/src/dataframe/dataframe.jl:262",
      " [2] getindex at /opt/julia/packages/DataFrames/z2XOB/src/dataframerow/dataframerow.jl:52 [inlined]",
      " [3] getproperty at /opt/julia/packages/DataFrames/z2XOB/src/dataframerow/dataframerow.jl:65 [inlined]",
      " [4] (::getfield(Main, Symbol(\"##65#66\")){Int64,Int64,Int64,Int64,Int64,Int64,Int64,Int64,Int64})(::DataFrames.DataFrameRow{DataFrames.DataFrame}) at ./In[369]:7",
      " [5] rate(::Int64, ::Int64, ::Int64, ::Int64, ::Int64, ::Int64, ::Int64, ::Int64, ::Int64) at ./In[369]:25",
      " [6] top-level scope at ./In[379]:14"
     ]
    }
   ],
   "source": [
    "a1,a2,b1,b2,c1,c2,c3,d1,d2=10,10,10,10,10,10,10,10,10\n",
    "print(\"$(rate(a1,a2,b1,b2,c1,c2,c3,d1,d2)) : $(a1) ,$(a2) ,$(b1), $(b2) , $(c1),$(c2),$(c3) ,$(d1),$(d2) \\n\")\n",
    "max_rate = rate(a1,a2,b1,b2,c1,c2,c3,d1,d2)\n",
    "for i = 1:1000\n",
    "    for a1_ in [a1-1,a1,a1+1]\n",
    "        for a2_ in [a2-1,a2,a2+1]\n",
    "            for b1_ in [b1-1,b1,b1+1]\n",
    "                for b2_ in [b2-1,b2,b+1]\n",
    "                    for c1_ in [c1-1,c1,c1+1]\n",
    "                        for c2_ in [c2-1,c2,c2+1]\n",
    "                            for c3_ in [c3-1,c3,c3+1]\n",
    "                                for d1_ in [d1-1,d1,d1+1]\n",
    "                                    for d2_ in [d2-1,d2,d2+1]\n",
    "                                        cur_rate=rate(a1_,a2_,b1_,b2_,c1_,c2_,c3_,d1_,d2_)\n",
    "                                        if(max_rate < cur_rate)\n",
    "                                            max_rate = cur_rate\n",
    "                                            a1,a2,b1,b2,c1,c2,c3,d1,d2=a1_,a2_,b1_,b2_,c1_,c2_,c3_,d1_,d2_\n",
    "                                            @goto out\n",
    "                                        end\n",
    "                                    end\n",
    "                                end\n",
    "                            end\n",
    "                        end\n",
    "                    end\n",
    "                end\n",
    "            end\n",
    "        end\n",
    "    end\n",
    "    @label out\n",
    "    #rate(a,b,c,d)<rate(a+1,b,c,d) ? a = a+1 : (rate(a,b,c,d)<rate(a-1,b,c,d) ? a = a-1 : true)\n",
    "    #rate(a,b,c,d)<rate(a,b+1,c,d) ? b = b+1 : (rate(a,b,c,d)<rate(a,b-1,c,d) ? b = b-1 : true)\n",
    "    #rate(a,b,c,d)<rate(a,b,c+1,d) ? c = c+1 : (rate(a,b,c,d)<rate(a,b,c-1,d) ? c = c-1 : true)\n",
    "    #rate(a,b,c,d)<rate(a,b,c,d+1) ? d = d+1 : (rate(a,b,c,d)<rate(a,b,c,d-1) ? d = d-1 : true)\n",
    "    \n",
    "    print(\"$(rate(a1,a2,b1,b2,c1,c2,c3,d1,d2)) : $(a1) ,$(a2) ,$(b1), $(b2) , $(c1),$(c2),$(c3) ,$(d1),$(d2) \\n\")\n",
    "end"
   ]
  },
  {
   "cell_type": "code",
   "execution_count": 375,
   "metadata": {},
   "outputs": [
    {
     "data": {
      "text/plain": [
       "Results of Optimization Algorithm\n",
       " * Algorithm: BFGS\n",
       " * Starting Point: [0.0,0.0,0.0,0.0,0.0,0.0,0.0,0.0,0.0]\n",
       " * Minimizer: [0.0,0.0,0.0,0.0,0.0,0.0,0.0,0.0,0.0]\n",
       " * Minimum: 0.000000e+00\n",
       " * Iterations: 0\n",
       " * Convergence: true\n",
       "   * |x - x'| ≤ 0.0e+00: false \n",
       "     |x - x'| = 1.02e-28 \n",
       "   * |f(x) - f(x')| ≤ 0.0e+00 |f(x)|: false\n",
       "     |f(x) - f(x')| = NaN |f(x)|\n",
       "   * |g(x)| ≤ 1.0e-08: true \n",
       "     |g(x)| = 0.00e+00 \n",
       "   * Stopped by an increasing objective: false\n",
       "   * Reached Maximum Number of Iterations: false\n",
       " * Objective Calls: 1\n",
       " * Gradient Calls: 1"
      ]
     },
     "execution_count": 375,
     "metadata": {},
     "output_type": "execute_result"
    }
   ],
   "source": [
    "result = optimize(rate, zeros(9), BFGS())"
   ]
  },
  {
   "cell_type": "code",
   "execution_count": 1,
   "metadata": {},
   "outputs": [
    {
     "data": {
      "text/plain": [
       "PyObject array([ 2.13455542,  0.51016295])"
      ]
     },
     "execution_count": 1,
     "metadata": {},
     "output_type": "execute_result"
    }
   ],
   "source": [
    "using PyCall\n",
    "@pyimport catboost\n",
    "cat_features = [0,1,2]\n",
    "train_data = [[\"a\",\"b\",1,4,5,6],[\"a\",\"b\",4,5,6,7],[\"c\",\"d\",30,40,50,60]]\n",
    "train_labels = [1,1,-1]\n",
    "test_data = [[\"a\",\"b\",2,4,6,8],[\"a\",\"d\",1,4,50,60]]\n",
    "# CatBoostClassifierの初期化\n",
    "model = catboost.CatBoostClassifier(iterations=2, learning_rate=1, depth=2, loss_function=\"Logloss\")\n",
    "# モデルの学習\n",
    "pycall(model[\"fit\"],Nothing,train_data, train_labels, cat_features)\n",
    "# クラス予測\n",
    "preds_class = pycall(model[\"predict\"],PyObject,test_data)\n",
    "# 各クラスの確率を予測\n",
    "preds_proba = pycall(model[\"predict_proba\"],PyObject,test_data)\n",
    "# 変換していない出力数値\n",
    "preds_raw = pycall(model[\"predict\"],PyObject,test_data, prediction_type=\"RawFormulaVal\")"
   ]
  },
  {
   "cell_type": "code",
   "execution_count": 212,
   "metadata": {},
   "outputs": [
    {
     "data": {
      "text/plain": [
       "3-element Array{Array{Any,1},1}:\n",
       " [\"a\", \"b\", 1, 4, 5, 6]    \n",
       " [\"a\", \"b\", 4, 5, 6, 7]    \n",
       " [\"c\", \"d\", 30, 40, 50, 60]"
      ]
     },
     "execution_count": 212,
     "metadata": {},
     "output_type": "execute_result"
    }
   ],
   "source": [
    "[[\"a\",\"b\",1,4,5,6],[\"a\",\"b\",4,5,6,7],[\"c\",\"d\",30,40,50,60]]"
   ]
  },
  {
   "cell_type": "code",
   "execution_count": 34,
   "metadata": {
    "slideshow": {
     "slide_type": "-"
    }
   },
   "outputs": [
    {
     "name": "stderr",
     "output_type": "stream",
     "text": [
      "┌ Info: Saved animation to \n",
      "│   fn = /home/jovyan/work/tmp.gif\n",
      "└ @ Plots /opt/julia/packages/Plots/qh1wV/src/animation.jl:90\n"
     ]
    },
    {
     "data": {
      "text/html": [
       "<img src=\"tmp.gif?0.6455143144164495>\" />"
      ],
      "text/plain": [
       "Plots.AnimatedGif(\"/home/jovyan/work/tmp.gif\")"
      ]
     },
     "execution_count": 34,
     "metadata": {},
     "output_type": "execute_result"
    }
   ],
   "source": [
    "# define the Lorenz attractor\n",
    "mutable struct Lorenz\n",
    "    dt; σ; ρ; β; x; y; z\n",
    "end\n",
    "\n",
    "function step!(l::Lorenz)\n",
    "    dx = l.σ*(l.y - l.x)       ; l.x += l.dt * dx\n",
    "    dy = l.x*(l.ρ - l.z) - l.y ; l.y += l.dt * dy\n",
    "    dz = l.x*l.y - l.β*l.z     ; l.z += l.dt * dz\n",
    "end\n",
    "\n",
    "attractor = Lorenz((dt = 0.02, σ = 10., ρ = 28., β = 8//3, x = 1., y = 1., z = 1.)...)\n",
    "\n",
    "\n",
    "# initialize a 3D plot with 1 empty series\n",
    "plt = plot3d(1, xlim=(-25,25), ylim=(-25,25), zlim=(0,50),\n",
    "                title = \"Lorenz Attractor\", marker = 2)\n",
    "\n",
    "# build an animated gif by pushing new points to the plot, saving every 10th frame\n",
    "@gif for i=1:1500\n",
    "    step!(attractor)\n",
    "    push!(plt, attractor.x, attractor.y, attractor.z)\n",
    "end every 10"
   ]
  }
 ],
 "metadata": {
  "celltoolbar": "Slideshow",
  "kernelspec": {
   "display_name": "Julia 1.0.0",
   "language": "julia",
   "name": "julia-1.0"
  },
  "language_info": {
   "file_extension": ".jl",
   "mimetype": "application/julia",
   "name": "julia",
   "version": "1.0.0"
  },
  "widgets": {
   "application/vnd.jupyter.widget-state+json": {
    "state": {},
    "version_major": 2,
    "version_minor": 0
   }
  }
 },
 "nbformat": 4,
 "nbformat_minor": 2
}
