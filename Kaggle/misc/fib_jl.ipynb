{
 "cells": [
  {
   "cell_type": "code",
   "execution_count": 37,
   "metadata": {
    "scrolled": true
   },
   "outputs": [
    {
     "data": {
      "text/plain": [
       "fib_t (generic function with 2 methods)"
      ]
     },
     "execution_count": 37,
     "metadata": {},
     "output_type": "execute_result"
    }
   ],
   "source": [
    "using CSV\n",
    "using Dates\n",
    "\n",
    "fib(n) = n<=1 ? 1 : fib(n-2)+fib(n-1)\n",
    "\n",
    "function fib_t(n)\n",
    "    start =Dates.now()\n",
    "    fib(n)\n",
    "    finish = Dates.now()\n",
    "    return finish - start \n",
    "end"
   ]
  },
  {
   "cell_type": "code",
   "execution_count": 55,
   "metadata": {},
   "outputs": [
    {
     "ename": "InexactError",
     "evalue": "InexactError: divexact(Int64, 1.039)",
     "output_type": "error",
     "traceback": [
      "InexactError: divexact(Int64, 1.039)",
      "",
      "Stacktrace:",
      " [1] divexact(::Int64, ::Int64) at /buildworker/worker/package_linux64/build/usr/share/julia/stdlib/v1.0/Dates/src/periods.jl:401",
      " [2] convert(::Type{Second}, ::Millisecond) at /buildworker/worker/package_linux64/build/usr/share/julia/stdlib/v1.0/Dates/src/periods.jl:428",
      " [3] top-level scope at In[55]:1"
     ]
    }
   ],
   "source": [
    "convert(Dates.Second ,Dates.Period(fib_t(40)))"
   ]
  },
  {
   "cell_type": "code",
   "execution_count": 7,
   "metadata": {},
   "outputs": [
    {
     "data": {
      "text/html": [
       "<table class=\"data-frame\"><thead><tr><th></th><th>fib</th><th>R</th><th>Python</th><th>Julia</th></tr><tr><th></th><th>Int64⍰</th><th>Float64⍰</th><th>Float64⍰</th><th>Float64⍰</th></tr></thead><tbody><p>1 rows × 4 columns</p><tr><th>1</th><td>1</td><td>1.1</td><td>1.1</td><td>1.1</td></tr></tbody></table>"
      ],
      "text/latex": [
       "\\begin{tabular}{r|cccc}\n",
       "\t& fib & R & Python & Julia\\\\\n",
       "\t\\hline\n",
       "\t1 & 1 & 1.1 & 1.1 & 1.1 \\\\\n",
       "\\end{tabular}\n"
      ],
      "text/plain": [
       "1×4 DataFrames.DataFrame\n",
       "│ Row │ fib    │ R        │ Python   │ Julia    │\n",
       "│     │ \u001b[90mInt64⍰\u001b[39m │ \u001b[90mFloat64⍰\u001b[39m │ \u001b[90mFloat64⍰\u001b[39m │ \u001b[90mFloat64⍰\u001b[39m │\n",
       "├─────┼────────┼──────────┼──────────┼──────────┤\n",
       "│ 1   │ 1      │ 1.1      │ 1.1      │ 1.1      │"
      ]
     },
     "execution_count": 7,
     "metadata": {},
     "output_type": "execute_result"
    }
   ],
   "source": [
    "score = CSV.read(\"./fib_score.csv\")"
   ]
  },
  {
   "cell_type": "code",
   "execution_count": 42,
   "metadata": {},
   "outputs": [],
   "source": [
    "for i=1:30\n",
    "    push!(score,[1,1,1,1])\n",
    "end"
   ]
  },
  {
   "cell_type": "code",
   "execution_count": 43,
   "metadata": {},
   "outputs": [
    {
     "data": {
      "text/plain": [
       "(63, 4)"
      ]
     },
     "execution_count": 43,
     "metadata": {},
     "output_type": "execute_result"
    }
   ],
   "source": [
    "size(score)"
   ]
  },
  {
   "cell_type": "code",
   "execution_count": 44,
   "metadata": {},
   "outputs": [
    {
     "data": {
      "text/plain": [
       "1:63"
      ]
     },
     "execution_count": 44,
     "metadata": {},
     "output_type": "execute_result"
    }
   ],
   "source": [
    "score.fib = 1:size(score)[1]"
   ]
  },
  {
   "cell_type": "code",
   "execution_count": 99,
   "metadata": {
    "collapsed": true
   },
   "outputs": [
    {
     "data": {
      "text/plain": [
       "40-element Array{Float64,1}:\n",
       " 0.0  \n",
       " 0.0  \n",
       " 0.0  \n",
       " 0.0  \n",
       " 0.0  \n",
       " 0.0  \n",
       " 0.0  \n",
       " 0.0  \n",
       " 0.0  \n",
       " 0.0  \n",
       " 0.0  \n",
       " 0.0  \n",
       " 0.0  \n",
       " ⋮    \n",
       " 0.005\n",
       " 0.009\n",
       " 0.014\n",
       " 0.022\n",
       " 0.035\n",
       " 0.058\n",
       " 0.093\n",
       " 0.153\n",
       " 0.249\n",
       " 0.415\n",
       " 0.647\n",
       " 1.045"
      ]
     },
     "execution_count": 99,
     "metadata": {},
     "output_type": "execute_result"
    }
   ],
   "source": [
    "score.Julia[1:40]=(x -> x.value/1000).(fib_t.(1:40))"
   ]
  },
  {
   "cell_type": "code",
   "execution_count": 103,
   "metadata": {},
   "outputs": [
    {
     "data": {
      "text/plain": [
       "\"./fib_score.csv\""
      ]
     },
     "execution_count": 103,
     "metadata": {},
     "output_type": "execute_result"
    }
   ],
   "source": [
    "CSV.write(\"./fib_score.csv\",score)"
   ]
  }
 ],
 "metadata": {
  "kernelspec": {
   "display_name": "Julia 1.0.0",
   "language": "julia",
   "name": "julia-1.0"
  },
  "language_info": {
   "file_extension": ".jl",
   "mimetype": "application/julia",
   "name": "julia",
   "version": "1.0.0"
  }
 },
 "nbformat": 4,
 "nbformat_minor": 2
}
